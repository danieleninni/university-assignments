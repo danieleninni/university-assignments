{
 "cells": [
  {
   "cell_type": "markdown",
   "id": "7d12107b",
   "metadata": {},
   "source": [
    "# Kafka Consumer group"
   ]
  },
  {
   "cell_type": "code",
   "execution_count": null,
   "id": "b0fb21de",
   "metadata": {},
   "outputs": [],
   "source": [
    "# set this variable with one of the following values\n",
    "# -> 'local'\n",
    "# -> 'docker_cluster'\n",
    "CLUSTER_TYPE ='docker_cluster'"
   ]
  },
  {
   "cell_type": "code",
   "execution_count": null,
   "id": "471f760e",
   "metadata": {},
   "outputs": [],
   "source": [
    "KAFKA_BOOTSTRAP_SERVERS = ''\n",
    "\n",
    "if CLUSTER_TYPE == 'local':\n",
    "\n",
    "    KAFKA_BOOTSTRAP_SERVERS = 'localhost:9092'\n",
    "    \n",
    "elif CLUSTER_TYPE == 'docker_cluster':\n",
    "\n",
    "    KAFKA_BOOTSTRAP_SERVERS = 'kafka-broker:9092'"
   ]
  },
  {
   "cell_type": "code",
   "execution_count": null,
   "id": "a3d28578",
   "metadata": {},
   "outputs": [],
   "source": [
    "! pip install kafka-python confluent-kafka"
   ]
  },
  {
   "cell_type": "code",
   "execution_count": null,
   "id": "5b3e602c",
   "metadata": {},
   "outputs": [],
   "source": [
    "from kafka import KafkaConsumer"
   ]
  },
  {
   "cell_type": "code",
   "execution_count": null,
   "id": "874e6a4c",
   "metadata": {},
   "outputs": [],
   "source": [
    "# create one consumer_two to read from 1 partition\n",
    "# assign this consumer to a group\n",
    "consumer_two = KafkaConsumer(bootstrap_servers=[KAFKA_BOOTSTRAP_SERVERS],\n",
    "                             client_id='consumer_two',\n",
    "                             group_id='my_group',\n",
    "                             auto_offset_reset='earliest',\n",
    "                             consumer_timeout_ms=10000)"
   ]
  },
  {
   "cell_type": "code",
   "execution_count": null,
   "id": "91d2a9f4",
   "metadata": {},
   "outputs": [],
   "source": [
    "from kafka import ConsumerRebalanceListener\n",
    "# subscribe this specific consumer to the partitioned topic\n",
    "consumer_two.subscribe('a_partitioned_topic',\n",
    "                       listener=ConsumerRebalanceListener())"
   ]
  },
  {
   "cell_type": "code",
   "execution_count": null,
   "id": "f146d9e9",
   "metadata": {
    "scrolled": true
   },
   "outputs": [],
   "source": [
    "consumer_two.assignment()"
   ]
  },
  {
   "cell_type": "code",
   "execution_count": null,
   "id": "f54b91a7",
   "metadata": {},
   "outputs": [],
   "source": [
    "# Use multiple consumers in parallel --> typically you would run each on a different thread / process / executor\n",
    "for message in consumer_two:\n",
    "    print (\"%d:%d: k=%s v=%s\" % (message.partition,\n",
    "                          message.offset,\n",
    "                          message.key,\n",
    "                          message.value))"
   ]
  },
  {
   "cell_type": "code",
   "execution_count": null,
   "id": "fea07e40",
   "metadata": {},
   "outputs": [],
   "source": []
  }
 ],
 "metadata": {
  "kernelspec": {
   "display_name": "Python 3 (ipykernel)",
   "language": "python",
   "name": "python3"
  },
  "language_info": {
   "codemirror_mode": {
    "name": "ipython",
    "version": 3
   },
   "file_extension": ".py",
   "mimetype": "text/x-python",
   "name": "python",
   "nbconvert_exporter": "python",
   "pygments_lexer": "ipython3",
   "version": "3.9.5"
  }
 },
 "nbformat": 4,
 "nbformat_minor": 5
}
