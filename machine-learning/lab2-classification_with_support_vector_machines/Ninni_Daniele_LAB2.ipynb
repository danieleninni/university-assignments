{
 "cells": [
  {
   "cell_type": "markdown",
   "metadata": {},
   "source": [
    "# Kuzushiji Classification with Support Vector Machines\n",
    "\n",
    "In this notebook we are going to explore the use of Support Vector Machines (SVM) for image classification. We will use a variant of the famous MNIST dataset (the original is a dataset of handwritten digits). The version we are going to use is called Kuzushiji-MNIST or K-MNIST for short (https://github.com/rois-codh/kmnist) and is a dataset of traditional japanese handwritten kana.\n",
    "\n",
    "The dataset labels are the following:\n",
    "\n",
    "| Label | Hiragana Character | Romanji (Pronunciation) |\n",
    "| :-: | :-: | :-: |\n",
    "|   0   | お | o |\n",
    "| 1 | き | ki |\n",
    "| 2 | す | su |\n",
    "| 3 | つ | tsu |\n",
    "| 4 | な | na |\n",
    "| 5 | は | ha |\n",
    "| 6 | ま | ma |\n",
    "| 7 | や | ya |\n",
    "| 8 | れ | re |\n",
    "| 9 | を | wo |"
   ]
  },
  {
   "cell_type": "markdown",
   "metadata": {},
   "source": [
    "## TO DO: Insert your surname, name and ID number\n",
    "\n",
    "Student surname: Ninni\n",
    "\n",
    "Student name: Daniele\n",
    "    \n",
    "ID: 2044721"
   ]
  },
  {
   "cell_type": "code",
   "execution_count": 1,
   "metadata": {},
   "outputs": [],
   "source": [
    "# load the required packages\n",
    "%matplotlib inline\n",
    "import numpy as np\n",
    "import scipy as sp\n",
    "import matplotlib.pyplot as plt\n",
    "import sklearn\n",
    "from sklearn.datasets import fetch_openml\n",
    "from sklearn.neural_network import MLPClassifier\n",
    "from sklearn.decomposition import PCA\n",
    "import sklearn.metrics as skm"
   ]
  },
  {
   "cell_type": "code",
   "execution_count": 2,
   "metadata": {},
   "outputs": [],
   "source": [
    "# helper function to load Kuzushiji-MNIST dataset\n",
    "def load_mnist(path, kind='train'):\n",
    "    import os\n",
    "    import gzip\n",
    "    import numpy as np\n",
    "    labels_path = os.path.join(path, 'K%s-labels-idx1-ubyte.gz' % kind)\n",
    "    images_path = os.path.join(path, 'K%s-images-idx3-ubyte.gz' % kind)\n",
    "    with gzip.open(labels_path, 'rb') as lbpath:\n",
    "        labels = np.frombuffer(lbpath.read(), dtype=np.uint8, offset=8)\n",
    "    with gzip.open(images_path, 'rb') as imgpath:\n",
    "        images = np.frombuffer(imgpath.read(), dtype=np.uint8, offset=16).reshape(len(labels), 784)\n",
    "    return images, labels"
   ]
  },
  {
   "cell_type": "code",
   "execution_count": 3,
   "metadata": {},
   "outputs": [],
   "source": [
    "# fix your ID (\"numero di matricola\") and the seed for random generator (as usual you can try different seeds)\n",
    "ID = 2044721   # place a random seed\n",
    "np.random.seed(ID)"
   ]
  },
  {
   "cell_type": "code",
   "execution_count": 4,
   "metadata": {},
   "outputs": [
    {
     "name": "stdout",
     "output_type": "stream",
     "text": [
      "X.shape = (60000, 784)\n",
      "y.shape = (60000,)\n"
     ]
    }
   ],
   "source": [
    "# load the K-MNIST dataset from the 'data' folder and let's normalize the features so that each value is in [0,1] \n",
    "X, y = load_mnist('data', kind='train')\n",
    "\n",
    "# rescale the data\n",
    "X, y = X/255., y   # original pixel values are between 0 and 255\n",
    "\n",
    "print('X.shape =', X.shape)\n",
    "print('y.shape =', y.shape)"
   ]
  },
  {
   "cell_type": "markdown",
   "metadata": {},
   "source": [
    "Now split into training and test. Make sure that each label is present at least 10 times in training. If it is not, then keep adding permutations to the initial data until this happens."
   ]
  },
  {
   "cell_type": "code",
   "execution_count": 5,
   "metadata": {},
   "outputs": [
    {
     "name": "stdout",
     "output_type": "stream",
     "text": [
      "Labels in the training dataset: [0 1 2 3 4 5 6 7 8 9]\n",
      "Frequencies in the training dataset: [ 93 105 113  96  94 104 108 100  90  97]\n"
     ]
    }
   ],
   "source": [
    "# random permute the data and split into training and test taking the first 1000 data samples as training and 4000 samples as test\n",
    "permutation = np.random.permutation(X.shape[0])\n",
    "X = X[permutation]\n",
    "y = y[permutation]\n",
    "\n",
    "m_training = 1000\n",
    "m_test = 4000\n",
    "\n",
    "X_train, X_test = X[:m_training], X[m_training:m_training+m_test:]\n",
    "y_train, y_test = y[:m_training], y[m_training:m_training+m_test:]\n",
    "\n",
    "labels, freqs = np.unique(y_train, return_counts=True)\n",
    "\n",
    "# making sure that each label is present at least 10 times in 'y_train'\n",
    "while np.any(freqs<10) == True:\n",
    "    permutation = np.random.permutation(X.shape[0])\n",
    "    X = X[permutation]\n",
    "    y = y[permutation]\n",
    "    X_train, X_test = X[:m_training], X[m_training:m_training+m_test:]\n",
    "    y_train, y_test = y[:m_training], y[m_training:m_training+m_test:]\n",
    "    labels, freqs = np.unique(y_train, return_counts=True)\n",
    "\n",
    "print(\"Labels in the training dataset:\", labels)\n",
    "print(\"Frequencies in the training dataset:\", freqs)"
   ]
  },
  {
   "cell_type": "code",
   "execution_count": 6,
   "metadata": {},
   "outputs": [],
   "source": [
    "# function for plotting a image and printing the corresponding label\n",
    "def plot_input(X_matrix, labels, index):\n",
    "    print(\"INPUT:\")\n",
    "    plt.imshow(\n",
    "        X_matrix[index].reshape(28,28),\n",
    "        cmap          = plt.cm.gray_r,\n",
    "        interpolation = \"nearest\"\n",
    "    )\n",
    "    plt.show()\n",
    "    print(\"LABEL: %i\" % labels[index])\n",
    "    return"
   ]
  },
  {
   "cell_type": "code",
   "execution_count": 7,
   "metadata": {},
   "outputs": [
    {
     "name": "stdout",
     "output_type": "stream",
     "text": [
      "INPUT:\n"
     ]
    },
    {
     "data": {
      "image/png": "[encoded data removed]",
      "text/plain": [
       "<Figure size 432x288 with 1 Axes>"
      ]
     },
     "metadata": {
      "needs_background": "light"
     },
     "output_type": "display_data"
    },
    {
     "name": "stdout",
     "output_type": "stream",
     "text": [
      "LABEL: 9\n",
      "\n",
      "\n",
      "\n",
      "INPUT:\n"
     ]
    },
    {
     "data": {
      "image/png": "[encoded data removed]",
      "text/plain": [
       "<Figure size 432x288 with 1 Axes>"
      ]
     },
     "metadata": {
      "needs_background": "light"
     },
     "output_type": "display_data"
    },
    {
     "name": "stdout",
     "output_type": "stream",
     "text": [
      "LABEL: 5\n",
      "\n",
      "\n",
      "\n",
      "INPUT:\n"
     ]
    },
    {
     "data": {
      "image/png": "[encoded data removed]",
      "text/plain": [
       "<Figure size 432x288 with 1 Axes>"
      ]
     },
     "metadata": {
      "needs_background": "light"
     },
     "output_type": "display_data"
    },
    {
     "name": "stdout",
     "output_type": "stream",
     "text": [
      "LABEL: 1\n",
      "\n",
      "\n",
      "\n",
      "INPUT:\n"
     ]
    },
    {
     "data": {
      "image/png": "[encoded data removed]",
      "text/plain": [
       "<Figure size 432x288 with 1 Axes>"
      ]
     },
     "metadata": {
      "needs_background": "light"
     },
     "output_type": "display_data"
    },
    {
     "name": "stdout",
     "output_type": "stream",
     "text": [
      "LABEL: 7\n"
     ]
    }
   ],
   "source": [
    "# let's try the plotting function\n",
    "plot_input(X_train,y_train,5)\n",
    "print(\"\\n\\n\")\n",
    "plot_input(X_test,y_test,50)\n",
    "print(\"\\n\\n\")\n",
    "plot_input(X_test,y_test,500)\n",
    "print(\"\\n\\n\")\n",
    "plot_input(X_test,y_test,700)"
   ]
  },
  {
   "cell_type": "markdown",
   "metadata": {},
   "source": [
    "## TO DO 1\n",
    "\n",
    "Use a SVM classifier with cross validation to pick a model. Use a 4-fold cross-validation. Let's start with a Linear kernel:"
   ]
  },
  {
   "cell_type": "code",
   "execution_count": 8,
   "metadata": {},
   "outputs": [
    {
     "name": "stdout",
     "output_type": "stream",
     "text": [
      "RESULTS FOR LINEAR KERNEL\n",
      "Best parameters set found: {'C': 0.01}\n",
      "Score with best parameters: 0.766\n",
      "All scores on the grid:\n"
     ]
    },
    {
     "data": {
      "text/html": [
       "<div>\n",
       "<style scoped>\n",
       "    .dataframe tbody tr th:only-of-type {\n",
       "        vertical-align: middle;\n",
       "    }\n",
       "\n",
       "    .dataframe tbody tr th {\n",
       "        vertical-align: top;\n",
       "    }\n",
       "\n",
       "    .dataframe thead th {\n",
       "        text-align: right;\n",
       "    }\n",
       "</style>\n",
       "<table border=\"1\" class=\"dataframe\">\n",
       "  <thead>\n",
       "    <tr style=\"text-align: right;\">\n",
       "      <th></th>\n",
       "      <th>mean_fit_time</th>\n",
       "      <th>std_fit_time</th>\n",
       "      <th>mean_score_time</th>\n",
       "      <th>std_score_time</th>\n",
       "      <th>param_C</th>\n",
       "      <th>params</th>\n",
       "      <th>split0_test_score</th>\n",
       "      <th>split1_test_score</th>\n",
       "      <th>split2_test_score</th>\n",
       "      <th>split3_test_score</th>\n",
       "      <th>mean_test_score</th>\n",
       "      <th>std_test_score</th>\n",
       "      <th>rank_test_score</th>\n",
       "    </tr>\n",
       "  </thead>\n",
       "  <tbody>\n",
       "    <tr>\n",
       "      <th>0</th>\n",
       "      <td>0.092091</td>\n",
       "      <td>0.012031</td>\n",
       "      <td>0.037096</td>\n",
       "      <td>0.013021</td>\n",
       "      <td>0.01</td>\n",
       "      <td>{'C': 0.01}</td>\n",
       "      <td>0.760</td>\n",
       "      <td>0.732</td>\n",
       "      <td>0.816</td>\n",
       "      <td>0.756</td>\n",
       "      <td>0.766</td>\n",
       "      <td>0.030790</td>\n",
       "      <td>1</td>\n",
       "    </tr>\n",
       "    <tr>\n",
       "      <th>1</th>\n",
       "      <td>0.082770</td>\n",
       "      <td>0.006457</td>\n",
       "      <td>0.030852</td>\n",
       "      <td>0.001580</td>\n",
       "      <td>0.1</td>\n",
       "      <td>{'C': 0.1}</td>\n",
       "      <td>0.784</td>\n",
       "      <td>0.704</td>\n",
       "      <td>0.788</td>\n",
       "      <td>0.780</td>\n",
       "      <td>0.764</td>\n",
       "      <td>0.034756</td>\n",
       "      <td>2</td>\n",
       "    </tr>\n",
       "    <tr>\n",
       "      <th>2</th>\n",
       "      <td>0.090473</td>\n",
       "      <td>0.003417</td>\n",
       "      <td>0.028898</td>\n",
       "      <td>0.004337</td>\n",
       "      <td>1</td>\n",
       "      <td>{'C': 1}</td>\n",
       "      <td>0.784</td>\n",
       "      <td>0.696</td>\n",
       "      <td>0.780</td>\n",
       "      <td>0.788</td>\n",
       "      <td>0.762</td>\n",
       "      <td>0.038210</td>\n",
       "      <td>3</td>\n",
       "    </tr>\n",
       "    <tr>\n",
       "      <th>3</th>\n",
       "      <td>0.085389</td>\n",
       "      <td>0.004281</td>\n",
       "      <td>0.023763</td>\n",
       "      <td>0.005598</td>\n",
       "      <td>10</td>\n",
       "      <td>{'C': 10}</td>\n",
       "      <td>0.784</td>\n",
       "      <td>0.696</td>\n",
       "      <td>0.780</td>\n",
       "      <td>0.788</td>\n",
       "      <td>0.762</td>\n",
       "      <td>0.038210</td>\n",
       "      <td>3</td>\n",
       "    </tr>\n",
       "  </tbody>\n",
       "</table>\n",
       "</div>"
      ],
      "text/plain": [
       "   mean_fit_time  std_fit_time  mean_score_time  std_score_time param_C  \\\n",
       "0       0.092091      0.012031         0.037096        0.013021    0.01   \n",
       "1       0.082770      0.006457         0.030852        0.001580     0.1   \n",
       "2       0.090473      0.003417         0.028898        0.004337       1   \n",
       "3       0.085389      0.004281         0.023763        0.005598      10   \n",
       "\n",
       "        params  split0_test_score  split1_test_score  split2_test_score  \\\n",
       "0  {'C': 0.01}              0.760              0.732              0.816   \n",
       "1   {'C': 0.1}              0.784              0.704              0.788   \n",
       "2     {'C': 1}              0.784              0.696              0.780   \n",
       "3    {'C': 10}              0.784              0.696              0.780   \n",
       "\n",
       "   split3_test_score  mean_test_score  std_test_score  rank_test_score  \n",
       "0              0.756            0.766        0.030790                1  \n",
       "1              0.780            0.764        0.034756                2  \n",
       "2              0.788            0.762        0.038210                3  \n",
       "3              0.788            0.762        0.038210                3  "
      ]
     },
     "execution_count": 8,
     "metadata": {},
     "output_type": "execute_result"
    }
   ],
   "source": [
    "# import SVC\n",
    "from sklearn.svm import SVC\n",
    "# import for Cross-Validation\n",
    "from sklearn.model_selection import GridSearchCV\n",
    "\n",
    "K = 4   # number of folds\n",
    "\n",
    "# parameters for linear SVM\n",
    "parameters = {'C':[0.01, 0.1, 1, 10]}\n",
    "\n",
    "# train linear SVM\n",
    "lin_svc = SVC(kernel='linear')\n",
    "lin_clf = GridSearchCV(lin_svc, parameters, cv=K)\n",
    "lin_clf.fit(X_train, y_train)\n",
    "\n",
    "print('RESULTS FOR LINEAR KERNEL')\n",
    "print(\"Best parameters set found:\", lin_clf.best_params_)\n",
    "print(\"Score with best parameters:\", lin_clf.best_score_)\n",
    "print(\"All scores on the grid:\")\n",
    "import pandas as pd\n",
    "lin_results = pd.DataFrame(lin_clf.cv_results_)\n",
    "lin_results"
   ]
  },
  {
   "cell_type": "markdown",
   "metadata": {},
   "source": [
    "## TO DO 2\n",
    "\n",
    "Pick a model for the Polynomial kernel of degree 2:"
   ]
  },
  {
   "cell_type": "code",
   "execution_count": 9,
   "metadata": {},
   "outputs": [
    {
     "name": "stdout",
     "output_type": "stream",
     "text": [
      "RESULTS FOR POLYNOMIAL KERNEL OF DEGREE 2\n",
      "Best parameters set found: {'C': 0.01, 'gamma': 0.1}\n",
      "Score with best parameters: 0.792\n",
      "All scores on the grid:\n"
     ]
    },
    {
     "data": {
      "text/html": [
       "<div>\n",
       "<style scoped>\n",
       "    .dataframe tbody tr th:only-of-type {\n",
       "        vertical-align: middle;\n",
       "    }\n",
       "\n",
       "    .dataframe tbody tr th {\n",
       "        vertical-align: top;\n",
       "    }\n",
       "\n",
       "    .dataframe thead th {\n",
       "        text-align: right;\n",
       "    }\n",
       "</style>\n",
       "<table border=\"1\" class=\"dataframe\">\n",
       "  <thead>\n",
       "    <tr style=\"text-align: right;\">\n",
       "      <th></th>\n",
       "      <th>mean_fit_time</th>\n",
       "      <th>std_fit_time</th>\n",
       "      <th>mean_score_time</th>\n",
       "      <th>std_score_time</th>\n",
       "      <th>param_C</th>\n",
       "      <th>param_gamma</th>\n",
       "      <th>params</th>\n",
       "      <th>split0_test_score</th>\n",
       "      <th>split1_test_score</th>\n",
       "      <th>split2_test_score</th>\n",
       "      <th>split3_test_score</th>\n",
       "      <th>mean_test_score</th>\n",
       "      <th>std_test_score</th>\n",
       "      <th>rank_test_score</th>\n",
       "    </tr>\n",
       "  </thead>\n",
       "  <tbody>\n",
       "    <tr>\n",
       "      <th>0</th>\n",
       "      <td>0.158798</td>\n",
       "      <td>0.004329</td>\n",
       "      <td>0.063793</td>\n",
       "      <td>0.002073</td>\n",
       "      <td>0.01</td>\n",
       "      <td>0.01</td>\n",
       "      <td>{'C': 0.01, 'gamma': 0.01}</td>\n",
       "      <td>0.112</td>\n",
       "      <td>0.112</td>\n",
       "      <td>0.112</td>\n",
       "      <td>0.116</td>\n",
       "      <td>0.113</td>\n",
       "      <td>0.001732</td>\n",
       "      <td>9</td>\n",
       "    </tr>\n",
       "    <tr>\n",
       "      <th>1</th>\n",
       "      <td>0.122504</td>\n",
       "      <td>0.013089</td>\n",
       "      <td>0.056005</td>\n",
       "      <td>0.009785</td>\n",
       "      <td>0.01</td>\n",
       "      <td>0.1</td>\n",
       "      <td>{'C': 0.01, 'gamma': 0.1}</td>\n",
       "      <td>0.808</td>\n",
       "      <td>0.760</td>\n",
       "      <td>0.812</td>\n",
       "      <td>0.788</td>\n",
       "      <td>0.792</td>\n",
       "      <td>0.020591</td>\n",
       "      <td>1</td>\n",
       "    </tr>\n",
       "    <tr>\n",
       "      <th>2</th>\n",
       "      <td>0.121045</td>\n",
       "      <td>0.007124</td>\n",
       "      <td>0.037613</td>\n",
       "      <td>0.007496</td>\n",
       "      <td>0.01</td>\n",
       "      <td>1</td>\n",
       "      <td>{'C': 0.01, 'gamma': 1}</td>\n",
       "      <td>0.800</td>\n",
       "      <td>0.752</td>\n",
       "      <td>0.804</td>\n",
       "      <td>0.808</td>\n",
       "      <td>0.791</td>\n",
       "      <td>0.022694</td>\n",
       "      <td>3</td>\n",
       "    </tr>\n",
       "    <tr>\n",
       "      <th>3</th>\n",
       "      <td>0.157614</td>\n",
       "      <td>0.013290</td>\n",
       "      <td>0.067513</td>\n",
       "      <td>0.012413</td>\n",
       "      <td>0.1</td>\n",
       "      <td>0.01</td>\n",
       "      <td>{'C': 0.1, 'gamma': 0.01}</td>\n",
       "      <td>0.516</td>\n",
       "      <td>0.504</td>\n",
       "      <td>0.508</td>\n",
       "      <td>0.576</td>\n",
       "      <td>0.526</td>\n",
       "      <td>0.029189</td>\n",
       "      <td>8</td>\n",
       "    </tr>\n",
       "    <tr>\n",
       "      <th>4</th>\n",
       "      <td>0.109883</td>\n",
       "      <td>0.003622</td>\n",
       "      <td>0.028126</td>\n",
       "      <td>0.004130</td>\n",
       "      <td>0.1</td>\n",
       "      <td>0.1</td>\n",
       "      <td>{'C': 0.1, 'gamma': 0.1}</td>\n",
       "      <td>0.792</td>\n",
       "      <td>0.748</td>\n",
       "      <td>0.796</td>\n",
       "      <td>0.812</td>\n",
       "      <td>0.787</td>\n",
       "      <td>0.023728</td>\n",
       "      <td>7</td>\n",
       "    </tr>\n",
       "    <tr>\n",
       "      <th>5</th>\n",
       "      <td>0.110783</td>\n",
       "      <td>0.005493</td>\n",
       "      <td>0.024084</td>\n",
       "      <td>0.005580</td>\n",
       "      <td>0.1</td>\n",
       "      <td>1</td>\n",
       "      <td>{'C': 0.1, 'gamma': 1}</td>\n",
       "      <td>0.800</td>\n",
       "      <td>0.752</td>\n",
       "      <td>0.804</td>\n",
       "      <td>0.808</td>\n",
       "      <td>0.791</td>\n",
       "      <td>0.022694</td>\n",
       "      <td>3</td>\n",
       "    </tr>\n",
       "    <tr>\n",
       "      <th>6</th>\n",
       "      <td>0.122161</td>\n",
       "      <td>0.013495</td>\n",
       "      <td>0.041985</td>\n",
       "      <td>0.006882</td>\n",
       "      <td>1</td>\n",
       "      <td>0.01</td>\n",
       "      <td>{'C': 1, 'gamma': 0.01}</td>\n",
       "      <td>0.808</td>\n",
       "      <td>0.760</td>\n",
       "      <td>0.812</td>\n",
       "      <td>0.788</td>\n",
       "      <td>0.792</td>\n",
       "      <td>0.020591</td>\n",
       "      <td>1</td>\n",
       "    </tr>\n",
       "    <tr>\n",
       "      <th>7</th>\n",
       "      <td>0.108953</td>\n",
       "      <td>0.009441</td>\n",
       "      <td>0.029721</td>\n",
       "      <td>0.008821</td>\n",
       "      <td>1</td>\n",
       "      <td>0.1</td>\n",
       "      <td>{'C': 1, 'gamma': 0.1}</td>\n",
       "      <td>0.800</td>\n",
       "      <td>0.752</td>\n",
       "      <td>0.804</td>\n",
       "      <td>0.808</td>\n",
       "      <td>0.791</td>\n",
       "      <td>0.022694</td>\n",
       "      <td>3</td>\n",
       "    </tr>\n",
       "    <tr>\n",
       "      <th>8</th>\n",
       "      <td>0.127092</td>\n",
       "      <td>0.010205</td>\n",
       "      <td>0.032524</td>\n",
       "      <td>0.009524</td>\n",
       "      <td>1</td>\n",
       "      <td>1</td>\n",
       "      <td>{'C': 1, 'gamma': 1}</td>\n",
       "      <td>0.800</td>\n",
       "      <td>0.752</td>\n",
       "      <td>0.804</td>\n",
       "      <td>0.808</td>\n",
       "      <td>0.791</td>\n",
       "      <td>0.022694</td>\n",
       "      <td>3</td>\n",
       "    </tr>\n",
       "  </tbody>\n",
       "</table>\n",
       "</div>"
      ],
      "text/plain": [
       "   mean_fit_time  std_fit_time  mean_score_time  std_score_time param_C  \\\n",
       "0       0.158798      0.004329         0.063793        0.002073    0.01   \n",
       "1       0.122504      0.013089         0.056005        0.009785    0.01   \n",
       "2       0.121045      0.007124         0.037613        0.007496    0.01   \n",
       "3       0.157614      0.013290         0.067513        0.012413     0.1   \n",
       "4       0.109883      0.003622         0.028126        0.004130     0.1   \n",
       "5       0.110783      0.005493         0.024084        0.005580     0.1   \n",
       "6       0.122161      0.013495         0.041985        0.006882       1   \n",
       "7       0.108953      0.009441         0.029721        0.008821       1   \n",
       "8       0.127092      0.010205         0.032524        0.009524       1   \n",
       "\n",
       "  param_gamma                      params  split0_test_score  \\\n",
       "0        0.01  {'C': 0.01, 'gamma': 0.01}              0.112   \n",
       "1         0.1   {'C': 0.01, 'gamma': 0.1}              0.808   \n",
       "2           1     {'C': 0.01, 'gamma': 1}              0.800   \n",
       "3        0.01   {'C': 0.1, 'gamma': 0.01}              0.516   \n",
       "4         0.1    {'C': 0.1, 'gamma': 0.1}              0.792   \n",
       "5           1      {'C': 0.1, 'gamma': 1}              0.800   \n",
       "6        0.01     {'C': 1, 'gamma': 0.01}              0.808   \n",
       "7         0.1      {'C': 1, 'gamma': 0.1}              0.800   \n",
       "8           1        {'C': 1, 'gamma': 1}              0.800   \n",
       "\n",
       "   split1_test_score  split2_test_score  split3_test_score  mean_test_score  \\\n",
       "0              0.112              0.112              0.116            0.113   \n",
       "1              0.760              0.812              0.788            0.792   \n",
       "2              0.752              0.804              0.808            0.791   \n",
       "3              0.504              0.508              0.576            0.526   \n",
       "4              0.748              0.796              0.812            0.787   \n",
       "5              0.752              0.804              0.808            0.791   \n",
       "6              0.760              0.812              0.788            0.792   \n",
       "7              0.752              0.804              0.808            0.791   \n",
       "8              0.752              0.804              0.808            0.791   \n",
       "\n",
       "   std_test_score  rank_test_score  \n",
       "0        0.001732                9  \n",
       "1        0.020591                1  \n",
       "2        0.022694                3  \n",
       "3        0.029189                8  \n",
       "4        0.023728                7  \n",
       "5        0.022694                3  \n",
       "6        0.020591                1  \n",
       "7        0.022694                3  \n",
       "8        0.022694                3  "
      ]
     },
     "execution_count": 9,
     "metadata": {},
     "output_type": "execute_result"
    }
   ],
   "source": [
    "# parameters for poly of degree 2 kernel\n",
    "parameters = {'C':[0.01, 0.1, 1], 'gamma':[0.01,0.1,1]}\n",
    "\n",
    "# run SVM with poly of degree 2 kernel\n",
    "degree = 2   # degree of the polynomial kernel function\n",
    "deg2_svc = SVC(kernel='poly', degree=degree)\n",
    "deg2_clf = GridSearchCV(deg2_svc, parameters, cv=K)\n",
    "deg2_clf.fit(X_train, y_train)\n",
    "\n",
    "print('RESULTS FOR POLYNOMIAL KERNEL OF DEGREE', degree)\n",
    "print(\"Best parameters set found:\", deg2_clf.best_params_)\n",
    "print(\"Score with best parameters:\", deg2_clf.best_score_)\n",
    "print(\"All scores on the grid:\")\n",
    "deg2_results = pd.DataFrame(deg2_clf.cv_results_)\n",
    "deg2_results"
   ]
  },
  {
   "cell_type": "markdown",
   "metadata": {},
   "source": [
    "## TO DO 3\n",
    "\n",
    "Now let's try a higher degree for the Polynomial kernel (e.g., 3rd degree):"
   ]
  },
  {
   "cell_type": "code",
   "execution_count": 10,
   "metadata": {},
   "outputs": [
    {
     "name": "stdout",
     "output_type": "stream",
     "text": [
      "RESULTS FOR POLYNOMIAL KERNEL OF DEGREE 3\n",
      "Best parameters set found: {'C': 0.01, 'gamma': 0.1}\n",
      "Score with best parameters: 0.746\n",
      "All scores on the grid:\n"
     ]
    },
    {
     "data": {
      "text/html": [
       "<div>\n",
       "<style scoped>\n",
       "    .dataframe tbody tr th:only-of-type {\n",
       "        vertical-align: middle;\n",
       "    }\n",
       "\n",
       "    .dataframe tbody tr th {\n",
       "        vertical-align: top;\n",
       "    }\n",
       "\n",
       "    .dataframe thead th {\n",
       "        text-align: right;\n",
       "    }\n",
       "</style>\n",
       "<table border=\"1\" class=\"dataframe\">\n",
       "  <thead>\n",
       "    <tr style=\"text-align: right;\">\n",
       "      <th></th>\n",
       "      <th>mean_fit_time</th>\n",
       "      <th>std_fit_time</th>\n",
       "      <th>mean_score_time</th>\n",
       "      <th>std_score_time</th>\n",
       "      <th>param_C</th>\n",
       "      <th>param_gamma</th>\n",
       "      <th>params</th>\n",
       "      <th>split0_test_score</th>\n",
       "      <th>split1_test_score</th>\n",
       "      <th>split2_test_score</th>\n",
       "      <th>split3_test_score</th>\n",
       "      <th>mean_test_score</th>\n",
       "      <th>std_test_score</th>\n",
       "      <th>rank_test_score</th>\n",
       "    </tr>\n",
       "  </thead>\n",
       "  <tbody>\n",
       "    <tr>\n",
       "      <th>0</th>\n",
       "      <td>0.177721</td>\n",
       "      <td>0.009771</td>\n",
       "      <td>0.073000</td>\n",
       "      <td>0.014412</td>\n",
       "      <td>0.01</td>\n",
       "      <td>0.01</td>\n",
       "      <td>{'C': 0.01, 'gamma': 0.01}</td>\n",
       "      <td>0.112</td>\n",
       "      <td>0.112</td>\n",
       "      <td>0.112</td>\n",
       "      <td>0.116</td>\n",
       "      <td>0.113</td>\n",
       "      <td>0.001732</td>\n",
       "      <td>9</td>\n",
       "    </tr>\n",
       "    <tr>\n",
       "      <th>1</th>\n",
       "      <td>0.132986</td>\n",
       "      <td>0.008757</td>\n",
       "      <td>0.025993</td>\n",
       "      <td>0.004066</td>\n",
       "      <td>0.01</td>\n",
       "      <td>0.1</td>\n",
       "      <td>{'C': 0.01, 'gamma': 0.1}</td>\n",
       "      <td>0.740</td>\n",
       "      <td>0.704</td>\n",
       "      <td>0.764</td>\n",
       "      <td>0.776</td>\n",
       "      <td>0.746</td>\n",
       "      <td>0.027495</td>\n",
       "      <td>1</td>\n",
       "    </tr>\n",
       "    <tr>\n",
       "      <th>2</th>\n",
       "      <td>0.141464</td>\n",
       "      <td>0.010905</td>\n",
       "      <td>0.030121</td>\n",
       "      <td>0.008933</td>\n",
       "      <td>0.01</td>\n",
       "      <td>1</td>\n",
       "      <td>{'C': 0.01, 'gamma': 1}</td>\n",
       "      <td>0.724</td>\n",
       "      <td>0.700</td>\n",
       "      <td>0.760</td>\n",
       "      <td>0.780</td>\n",
       "      <td>0.741</td>\n",
       "      <td>0.031032</td>\n",
       "      <td>2</td>\n",
       "    </tr>\n",
       "    <tr>\n",
       "      <th>3</th>\n",
       "      <td>0.164255</td>\n",
       "      <td>0.003898</td>\n",
       "      <td>0.061994</td>\n",
       "      <td>0.003455</td>\n",
       "      <td>0.1</td>\n",
       "      <td>0.01</td>\n",
       "      <td>{'C': 0.1, 'gamma': 0.01}</td>\n",
       "      <td>0.468</td>\n",
       "      <td>0.436</td>\n",
       "      <td>0.408</td>\n",
       "      <td>0.468</td>\n",
       "      <td>0.445</td>\n",
       "      <td>0.025040</td>\n",
       "      <td>8</td>\n",
       "    </tr>\n",
       "    <tr>\n",
       "      <th>4</th>\n",
       "      <td>0.128041</td>\n",
       "      <td>0.000172</td>\n",
       "      <td>0.025924</td>\n",
       "      <td>0.006776</td>\n",
       "      <td>0.1</td>\n",
       "      <td>0.1</td>\n",
       "      <td>{'C': 0.1, 'gamma': 0.1}</td>\n",
       "      <td>0.724</td>\n",
       "      <td>0.700</td>\n",
       "      <td>0.760</td>\n",
       "      <td>0.780</td>\n",
       "      <td>0.741</td>\n",
       "      <td>0.031032</td>\n",
       "      <td>2</td>\n",
       "    </tr>\n",
       "    <tr>\n",
       "      <th>5</th>\n",
       "      <td>0.129014</td>\n",
       "      <td>0.006980</td>\n",
       "      <td>0.015655</td>\n",
       "      <td>0.000025</td>\n",
       "      <td>0.1</td>\n",
       "      <td>1</td>\n",
       "      <td>{'C': 0.1, 'gamma': 1}</td>\n",
       "      <td>0.724</td>\n",
       "      <td>0.700</td>\n",
       "      <td>0.760</td>\n",
       "      <td>0.780</td>\n",
       "      <td>0.741</td>\n",
       "      <td>0.031032</td>\n",
       "      <td>2</td>\n",
       "    </tr>\n",
       "    <tr>\n",
       "      <th>6</th>\n",
       "      <td>0.117272</td>\n",
       "      <td>0.013459</td>\n",
       "      <td>0.031270</td>\n",
       "      <td>0.000013</td>\n",
       "      <td>1</td>\n",
       "      <td>0.01</td>\n",
       "      <td>{'C': 1, 'gamma': 0.01}</td>\n",
       "      <td>0.752</td>\n",
       "      <td>0.692</td>\n",
       "      <td>0.752</td>\n",
       "      <td>0.756</td>\n",
       "      <td>0.738</td>\n",
       "      <td>0.026608</td>\n",
       "      <td>7</td>\n",
       "    </tr>\n",
       "    <tr>\n",
       "      <th>7</th>\n",
       "      <td>0.130103</td>\n",
       "      <td>0.008858</td>\n",
       "      <td>0.027527</td>\n",
       "      <td>0.006869</td>\n",
       "      <td>1</td>\n",
       "      <td>0.1</td>\n",
       "      <td>{'C': 1, 'gamma': 0.1}</td>\n",
       "      <td>0.724</td>\n",
       "      <td>0.700</td>\n",
       "      <td>0.760</td>\n",
       "      <td>0.780</td>\n",
       "      <td>0.741</td>\n",
       "      <td>0.031032</td>\n",
       "      <td>2</td>\n",
       "    </tr>\n",
       "    <tr>\n",
       "      <th>8</th>\n",
       "      <td>0.133799</td>\n",
       "      <td>0.007515</td>\n",
       "      <td>0.028806</td>\n",
       "      <td>0.002975</td>\n",
       "      <td>1</td>\n",
       "      <td>1</td>\n",
       "      <td>{'C': 1, 'gamma': 1}</td>\n",
       "      <td>0.724</td>\n",
       "      <td>0.700</td>\n",
       "      <td>0.760</td>\n",
       "      <td>0.780</td>\n",
       "      <td>0.741</td>\n",
       "      <td>0.031032</td>\n",
       "      <td>2</td>\n",
       "    </tr>\n",
       "  </tbody>\n",
       "</table>\n",
       "</div>"
      ],
      "text/plain": [
       "   mean_fit_time  std_fit_time  mean_score_time  std_score_time param_C  \\\n",
       "0       0.177721      0.009771         0.073000        0.014412    0.01   \n",
       "1       0.132986      0.008757         0.025993        0.004066    0.01   \n",
       "2       0.141464      0.010905         0.030121        0.008933    0.01   \n",
       "3       0.164255      0.003898         0.061994        0.003455     0.1   \n",
       "4       0.128041      0.000172         0.025924        0.006776     0.1   \n",
       "5       0.129014      0.006980         0.015655        0.000025     0.1   \n",
       "6       0.117272      0.013459         0.031270        0.000013       1   \n",
       "7       0.130103      0.008858         0.027527        0.006869       1   \n",
       "8       0.133799      0.007515         0.028806        0.002975       1   \n",
       "\n",
       "  param_gamma                      params  split0_test_score  \\\n",
       "0        0.01  {'C': 0.01, 'gamma': 0.01}              0.112   \n",
       "1         0.1   {'C': 0.01, 'gamma': 0.1}              0.740   \n",
       "2           1     {'C': 0.01, 'gamma': 1}              0.724   \n",
       "3        0.01   {'C': 0.1, 'gamma': 0.01}              0.468   \n",
       "4         0.1    {'C': 0.1, 'gamma': 0.1}              0.724   \n",
       "5           1      {'C': 0.1, 'gamma': 1}              0.724   \n",
       "6        0.01     {'C': 1, 'gamma': 0.01}              0.752   \n",
       "7         0.1      {'C': 1, 'gamma': 0.1}              0.724   \n",
       "8           1        {'C': 1, 'gamma': 1}              0.724   \n",
       "\n",
       "   split1_test_score  split2_test_score  split3_test_score  mean_test_score  \\\n",
       "0              0.112              0.112              0.116            0.113   \n",
       "1              0.704              0.764              0.776            0.746   \n",
       "2              0.700              0.760              0.780            0.741   \n",
       "3              0.436              0.408              0.468            0.445   \n",
       "4              0.700              0.760              0.780            0.741   \n",
       "5              0.700              0.760              0.780            0.741   \n",
       "6              0.692              0.752              0.756            0.738   \n",
       "7              0.700              0.760              0.780            0.741   \n",
       "8              0.700              0.760              0.780            0.741   \n",
       "\n",
       "   std_test_score  rank_test_score  \n",
       "0        0.001732                9  \n",
       "1        0.027495                1  \n",
       "2        0.031032                2  \n",
       "3        0.025040                8  \n",
       "4        0.031032                2  \n",
       "5        0.031032                2  \n",
       "6        0.026608                7  \n",
       "7        0.031032                2  \n",
       "8        0.031032                2  "
      ]
     },
     "execution_count": 10,
     "metadata": {},
     "output_type": "execute_result"
    }
   ],
   "source": [
    "# parameters for poly of higher degree kernel\n",
    "parameters = {'C':[0.01, 0.1, 1], 'gamma':[0.01,0.1,1]}\n",
    "\n",
    "# run SVM with poly of higher degree kernel\n",
    "degree = 3   # degree of the polynomial kernel function\n",
    "deg3_svc = SVC(kernel='poly', degree=degree)\n",
    "deg3_clf = GridSearchCV(deg3_svc, parameters, cv=K)\n",
    "deg3_clf.fit(X_train, y_train)\n",
    "\n",
    "print('RESULTS FOR POLYNOMIAL KERNEL OF DEGREE', degree)\n",
    "print(\"Best parameters set found:\", deg3_clf.best_params_)\n",
    "print(\"Score with best parameters:\", deg3_clf.best_score_)\n",
    "print(\"All scores on the grid:\")\n",
    "deg3_results = pd.DataFrame(deg3_clf.cv_results_)\n",
    "deg3_results"
   ]
  },
  {
   "cell_type": "markdown",
   "metadata": {},
   "source": [
    "## TO DO 4\n",
    "\n",
    "Pick a model for the Radial Basis Function kernel:"
   ]
  },
  {
   "cell_type": "code",
   "execution_count": 11,
   "metadata": {},
   "outputs": [
    {
     "name": "stdout",
     "output_type": "stream",
     "text": [
      "RESULTS FOR RBF KERNEL\n",
      "Best parameters set found: {'C': 10, 'gamma': 0.01}\n",
      "Score with best parameters: 0.822\n",
      "All scores on the grid:\n"
     ]
    },
    {
     "data": {
      "text/html": [
       "<div>\n",
       "<style scoped>\n",
       "    .dataframe tbody tr th:only-of-type {\n",
       "        vertical-align: middle;\n",
       "    }\n",
       "\n",
       "    .dataframe tbody tr th {\n",
       "        vertical-align: top;\n",
       "    }\n",
       "\n",
       "    .dataframe thead th {\n",
       "        text-align: right;\n",
       "    }\n",
       "</style>\n",
       "<table border=\"1\" class=\"dataframe\">\n",
       "  <thead>\n",
       "    <tr style=\"text-align: right;\">\n",
       "      <th></th>\n",
       "      <th>mean_fit_time</th>\n",
       "      <th>std_fit_time</th>\n",
       "      <th>mean_score_time</th>\n",
       "      <th>std_score_time</th>\n",
       "      <th>param_C</th>\n",
       "      <th>param_gamma</th>\n",
       "      <th>params</th>\n",
       "      <th>split0_test_score</th>\n",
       "      <th>split1_test_score</th>\n",
       "      <th>split2_test_score</th>\n",
       "      <th>split3_test_score</th>\n",
       "      <th>mean_test_score</th>\n",
       "      <th>std_test_score</th>\n",
       "      <th>rank_test_score</th>\n",
       "    </tr>\n",
       "  </thead>\n",
       "  <tbody>\n",
       "    <tr>\n",
       "      <th>0</th>\n",
       "      <td>0.192940</td>\n",
       "      <td>0.033329</td>\n",
       "      <td>0.119880</td>\n",
       "      <td>0.017965</td>\n",
       "      <td>0.1</td>\n",
       "      <td>0.001</td>\n",
       "      <td>{'C': 0.1, 'gamma': 0.001}</td>\n",
       "      <td>0.112</td>\n",
       "      <td>0.112</td>\n",
       "      <td>0.112</td>\n",
       "      <td>0.116</td>\n",
       "      <td>0.113</td>\n",
       "      <td>0.001732</td>\n",
       "      <td>11</td>\n",
       "    </tr>\n",
       "    <tr>\n",
       "      <th>1</th>\n",
       "      <td>0.171856</td>\n",
       "      <td>0.000008</td>\n",
       "      <td>0.109566</td>\n",
       "      <td>0.011144</td>\n",
       "      <td>0.1</td>\n",
       "      <td>0.01</td>\n",
       "      <td>{'C': 0.1, 'gamma': 0.01}</td>\n",
       "      <td>0.324</td>\n",
       "      <td>0.364</td>\n",
       "      <td>0.356</td>\n",
       "      <td>0.412</td>\n",
       "      <td>0.364</td>\n",
       "      <td>0.031496</td>\n",
       "      <td>7</td>\n",
       "    </tr>\n",
       "    <tr>\n",
       "      <th>2</th>\n",
       "      <td>0.235342</td>\n",
       "      <td>0.032935</td>\n",
       "      <td>0.176855</td>\n",
       "      <td>0.019860</td>\n",
       "      <td>0.1</td>\n",
       "      <td>0.1</td>\n",
       "      <td>{'C': 0.1, 'gamma': 0.1}</td>\n",
       "      <td>0.112</td>\n",
       "      <td>0.112</td>\n",
       "      <td>0.112</td>\n",
       "      <td>0.116</td>\n",
       "      <td>0.113</td>\n",
       "      <td>0.001732</td>\n",
       "      <td>11</td>\n",
       "    </tr>\n",
       "    <tr>\n",
       "      <th>3</th>\n",
       "      <td>0.200286</td>\n",
       "      <td>0.017635</td>\n",
       "      <td>0.132564</td>\n",
       "      <td>0.027588</td>\n",
       "      <td>0.1</td>\n",
       "      <td>1</td>\n",
       "      <td>{'C': 0.1, 'gamma': 1}</td>\n",
       "      <td>0.112</td>\n",
       "      <td>0.112</td>\n",
       "      <td>0.112</td>\n",
       "      <td>0.116</td>\n",
       "      <td>0.113</td>\n",
       "      <td>0.001732</td>\n",
       "      <td>11</td>\n",
       "    </tr>\n",
       "    <tr>\n",
       "      <th>4</th>\n",
       "      <td>0.133392</td>\n",
       "      <td>0.007649</td>\n",
       "      <td>0.094626</td>\n",
       "      <td>0.000482</td>\n",
       "      <td>1</td>\n",
       "      <td>0.001</td>\n",
       "      <td>{'C': 1, 'gamma': 0.001}</td>\n",
       "      <td>0.656</td>\n",
       "      <td>0.656</td>\n",
       "      <td>0.704</td>\n",
       "      <td>0.716</td>\n",
       "      <td>0.683</td>\n",
       "      <td>0.027331</td>\n",
       "      <td>6</td>\n",
       "    </tr>\n",
       "    <tr>\n",
       "      <th>5</th>\n",
       "      <td>0.156522</td>\n",
       "      <td>0.018705</td>\n",
       "      <td>0.086692</td>\n",
       "      <td>0.007546</td>\n",
       "      <td>1</td>\n",
       "      <td>0.01</td>\n",
       "      <td>{'C': 1, 'gamma': 0.01}</td>\n",
       "      <td>0.840</td>\n",
       "      <td>0.756</td>\n",
       "      <td>0.836</td>\n",
       "      <td>0.800</td>\n",
       "      <td>0.808</td>\n",
       "      <td>0.033823</td>\n",
       "      <td>3</td>\n",
       "    </tr>\n",
       "    <tr>\n",
       "      <th>6</th>\n",
       "      <td>0.180575</td>\n",
       "      <td>0.007751</td>\n",
       "      <td>0.100317</td>\n",
       "      <td>0.006614</td>\n",
       "      <td>1</td>\n",
       "      <td>0.1</td>\n",
       "      <td>{'C': 1, 'gamma': 0.1}</td>\n",
       "      <td>0.164</td>\n",
       "      <td>0.180</td>\n",
       "      <td>0.188</td>\n",
       "      <td>0.188</td>\n",
       "      <td>0.180</td>\n",
       "      <td>0.009798</td>\n",
       "      <td>10</td>\n",
       "    </tr>\n",
       "    <tr>\n",
       "      <th>7</th>\n",
       "      <td>0.178139</td>\n",
       "      <td>0.009572</td>\n",
       "      <td>0.114357</td>\n",
       "      <td>0.006448</td>\n",
       "      <td>1</td>\n",
       "      <td>1</td>\n",
       "      <td>{'C': 1, 'gamma': 1}</td>\n",
       "      <td>0.112</td>\n",
       "      <td>0.112</td>\n",
       "      <td>0.112</td>\n",
       "      <td>0.116</td>\n",
       "      <td>0.113</td>\n",
       "      <td>0.001732</td>\n",
       "      <td>11</td>\n",
       "    </tr>\n",
       "    <tr>\n",
       "      <th>8</th>\n",
       "      <td>0.094245</td>\n",
       "      <td>0.003479</td>\n",
       "      <td>0.065652</td>\n",
       "      <td>0.007732</td>\n",
       "      <td>10</td>\n",
       "      <td>0.001</td>\n",
       "      <td>{'C': 10, 'gamma': 0.001}</td>\n",
       "      <td>0.788</td>\n",
       "      <td>0.728</td>\n",
       "      <td>0.832</td>\n",
       "      <td>0.776</td>\n",
       "      <td>0.781</td>\n",
       "      <td>0.037027</td>\n",
       "      <td>4</td>\n",
       "    </tr>\n",
       "    <tr>\n",
       "      <th>9</th>\n",
       "      <td>0.161843</td>\n",
       "      <td>0.008320</td>\n",
       "      <td>0.098097</td>\n",
       "      <td>0.012876</td>\n",
       "      <td>10</td>\n",
       "      <td>0.01</td>\n",
       "      <td>{'C': 10, 'gamma': 0.01}</td>\n",
       "      <td>0.840</td>\n",
       "      <td>0.768</td>\n",
       "      <td>0.840</td>\n",
       "      <td>0.840</td>\n",
       "      <td>0.822</td>\n",
       "      <td>0.031177</td>\n",
       "      <td>1</td>\n",
       "    </tr>\n",
       "    <tr>\n",
       "      <th>10</th>\n",
       "      <td>0.189049</td>\n",
       "      <td>0.006044</td>\n",
       "      <td>0.095773</td>\n",
       "      <td>0.002665</td>\n",
       "      <td>10</td>\n",
       "      <td>0.1</td>\n",
       "      <td>{'C': 10, 'gamma': 0.1}</td>\n",
       "      <td>0.184</td>\n",
       "      <td>0.208</td>\n",
       "      <td>0.228</td>\n",
       "      <td>0.208</td>\n",
       "      <td>0.207</td>\n",
       "      <td>0.015588</td>\n",
       "      <td>8</td>\n",
       "    </tr>\n",
       "    <tr>\n",
       "      <th>11</th>\n",
       "      <td>0.192237</td>\n",
       "      <td>0.006774</td>\n",
       "      <td>0.094369</td>\n",
       "      <td>0.000081</td>\n",
       "      <td>10</td>\n",
       "      <td>1</td>\n",
       "      <td>{'C': 10, 'gamma': 1}</td>\n",
       "      <td>0.112</td>\n",
       "      <td>0.112</td>\n",
       "      <td>0.112</td>\n",
       "      <td>0.116</td>\n",
       "      <td>0.113</td>\n",
       "      <td>0.001732</td>\n",
       "      <td>11</td>\n",
       "    </tr>\n",
       "    <tr>\n",
       "      <th>12</th>\n",
       "      <td>0.098874</td>\n",
       "      <td>0.008069</td>\n",
       "      <td>0.057959</td>\n",
       "      <td>0.006496</td>\n",
       "      <td>100</td>\n",
       "      <td>0.001</td>\n",
       "      <td>{'C': 100, 'gamma': 0.001}</td>\n",
       "      <td>0.784</td>\n",
       "      <td>0.720</td>\n",
       "      <td>0.796</td>\n",
       "      <td>0.800</td>\n",
       "      <td>0.775</td>\n",
       "      <td>0.032296</td>\n",
       "      <td>5</td>\n",
       "    </tr>\n",
       "    <tr>\n",
       "      <th>13</th>\n",
       "      <td>0.158875</td>\n",
       "      <td>0.002560</td>\n",
       "      <td>0.085097</td>\n",
       "      <td>0.005765</td>\n",
       "      <td>100</td>\n",
       "      <td>0.01</td>\n",
       "      <td>{'C': 100, 'gamma': 0.01}</td>\n",
       "      <td>0.840</td>\n",
       "      <td>0.768</td>\n",
       "      <td>0.840</td>\n",
       "      <td>0.840</td>\n",
       "      <td>0.822</td>\n",
       "      <td>0.031177</td>\n",
       "      <td>1</td>\n",
       "    </tr>\n",
       "    <tr>\n",
       "      <th>14</th>\n",
       "      <td>0.184599</td>\n",
       "      <td>0.012650</td>\n",
       "      <td>0.109921</td>\n",
       "      <td>0.011162</td>\n",
       "      <td>100</td>\n",
       "      <td>0.1</td>\n",
       "      <td>{'C': 100, 'gamma': 0.1}</td>\n",
       "      <td>0.184</td>\n",
       "      <td>0.208</td>\n",
       "      <td>0.228</td>\n",
       "      <td>0.208</td>\n",
       "      <td>0.207</td>\n",
       "      <td>0.015588</td>\n",
       "      <td>8</td>\n",
       "    </tr>\n",
       "    <tr>\n",
       "      <th>15</th>\n",
       "      <td>0.187191</td>\n",
       "      <td>0.005170</td>\n",
       "      <td>0.099096</td>\n",
       "      <td>0.005646</td>\n",
       "      <td>100</td>\n",
       "      <td>1</td>\n",
       "      <td>{'C': 100, 'gamma': 1}</td>\n",
       "      <td>0.112</td>\n",
       "      <td>0.112</td>\n",
       "      <td>0.112</td>\n",
       "      <td>0.116</td>\n",
       "      <td>0.113</td>\n",
       "      <td>0.001732</td>\n",
       "      <td>11</td>\n",
       "    </tr>\n",
       "  </tbody>\n",
       "</table>\n",
       "</div>"
      ],
      "text/plain": [
       "    mean_fit_time  std_fit_time  mean_score_time  std_score_time param_C  \\\n",
       "0        0.192940      0.033329         0.119880        0.017965     0.1   \n",
       "1        0.171856      0.000008         0.109566        0.011144     0.1   \n",
       "2        0.235342      0.032935         0.176855        0.019860     0.1   \n",
       "3        0.200286      0.017635         0.132564        0.027588     0.1   \n",
       "4        0.133392      0.007649         0.094626        0.000482       1   \n",
       "5        0.156522      0.018705         0.086692        0.007546       1   \n",
       "6        0.180575      0.007751         0.100317        0.006614       1   \n",
       "7        0.178139      0.009572         0.114357        0.006448       1   \n",
       "8        0.094245      0.003479         0.065652        0.007732      10   \n",
       "9        0.161843      0.008320         0.098097        0.012876      10   \n",
       "10       0.189049      0.006044         0.095773        0.002665      10   \n",
       "11       0.192237      0.006774         0.094369        0.000081      10   \n",
       "12       0.098874      0.008069         0.057959        0.006496     100   \n",
       "13       0.158875      0.002560         0.085097        0.005765     100   \n",
       "14       0.184599      0.012650         0.109921        0.011162     100   \n",
       "15       0.187191      0.005170         0.099096        0.005646     100   \n",
       "\n",
       "   param_gamma                      params  split0_test_score  \\\n",
       "0        0.001  {'C': 0.1, 'gamma': 0.001}              0.112   \n",
       "1         0.01   {'C': 0.1, 'gamma': 0.01}              0.324   \n",
       "2          0.1    {'C': 0.1, 'gamma': 0.1}              0.112   \n",
       "3            1      {'C': 0.1, 'gamma': 1}              0.112   \n",
       "4        0.001    {'C': 1, 'gamma': 0.001}              0.656   \n",
       "5         0.01     {'C': 1, 'gamma': 0.01}              0.840   \n",
       "6          0.1      {'C': 1, 'gamma': 0.1}              0.164   \n",
       "7            1        {'C': 1, 'gamma': 1}              0.112   \n",
       "8        0.001   {'C': 10, 'gamma': 0.001}              0.788   \n",
       "9         0.01    {'C': 10, 'gamma': 0.01}              0.840   \n",
       "10         0.1     {'C': 10, 'gamma': 0.1}              0.184   \n",
       "11           1       {'C': 10, 'gamma': 1}              0.112   \n",
       "12       0.001  {'C': 100, 'gamma': 0.001}              0.784   \n",
       "13        0.01   {'C': 100, 'gamma': 0.01}              0.840   \n",
       "14         0.1    {'C': 100, 'gamma': 0.1}              0.184   \n",
       "15           1      {'C': 100, 'gamma': 1}              0.112   \n",
       "\n",
       "    split1_test_score  split2_test_score  split3_test_score  mean_test_score  \\\n",
       "0               0.112              0.112              0.116            0.113   \n",
       "1               0.364              0.356              0.412            0.364   \n",
       "2               0.112              0.112              0.116            0.113   \n",
       "3               0.112              0.112              0.116            0.113   \n",
       "4               0.656              0.704              0.716            0.683   \n",
       "5               0.756              0.836              0.800            0.808   \n",
       "6               0.180              0.188              0.188            0.180   \n",
       "7               0.112              0.112              0.116            0.113   \n",
       "8               0.728              0.832              0.776            0.781   \n",
       "9               0.768              0.840              0.840            0.822   \n",
       "10              0.208              0.228              0.208            0.207   \n",
       "11              0.112              0.112              0.116            0.113   \n",
       "12              0.720              0.796              0.800            0.775   \n",
       "13              0.768              0.840              0.840            0.822   \n",
       "14              0.208              0.228              0.208            0.207   \n",
       "15              0.112              0.112              0.116            0.113   \n",
       "\n",
       "    std_test_score  rank_test_score  \n",
       "0         0.001732               11  \n",
       "1         0.031496                7  \n",
       "2         0.001732               11  \n",
       "3         0.001732               11  \n",
       "4         0.027331                6  \n",
       "5         0.033823                3  \n",
       "6         0.009798               10  \n",
       "7         0.001732               11  \n",
       "8         0.037027                4  \n",
       "9         0.031177                1  \n",
       "10        0.015588                8  \n",
       "11        0.001732               11  \n",
       "12        0.032296                5  \n",
       "13        0.031177                1  \n",
       "14        0.015588                8  \n",
       "15        0.001732               11  "
      ]
     },
     "execution_count": 11,
     "metadata": {},
     "output_type": "execute_result"
    }
   ],
   "source": [
    "# parameters for rbf SVM\n",
    "parameters = {'C':[0.1, 1, 10, 100], 'gamma':[0.001, 0.01, 0.1,1]}\n",
    "\n",
    "# run SVM with rbf kernel\n",
    "rbf_svc = SVC(kernel='rbf')\n",
    "rbf_clf = GridSearchCV(rbf_svc, parameters, cv=K)\n",
    "rbf_clf.fit(X_train, y_train)\n",
    "\n",
    "print('RESULTS FOR RBF KERNEL')\n",
    "print(\"Best parameters set found:\", rbf_clf.best_params_)\n",
    "print(\"Score with best parameters:\", rbf_clf.best_score_)\n",
    "print(\"All scores on the grid:\")\n",
    "rbf_results = pd.DataFrame(rbf_clf.cv_results_)\n",
    "rbf_results"
   ]
  },
  {
   "cell_type": "markdown",
   "metadata": {},
   "source": [
    "## QUESTION 1\n",
    "\n",
    "What do you observe when using linear, polynomial and RBF kernels on this dataset?\n",
    "\n",
    "## ANSWER 1\n",
    "\n",
    "Results:\n",
    "\n",
    "| Kernel | Best 'C' | Best 'gamma' | Best score |\n",
    "| :-: | :-: | :-: | :-: |\n",
    "| Linear | 0.01 | - | 0.766 |\n",
    "| Polynomial of degree 2 | 0.01 | 0.1 | 0.792 |\n",
    "| Polynomial of degree 3 | 0.01 | 0.1 | 0.746 |\n",
    "| RBF | 10 | 0.01 | 0.822 |\n",
    "\n",
    "Observations:\n",
    "\n",
    "- the polynomial kernel of degree 2 scores better than both the linear kernel and the polynomial kernel of degree 3;\n",
    "- the linear kernel and the polynomial kernels found the same best value of the parameter 'C';\n",
    "- the polynomial kernels found the same best value of the parameter 'gamma';\n",
    "- the polynomial kernel of degree 3 is the one that achieves the lowest accuracy (about 75%);\n",
    "- the RBF kernel is the one that achieves the best accuracy (about 82%);\n",
    "- all the kernels achieve an accuracy of at least 74%;\n",
    "- the training time increases with the complexity of the kernel function;\n",
    "- the accuracy does not necessarily increase with the complexity of the kernel function (e.g. the accuracy of the polynomial kernel of degree 3 is lower not only than that of the polynomial kernel of degree 2, but also than that of the linear kernel!)."
   ]
  },
  {
   "cell_type": "markdown",
   "metadata": {},
   "source": [
    "## TO DO 5\n",
    "\n",
    "Report here the best SVM kernel and parameters:"
   ]
  },
  {
   "cell_type": "code",
   "execution_count": 12,
   "metadata": {},
   "outputs": [
    {
     "name": "stdout",
     "output_type": "stream",
     "text": [
      "Best SVM training error: 0.0\n",
      "Best SVM test error: 0.14949999999999997\n"
     ]
    }
   ],
   "source": [
    "# get training and test error for the best SVM model from CV\n",
    "best_SVM = rbf_clf.best_estimator_\n",
    "best_SVM.fit(X_train, y_train)\n",
    "training_error = 1-best_SVM.score(X_train, y_train)\n",
    "test_error = 1-best_SVM.score(X_test, y_test)\n",
    "\n",
    "print (\"Best SVM training error:\", training_error)\n",
    "print (\"Best SVM test error:\", test_error)"
   ]
  },
  {
   "cell_type": "markdown",
   "metadata": {},
   "source": [
    "## TO DO 6\n",
    "\n",
    "Analyze how the gamma parameter (inversely proportional to the standard deviation of the Gaussian Kernel) impacts the performances of the classifier:"
   ]
  },
  {
   "cell_type": "code",
   "execution_count": 13,
   "metadata": {},
   "outputs": [
    {
     "name": "stdout",
     "output_type": "stream",
     "text": [
      "Values of the 'gamma' parameter: [1.e-05 1.e-04 1.e-03 1.e-02 1.e-01 1.e+00 1.e+01 1.e+02]\n"
     ]
    }
   ],
   "source": [
    "# test with different values of gamma\n",
    "gamma_values = np.logspace(-5,2,8)   # set gamma values\n",
    "print(\"Values of the 'gamma' parameter:\", gamma_values)"
   ]
  },
  {
   "cell_type": "code",
   "execution_count": 14,
   "metadata": {},
   "outputs": [
    {
     "data": {
      "image/png": "[encoded data removed]",
      "text/plain": [
       "<Figure size 1080x360 with 2 Axes>"
      ]
     },
     "metadata": {
      "needs_background": "light"
     },
     "output_type": "display_data"
    }
   ],
   "source": [
    "# try the SVM with the previously set values of gamma, use rbf kernel and C=1\n",
    "train_acc_list, test_acc_list = [], []\n",
    "\n",
    "# training the SVM multiple times with the different values of gamma\n",
    "for i in gamma_values:\n",
    "    parameters = {'C':[1], 'gamma':[i]}\n",
    "    rbf_clf = GridSearchCV(rbf_svc, parameters, cv=K)\n",
    "    rbf_clf.fit(X_train, y_train)\n",
    "\n",
    "    # placing the train and test accuracy for each test in the train and test accuracy lists\n",
    "    train_acc = rbf_clf.score(X_train, y_train)\n",
    "    test_acc = rbf_clf.score(X_test, y_test)\n",
    "    train_acc_list.append(train_acc)\n",
    "    test_acc_list.append(test_acc)\n",
    "\n",
    "# plot\n",
    "fig, ax = plt.subplots(1, 2, figsize=(15,5))\n",
    "\n",
    "ax[0].plot(gamma_values, train_acc_list)\n",
    "ax[0].set_xscale('log')\n",
    "ax[0].set_xlabel('gamma')\n",
    "ax[0].set_ylabel('Train accuracy')\n",
    "ax[0].grid(True)\n",
    "\n",
    "ax[1].plot(gamma_values, test_acc_list)\n",
    "ax[1].set_xscale('log')\n",
    "ax[1].set_xlabel('gamma')\n",
    "ax[1].set_ylabel('Test accuracy')\n",
    "ax[1].grid(True)\n",
    "\n",
    "plt.show()"
   ]
  },
  {
   "cell_type": "markdown",
   "metadata": {},
   "source": [
    "## QUESTION 2\n",
    "\n",
    "How do the train and test error change when changing gamma? Which is the best value of gamma? \n",
    "Connect your answers to the discussion about the overfitting issue.\n",
    "\n",
    "## ANSWER 2\n",
    "\n",
    "Observations:\n",
    "\n",
    "- the training error decreases with the increase of $gamma$ until it becomes equal to $0$ for $gamma > 10^{-1}$;\n",
    "- the test error decreases with the increase of $gamma$ until it reaches the absolute minimum corresponding to $gamma = 10^{-2}$, then it begins to increase with the increase of $gamma$ until it becomes equal to $1$ for $gamma > 1$.\n",
    "\n",
    "The best value of $gamma$ should be the one that leads to the best trade-off between precisely fitting the training set (i.e. minimizing the training error, with the risk of overfitting) and finding a less accurate but more general solution (i.e. minimizing the test error). Therefore, given the trends of the training error and of the test error as a function of $gamma$, it is reasonable to assume that the best value of $gamma$ is \n",
    "\n",
    "$gamma_{best} = 10^{-2}$\n",
    "\n",
    "Note that:\n",
    "\n",
    "- a lower value of $gamma$ would lead to an increase in both the training error and the test error;\n",
    "- it is true that a larger value of $gamma$ would lead to a further decrease of the training error, but at the same time it would increase the risk of overfitting the model! (i.e. it would lead to a drastic increase in the test error)."
   ]
  },
  {
   "cell_type": "markdown",
   "metadata": {},
   "source": [
    "## More data\n",
    "\n",
    "Now let's do the same but using more data points for training.\n",
    "\n",
    "Choose a new number of data points:"
   ]
  },
  {
   "cell_type": "code",
   "execution_count": 15,
   "metadata": {},
   "outputs": [
    {
     "name": "stdout",
     "output_type": "stream",
     "text": [
      "Labels in the training dataset: [0 1 2 3 4 5 6 7 8 9]\n",
      "Frequencies in the training dataset: [214 193 215 182 214 172 201 198 196 215]\n"
     ]
    }
   ],
   "source": [
    "X = X[permutation]\n",
    "y = y[permutation]\n",
    "\n",
    "m_training = 2000   # TODO number of data points, adjust depending on the capabilities of your PC\n",
    "\n",
    "X_train, X_test = X[:m_training], X[m_training:]\n",
    "y_train, y_test = y[:m_training], y[m_training:]\n",
    "\n",
    "labels, freqs = np.unique(y_train, return_counts=True)\n",
    "\n",
    "# making sure that each label is present at least 20 times in 'y_train'\n",
    "while np.any(freqs<20) == True:\n",
    "    permutation = np.random.permutation(X.shape[0])\n",
    "    X = X[permutation]\n",
    "    y = y[permutation]\n",
    "    X_train, X_test = X[:m_training], X[m_training:]\n",
    "    y_train, y_test = y[:m_training], y[m_training:]\n",
    "    labels, freqs = np.unique(y_train, return_counts=True)\n",
    "\n",
    "print(\"Labels in the training dataset:\", labels)\n",
    "print(\"Frequencies in the training dataset:\", freqs)"
   ]
  },
  {
   "cell_type": "markdown",
   "metadata": {},
   "source": [
    "## TO DO 7\n",
    "\n",
    "Let's try to use SVM with parameters obtained from the best model for $m_{training} = 2000$. Since it may take a long time to run, you can decide to just let it run for some time and stop it if it does not complete. If you decide to do this, report it in the cell below:"
   ]
  },
  {
   "cell_type": "code",
   "execution_count": 16,
   "metadata": {
    "scrolled": true
   },
   "outputs": [
    {
     "name": "stdout",
     "output_type": "stream",
     "text": [
      "Best SVM training error: 0.0\n",
      "Best SVM test error: 0.1144310344827586\n"
     ]
    }
   ],
   "source": [
    "# get training and test error for the best SVM model from CV\n",
    "best_SVM.fit(X_train, y_train)\n",
    "training_error = 1-best_SVM.score(X_train, y_train)\n",
    "test_error = 1-best_SVM.score(X_test, y_test)\n",
    "\n",
    "print(\"Best SVM training error:\", training_error)\n",
    "print(\"Best SVM test error:\", test_error)"
   ]
  },
  {
   "cell_type": "markdown",
   "metadata": {},
   "source": [
    "Just for comparison, let's also use logistic regression:\n",
    "\n",
    "## TO DO 8 Try first without regularization (use a very large C)"
   ]
  },
  {
   "cell_type": "code",
   "execution_count": 17,
   "metadata": {},
   "outputs": [
    {
     "name": "stdout",
     "output_type": "stream",
     "text": [
      "Best logistic regression training error: 0.0\n",
      "Best logistic regression test error: 0.2736206896551724\n"
     ]
    }
   ],
   "source": [
    "from sklearn import linear_model\n",
    "\n",
    "logreg = linear_model.LogisticRegression(C=1e5, max_iter=1000)   # a large C disables regularization\n",
    "logreg.fit(X_train, y_train)\n",
    "training_error = 1-logreg.score(X_train, y_train)\n",
    "test_error = 1-logreg.score(X_test, y_test)\n",
    "\n",
    "print(\"Best logistic regression training error:\", training_error)\n",
    "print(\"Best logistic regression test error:\", test_error)"
   ]
  },
  {
   "cell_type": "markdown",
   "metadata": {},
   "source": [
    "## TO DO 9 Try with regularization (use C=1)"
   ]
  },
  {
   "cell_type": "code",
   "execution_count": 18,
   "metadata": {},
   "outputs": [
    {
     "name": "stdout",
     "output_type": "stream",
     "text": [
      "Best regularized logistic regression training error: 0.0014999999999999458\n",
      "Best regularized logistic regression test error: 0.24775862068965515\n"
     ]
    }
   ],
   "source": [
    "logreg_regularized = linear_model.LogisticRegression(C=1, max_iter=1000)\n",
    "logreg_regularized.fit(X_train, y_train)\n",
    "training_error = 1-logreg_regularized.score(X_train, y_train)\n",
    "test_error = 1-logreg_regularized.score(X_test, y_test)\n",
    "\n",
    "print(\"Best regularized logistic regression training error:\", training_error)\n",
    "print(\"Best regularized logistic regression test error:\", test_error)"
   ]
  },
  {
   "cell_type": "markdown",
   "metadata": {},
   "source": [
    "## QUESTION 3\n",
    "\n",
    "Compare and discuss:\n",
    "- the results from SVM with $m = 1000$ and with $m = 2000$ training data points. If you stopped the SVM, include such aspect in your comparison\n",
    "- the results of SVM and of Logistic Regression\n",
    "\n",
    "## ANSWER 3\n",
    "\n",
    "Results (the SVM has not been stopped):\n",
    "\n",
    "| Model | Training error | Test error | Training time $(s)$ |\n",
    "| :-: | :-: | :-: | :-: |\n",
    "| SVM $(m = 1000)$ | 0 | 0.1495 | 2.9 |\n",
    "| SVM $(m = 2000)$ | 0 | 0.1144 | 61.5 |\n",
    "| Logistic regression | 0 | 0.2736 | 0.9 |\n",
    "| Logistic regression (regularized) | 0.0015 | 0.2478 | 1.8 |\n",
    "\n",
    "Observations:\n",
    "\n",
    "- training the SVM with $m = 2000$ instead of $m = 1000$ led to a decrease of the test error of about 3.5%; however, the training time became about 20 times longer! (as expected, as $m$ increases both test accuracy and training time increase)\n",
    "- the logistic regression (both in the regularized and non-regularized case) led to worse results (in terms of both training error and test error) than those obtained with the SVM, without even leading to significant improvements in terms of training time!"
   ]
  },
  {
   "cell_type": "markdown",
   "metadata": {},
   "source": [
    "## TO DO 10\n",
    "\n",
    "Plot a character that is misclassified by logistic regression and correctly classified by SVM:"
   ]
  },
  {
   "cell_type": "code",
   "execution_count": 19,
   "metadata": {},
   "outputs": [
    {
     "name": "stdout",
     "output_type": "stream",
     "text": [
      "Example of a character that is misclassified by logistic regression and correctly classified by SVM:\n",
      "INPUT:\n"
     ]
    },
    {
     "data": {
      "image/png": "[encoded data removed]",
      "text/plain": [
       "<Figure size 432x288 with 1 Axes>"
      ]
     },
     "metadata": {
      "needs_background": "light"
     },
     "output_type": "display_data"
    },
    {
     "name": "stdout",
     "output_type": "stream",
     "text": [
      "LABEL: 7\n",
      "Label predicted by logistic regression: 9\n",
      "Label predicted by SVM: 7\n"
     ]
    }
   ],
   "source": [
    "LR_prediction = logreg_regularized.predict(X_test)\n",
    "SVM_prediction = best_SVM.predict(X_test)\n",
    "for i in range(m_test):\n",
    "    if LR_prediction[i] != y_test[i] and SVM_prediction[i] == y_test[i]:\n",
    "        break\n",
    "\n",
    "print(\"Example of a character that is misclassified by logistic regression and correctly classified by SVM:\")\n",
    "plot_input(X_test,y_test,i)\n",
    "print(\"Label predicted by logistic regression:\", LR_prediction[i])\n",
    "print(\"Label predicted by SVM:\", SVM_prediction[i])"
   ]
  },
  {
   "cell_type": "markdown",
   "metadata": {},
   "source": [
    "## TO DO 11\n",
    "\n",
    "Plot the confusion matrix for the SVM classifier and for the logistic regression.\n",
    "The confusion matrix has one column for each predicted label and one row for each true label. \n",
    "It shows for each class in the corresponding row how many samples belonging to that class gets each possible output label.\n",
    "Notice that the diagonal contains the correctly classified samples, while the other cells correspond to errors.\n",
    "You can obtain it with the sklearn.metrics.confusion_matrix function (see the documentation).\n",
    "Try also to normalize the confusion matrix by the number of samples in each class in order to measure the accuracy on each single class."
   ]
  },
  {
   "cell_type": "code",
   "execution_count": 20,
   "metadata": {},
   "outputs": [
    {
     "name": "stdout",
     "output_type": "stream",
     "text": [
      "Labels in the test dataset: [0 1 2 3 4 5 6 7 8 9]\n",
      "Frequencies in the test dataset: [5786 5807 5785 5818 5786 5828 5799 5802 5804 5785]\n",
      "\n",
      "Confusion matrix SVM:\n"
     ]
    },
    {
     "data": {
      "image/png": "[encoded data removed]",
      "text/plain": [
       "<Figure size 720x720 with 2 Axes>"
      ]
     },
     "metadata": {
      "needs_background": "light"
     },
     "output_type": "display_data"
    },
    {
     "name": "stdout",
     "output_type": "stream",
     "text": [
      "\n",
      "Confusion matrix SVM (normalized):\n"
     ]
    },
    {
     "data": {
      "image/png": "[encoded data removed]",
      "text/plain": [
       "<Figure size 720x720 with 2 Axes>"
      ]
     },
     "metadata": {
      "needs_background": "light"
     },
     "output_type": "display_data"
    },
    {
     "name": "stdout",
     "output_type": "stream",
     "text": [
      "\n",
      "Confusion matrix LR:\n"
     ]
    },
    {
     "data": {
      "image/png": "[encoded data removed]",
      "text/plain": [
       "<Figure size 720x720 with 2 Axes>"
      ]
     },
     "metadata": {
      "needs_background": "light"
     },
     "output_type": "display_data"
    },
    {
     "name": "stdout",
     "output_type": "stream",
     "text": [
      "\n",
      "Confusion matrix LR (normalized):\n"
     ]
    },
    {
     "data": {
      "image/png": "[encoded data removed]",
      "text/plain": [
       "<Figure size 720x720 with 2 Axes>"
      ]
     },
     "metadata": {
      "needs_background": "light"
     },
     "output_type": "display_data"
    }
   ],
   "source": [
    "from sklearn.metrics import confusion_matrix, ConfusionMatrixDisplay\n",
    "\n",
    "np.set_printoptions(precision=2, suppress=True)   # for better aligned printing of confusion matrix use floatmode='fixed'\n",
    "\n",
    "u, counts = np.unique(y_test, return_counts=True)\n",
    "print(\"Labels in the test dataset:\", u)\n",
    "print(\"Frequencies in the test dataset:\", counts)\n",
    "\n",
    "def print_cm(cm):\n",
    "    fig, ax = plt.subplots(figsize=(10,10))\n",
    "    disp = ConfusionMatrixDisplay(cm)\n",
    "    disp.plot(cmap=plt.cm.Blues, ax=ax)\n",
    "    plt.show()\n",
    "\n",
    "confusion_SVM = confusion_matrix(y_test, SVM_prediction)\n",
    "print(\"\\nConfusion matrix SVM:\")\n",
    "print_cm(confusion_SVM)\n",
    "print(\"\\nConfusion matrix SVM (normalized):\")\n",
    "print_cm(confusion_SVM/counts[:,None])\n",
    "\n",
    "confusion_LR = confusion_matrix(y_test, LR_prediction)\n",
    "print(\"\\nConfusion matrix LR:\")\n",
    "print_cm(confusion_LR)\n",
    "print(\"\\nConfusion matrix LR (normalized):\")\n",
    "print_cm(confusion_LR/counts[:,None])"
   ]
  },
  {
   "cell_type": "markdown",
   "metadata": {},
   "source": [
    "## QUESTION 4\n",
    "\n",
    "Have a look at the confusion matrices and comment on the obtained accuracies. Why some classes have lower accuracies and others an higher one? Make some guesses on the possible causes.\n",
    "\n",
    "## ANSWER 4\n",
    "\n",
    "It makes sense to assume that some classes have lower accuracies than those of other classes because:\n",
    "\n",
    "- the worst classified characters are particularly similar to others and therefore it is more challenging to recognise them;\n",
    "- the better classified characters have some unique features that make them easier to recognise.\n",
    "\n",
    "Let's analyze in detail the results in terms of accuracy:\n",
    "\n",
    "| Model | Worst accuracy | Best accuracy |\n",
    "| :-: | :-: | :-: |\n",
    "| SVM $(m = 1000)$ | 0.84 (class 2) | 0.93 (class 0) |\n",
    "| Logistic regression (regularized) | 0.67 (class 2) | 0.85 (class 0) |\n",
    "\n",
    "Observations:\n",
    "\n",
    "- SVM: classes have fairly similar accuracies (less than 10% difference between the worst and the best);\n",
    "- LR: the differences between the classes accuracies are more evident (almost 20% difference between the worst and the best).\n",
    "\n",
    "In general:\n",
    "\n",
    "- the character corresponding to class 0 is the best classified;\n",
    "- the character corresponding to class 2 is the worst classified and is mainly confused with the character corresponding to class 6.\n",
    "\n",
    "Let's see an example of a character corresponding to class 2 that is (mis)classified by both the SVM and the LR as a character corresponding to class 6 and vice versa:"
   ]
  },
  {
   "cell_type": "code",
   "execution_count": 21,
   "metadata": {},
   "outputs": [
    {
     "name": "stdout",
     "output_type": "stream",
     "text": [
      "Example of a character corresponding to class 2 that is (mis)classified by both the SVM and the LR as a character corresponding to class 6:\n",
      "INPUT:\n"
     ]
    },
    {
     "data": {
      "image/png": "[encoded data removed]",
      "text/plain": [
       "<Figure size 432x288 with 1 Axes>"
      ]
     },
     "metadata": {
      "needs_background": "light"
     },
     "output_type": "display_data"
    },
    {
     "name": "stdout",
     "output_type": "stream",
     "text": [
      "LABEL: 2\n",
      "Label predicted by logistic regression: 6\n",
      "Label predicted by SVM: 6\n",
      "\n",
      "\n",
      "Example of a character corresponding to class 6 that is (mis)classified by both the SVM and the LR as a character corresponding to class 2:\n",
      "INPUT:\n"
     ]
    },
    {
     "data": {
      "image/png": "[encoded data removed]",
      "text/plain": [
       "<Figure size 432x288 with 1 Axes>"
      ]
     },
     "metadata": {
      "needs_background": "light"
     },
     "output_type": "display_data"
    },
    {
     "name": "stdout",
     "output_type": "stream",
     "text": [
      "LABEL: 6\n",
      "Label predicted by logistic regression: 2\n",
      "Label predicted by SVM: 2\n"
     ]
    }
   ],
   "source": [
    "\n",
    "# searching for a character corresponding to class 2 that is (mis)classified by both the SVM and the LR as a character corresponding to class 6\n",
    "for i in range(m_test):\n",
    "    if y_test[i] == 2 and LR_prediction[i] == 6 and SVM_prediction[i] == 6:\n",
    "        break\n",
    "\n",
    "print(\"Example of a character corresponding to class 2 that is (mis)classified by both the SVM and the LR as a character corresponding to class 6:\")\n",
    "plot_input(X_test,y_test,i)\n",
    "print(\"Label predicted by logistic regression:\", LR_prediction[i])\n",
    "print(\"Label predicted by SVM:\", SVM_prediction[i])\n",
    "\n",
    "# searching for a character corresponding to class 6 that is (mis)classified by both the SVM and the LR as a character corresponding to class 2\n",
    "for i in range(m_test):\n",
    "    if y_test[i] == 6 and LR_prediction[i] == 2 and SVM_prediction[i] == 2:\n",
    "        break\n",
    "\n",
    "print(\"\\n\\nExample of a character corresponding to class 6 that is (mis)classified by both the SVM and the LR as a character corresponding to class 2:\")\n",
    "plot_input(X_test,y_test,i)\n",
    "print(\"Label predicted by logistic regression:\", LR_prediction[i])\n",
    "print(\"Label predicted by SVM:\", SVM_prediction[i])"
   ]
  }
 ],
 "metadata": {
  "kernelspec": {
   "display_name": "Python 3",
   "language": "python",
   "name": "python3"
  },
  "language_info": {
   "codemirror_mode": {
    "name": "ipython",
    "version": 3
   },
   "file_extension": ".py",
   "mimetype": "text/x-python",
   "name": "python",
   "nbconvert_exporter": "python",
   "pygments_lexer": "ipython3",
   "version": "3.8.8"
  }
 },
 "nbformat": 4,
 "nbformat_minor": 4
}
