{
  "cells": [
    {
      "attachments": {},
      "cell_type": "markdown",
      "metadata": {
        "id": "fp9hbokQIxWW"
      },
      "source": [
        "# NEURAL NETWORKS AND DEEP LEARNING\n",
        "\n",
        "---\n",
        "A.A. 2022/23 (6 CFU) - Dr. Jacopo Pegoraro, Dr. Daniele Mari\n",
        "---\n",
        "\n",
        "## Lab. 08 - Continual Learning\n",
        "\n",
        "\n",
        "In this brief tutorial we will learn the basics of *Continual Learning* using *PyTorch*. We will use the standard MNIST benchmark.\n",
        "\n",
        "Although current machine learning algorithms have acquired a good reputation in terms of achieving the goals they are trained to do, they are prone to forgetting old data. If one takes a trained model and fine-tunes it on different data, its performance on the old data deteriorates. This is what the community calls **Catastrophic Forgetting**. There are many questions that rotates around this concept, but in this notebook we are going to introduce the most basic ones.\n",
        "\n",
        "This notebook has taken inspiration from the **[Continual AI Colab](https://github.com/ContinualAI/colab)**, which is a repository meant for tutorials and demo running on Google Colaboratory. [Continual AI](https://www.continualai.org/) is an open research community on the topic of Continual Learning and AI!\n",
        "\n",
        "The notebook is divided into two parts:\n",
        "\n",
        "1.   Introduction to Continual Learning: we will start with learning over the standard *MNIST* benchmark, then we will move in the actual continual learning setting  with the *Permuted MNIST* benchmark. \n",
        "\n",
        "2.   Rehearsal (aka Replay) strategies: we will analyze how the performance is affected when we train our models in a temporal fashion and we will investigate which are the basic remedies to avoid deterioration over time.\n"
      ]
    },
    {
      "cell_type": "code",
      "execution_count": 1,
      "metadata": {
        "colab": {
          "base_uri": "https://localhost:8080/"
        },
        "id": "hv7FUJ2Wrd_l",
        "outputId": "287e49df-6dc6-46e9-dec9-1cd5c302bec2"
      },
      "outputs": [
        {
          "data": {
            "text/plain": [
              "False"
            ]
          },
          "execution_count": 1,
          "metadata": {},
          "output_type": "execute_result"
        }
      ],
      "source": [
        "import torch\n",
        "torch.cuda.is_available()"
      ]
    },
    {
      "cell_type": "markdown",
      "metadata": {
        "id": "JuSqVkPnN7iT"
      },
      "source": [
        "That's great, let us import then a few libraries, which we'll be using during this tutorial!"
      ]
    },
    {
      "cell_type": "code",
      "execution_count": 2,
      "metadata": {
        "id": "w7AxhUWe68vT"
      },
      "outputs": [],
      "source": [
        "import torch\n",
        "import torch.nn as nn\n",
        "import torchvision.datasets as datasets\n",
        "import torchvision.transforms as transforms\n",
        "import torch.optim as optim\n",
        "import torch.nn.functional as F\n",
        "import numpy as np\n",
        "import matplotlib.pyplot as plt"
      ]
    },
    {
      "cell_type": "markdown",
      "metadata": {
        "id": "rv89m9nBPXSh"
      },
      "source": [
        "## MNIST: Digits recognition with PyTorch \n",
        "\n",
        "All right, let's start then making sure we all know the basics! Let's recognize the ten handwritten digits learning from 60.000, 28x28 grayscale images.\n",
        "For simplicity let's import a loading script we have already developed inside the **Continual AI Colab** repository:"
      ]
    },
    {
      "cell_type": "code",
      "execution_count": 3,
      "metadata": {
        "colab": {
          "base_uri": "https://localhost:8080/"
        },
        "id": "yKWbcnh474X3",
        "outputId": "585e197d-e8ce-45ee-e07a-796690d841b0"
      },
      "outputs": [
        {
          "name": "stdout",
          "output_type": "stream",
          "text": [
            "fatal: destination path 'continualai/colab' already exists and is not an empty directory.\n"
          ]
        }
      ],
      "source": [
        "!git clone https://github.com/ContinualAI/colab.git continualai/colab"
      ]
    },
    {
      "cell_type": "code",
      "execution_count": 4,
      "metadata": {
        "colab": {
          "base_uri": "https://localhost:8080/",
          "height": 547,
          "referenced_widgets": [
            "8fee69c32f72422a8f7e331a22adea14",
            "bcd23ea5a3c44ce59b77fc730a7043fa",
            "5041a8f66e26405db33b2819247b340d",
            "1af3de7b9b3645388f959c613bd2ad29",
            "8ea111aaecc6465e9596d040f65fa9e2",
            "9156a6f7f7424bec978b66231b94fb51",
            "2cc80c2bcf094de790eb66653b64104e",
            "bf6569d92a444b7497aee60e86f2d411",
            "7c237a8c465544b2a692818dc85594d5",
            "53dcdeba45214bcb8babef991b3706d1",
            "8ef636321588473a9382e8803e3f8572",
            "8c70a627eca24ea99cb127f3810aebc4",
            "06fddf73d2b945b6b3eae12b5da8b726",
            "495cbc8eb89e4e5e886cf0fa3f7b662e",
            "50cdc68dd9524c1f9d03b44c6b2b5f43",
            "3172efd365374f40a13b6b6f17f302d7",
            "dc08e579a713449397e679b4ca623f42",
            "702144d8d22a4897a171a620f4211e62",
            "3e96572116a040e59e29c7b27c260092",
            "a35d4272430f46b3bdb2f278d38f5ef2",
            "bb87c53ced3a416a980906e394ba2eb3",
            "47c7b611858240518aa207bf59055610",
            "7e22b7170228471d9f019ccfd96d7926",
            "a57da0a07049440792962c4283485500",
            "d6fb7a6e88194728bd862bfa8d6947dc",
            "9e94dc91891c4b599e68cb3f19f23cce",
            "65b189e9e1524759b2398fc2ecd3102d",
            "965783c40084425595be5fb9a6603f37",
            "6721a37803944dccabb085f20e87bca9",
            "1c52aa6d0bb4435e8c4192d6b2a3005b",
            "48420d9b361f4cd6ba768d5605b02edd",
            "75fc1b4c213d43159f58791e9f8a5a95",
            "3a6e5aeedf9740219e7e73414fe0d8c5",
            "466428f7880f4894ba870f0ddfdd92cd",
            "0bb9bda3a3574bcb90b9a3a0f9ffe482",
            "f4ed4bd8af8b4217927eddc740e09b51",
            "31065fd83c074354a14de66a4dc1a57e",
            "58b59e1c4ff1444f84c9ace481300016",
            "36d04a035f3d4a7cba67aa203b25165d",
            "af96f1bef54b4486a3ad1582e86b4153",
            "140618896cc94d93a1bd62f2bdfcfca2",
            "9cd25b30bc9f4be683558b0860b52ae2",
            "4cd8aee9b4b943ab85a028d331a0af54",
            "450305483b784771a34b5ef92dd6b559"
          ]
        },
        "id": "x3BFVukM_y8i",
        "outputId": "7aaa412d-af60-4e58-c9a1-ff9fc23d3865"
      },
      "outputs": [
        {
          "name": "stdout",
          "output_type": "stream",
          "text": [
            "Files already downloaded!\n"
          ]
        }
      ],
      "source": [
        "from continualai.colab.scripts import mnist\n",
        "mnist.init()"
      ]
    },
    {
      "cell_type": "code",
      "execution_count": 5,
      "metadata": {
        "colab": {
          "base_uri": "https://localhost:8080/"
        },
        "id": "6jIk6-G6AhWi",
        "outputId": "2461c921-20bd-486b-fb2e-babca0915d70"
      },
      "outputs": [
        {
          "name": "stdout",
          "output_type": "stream",
          "text": [
            "x_train dim and type: (60000, 1, 28, 28) float32\n",
            "t_train dim and type: (60000,) uint8\n",
            "x_test dim and type: (10000, 1, 28, 28) float32\n",
            "t_test dim and type: (10000,) uint8\n"
          ]
        }
      ],
      "source": [
        "x_train, t_train, x_test, t_test = mnist.load()\n",
        "\n",
        "print(\"x_train dim and type:\", x_train.shape, x_train.dtype)\n",
        "print(\"t_train dim and type:\", t_train.shape, t_train.dtype)\n",
        "print(\"x_test dim and type:\",  x_test.shape,  x_test.dtype)\n",
        "print(\"t_test dim and type:\",  t_test.shape,  t_test.dtype)"
      ]
    },
    {
      "cell_type": "markdown",
      "metadata": {
        "id": "XEWG2PmbVvb7"
      },
      "source": [
        "Let's take a look at the actual images!"
      ]
    },
    {
      "cell_type": "code",
      "execution_count": 6,
      "metadata": {
        "colab": {
          "base_uri": "https://localhost:8080/",
          "height": 248
        },
        "id": "RyIuYAw8AuO6",
        "outputId": "c76b2a6e-1b1c-4282-e7f7-ca39994798c3"
      },
      "outputs": [
        {
          "data": {
            "image/png": "[encoded data removed]",
            "text/plain": [
              "<Figure size 640x480 with 4 Axes>"
            ]
          },
          "metadata": {},
          "output_type": "display_data"
        }
      ],
      "source": [
        "f, axarr = plt.subplots(2, 2)\n",
        "axarr[0,0].imshow(x_train[1, 0], cmap=\"gray\")\n",
        "axarr[0,1].imshow(x_train[2, 0], cmap=\"gray\")\n",
        "axarr[1,0].imshow(x_train[3, 0], cmap=\"gray\")\n",
        "axarr[1,1].imshow(x_train[4, 0], cmap=\"gray\")\n",
        "np.vectorize(lambda ax:ax.axis('off'))(axarr);"
      ]
    },
    {
      "attachments": {},
      "cell_type": "markdown",
      "metadata": {
        "id": "baEsU4PGXsgS"
      },
      "source": [
        "Good! Let's now set up a few general settings before using PyTorch..."
      ]
    },
    {
      "cell_type": "code",
      "execution_count": 7,
      "metadata": {
        "id": "ztZAPQNXZ4ll"
      },
      "outputs": [],
      "source": [
        "# switch to False to use CPU\n",
        "use_cuda = True\n",
        "\n",
        "use_cuda = use_cuda and torch.cuda.is_available()\n",
        "device = torch.device(\"cuda\" if use_cuda else \"cpu\");\n",
        "torch.manual_seed(1);"
      ]
    },
    {
      "cell_type": "markdown",
      "metadata": {
        "id": "0Ek0mErIac6n"
      },
      "source": [
        "... and define our first conv-net! (You can choose the architecture)"
      ]
    },
    {
      "cell_type": "code",
      "execution_count": 8,
      "metadata": {
        "id": "ONMdybG4Be0z"
      },
      "outputs": [],
      "source": [
        "class Net(nn.Module):\n",
        "    def __init__(self):\n",
        "        super(Net, self).__init__()\n",
        "        self.conv1 = nn.Conv2d(1, 10, kernel_size=5)\n",
        "        self.conv2 = nn.Conv2d(10, 20, kernel_size=5)\n",
        "        self.conv2_drop = nn.Dropout2d()\n",
        "        self.fc1 = nn.Linear(320, 50)\n",
        "        self.fc2 = nn.Linear(50, 10)\n",
        "\n",
        "    def forward(self, x):\n",
        "        x = F.relu(F.max_pool2d(self.conv1(x), 2))\n",
        "        x = F.relu(F.max_pool2d(self.conv2_drop(self.conv2(x)), 2))\n",
        "        x = x.view(-1, 320)\n",
        "        x = F.relu(self.fc1(x))\n",
        "        x = F.dropout(x, training=self.training)\n",
        "        x = self.fc2(x)\n",
        "        return x"
      ]
    },
    {
      "attachments": {},
      "cell_type": "markdown",
      "metadata": {
        "id": "p9S6a-MlYAsu"
      },
      "source": [
        "Then we can write the *train* and *test* functions. Note that for simplicity here we are not using PyTorch [DataLoaders](https://pytorch.org/tutorials/beginner/data_loading_tutorial.html) but this is not recommended for efficiency."
      ]
    },
    {
      "cell_type": "code",
      "execution_count": 9,
      "metadata": {
        "id": "HGJJfXhJB-zk"
      },
      "outputs": [],
      "source": [
        "def train(model, device, x_train, t_train, optimizer, epoch):\n",
        "    model.train()\n",
        "    \n",
        "    for start in range(0, len(t_train)-1, 256):\n",
        "      end = start + 256\n",
        "      x, y = torch.from_numpy(x_train[start:end]), torch.from_numpy(t_train[start:end]).long()\n",
        "      x, y = x.to(device), y.to(device)\n",
        "      \n",
        "      optimizer.zero_grad()\n",
        "\n",
        "      output = model(x)\n",
        "      loss = F.cross_entropy(output, y)\n",
        "      loss.backward()\n",
        "      optimizer.step()\n",
        "      #print(loss.item())\n",
        "    print('Train Epoch: {} \\tLoss: {:.6f}'.format(epoch, loss.item()))\n",
        "\n",
        "def test(model, device, x_test, t_test):\n",
        "    model.eval()\n",
        "    test_loss = 0\n",
        "    correct = 0\n",
        "    for start in range(0, len(t_test)-1, 256):\n",
        "      end = start + 256\n",
        "      with torch.no_grad():\n",
        "        x, y = torch.from_numpy(x_test[start:end]), torch.from_numpy(t_test[start:end]).long()\n",
        "        x, y = x.to(device), y.to(device)\n",
        "        output = model(x)\n",
        "        test_loss += F.cross_entropy(output, y).item() # sum up batch loss\n",
        "        pred = output.max(1, keepdim=True)[1] # get the index of the max logit\n",
        "        correct += pred.eq(y.view_as(pred)).sum().item()\n",
        "\n",
        "    test_loss /= len(t_test)\n",
        "    print('Test set: Average loss: {:.4f}, Accuracy: {}/{} ({:.0f}%)\\n'.format(\n",
        "        test_loss, correct, len(t_test),\n",
        "        100. * correct / len(t_test)))\n",
        "    return 100. * correct / len(t_test)"
      ]
    },
    {
      "cell_type": "markdown",
      "metadata": {
        "id": "IxIISdDPaqb9"
      },
      "source": [
        "Then we are ready to instantiate our model and start the training!"
      ]
    },
    {
      "cell_type": "code",
      "execution_count": 10,
      "metadata": {
        "id": "1cJURe0JCFh8"
      },
      "outputs": [],
      "source": [
        "model = Net().to(device)\n",
        "optimizer = optim.SGD(model.parameters(), lr=0.01, momentum=0.9)"
      ]
    },
    {
      "cell_type": "code",
      "execution_count": 11,
      "metadata": {
        "id": "BlhVt8vylpUv"
      },
      "outputs": [
        {
          "name": "stdout",
          "output_type": "stream",
          "text": [
            "Train Epoch: 1 \tLoss: 0.721624\n",
            "Test set: Average loss: 0.0013, Accuracy: 9027/10000 (90%)\n",
            "\n",
            "Train Epoch: 2 \tLoss: 0.568181\n",
            "Test set: Average loss: 0.0008, Accuracy: 9404/10000 (94%)\n",
            "\n"
          ]
        }
      ],
      "source": [
        "for epoch in range(1, 3):\n",
        "  train(model, device, x_train, t_train, optimizer, epoch)\n",
        "  acc_upper_limit = test(model, device, x_test, t_test)"
      ]
    },
    {
      "attachments": {},
      "cell_type": "markdown",
      "metadata": {
        "id": "7qwh4T5Va86-"
      },
      "source": [
        "**Questions to explore:**\n",
        "\n",
        "*   Can you find a better parameterization to improve the final accuracy?\n",
        "*   Can you change the network architecture to improve the final accuracy?\n",
        "*   Can you achieve the same performance with a smaller architecture?\n",
        "*   What's the difference in accuracy if you change convolutions with fully connected layers?"
      ]
    },
    {
      "cell_type": "markdown",
      "metadata": {
        "id": "2dn-5gOGq08g"
      },
      "source": [
        "But what if now we want we the same model being able to solve a new task we encounter over time like a permuted version of the same MNIST? Let's define our custom function to permute it!"
      ]
    },
    {
      "cell_type": "code",
      "execution_count": 12,
      "metadata": {
        "id": "6Xq_4UvjgXPQ"
      },
      "outputs": [],
      "source": [
        "def permute_mnist(mnist, seed):\n",
        "    \"\"\" Given the training set, permute pixels of each img the same way. \"\"\"\n",
        "\n",
        "    np.random.seed(seed)\n",
        "    print(\"starting permutation...\")\n",
        "    h = w = 28\n",
        "    perm_inds = list(range(h*w))\n",
        "    np.random.shuffle(perm_inds)\n",
        "    #print(perm_inds)\n",
        "    perm_mnist = []\n",
        "    for set in mnist:\n",
        "        num_img = set.shape[0]\n",
        "        flat_set = set.reshape(num_img, w * h)\n",
        "        perm_mnist.append(flat_set[:, perm_inds].reshape(num_img, 1, w, h))\n",
        "    print(\"done.\")\n",
        "    return perm_mnist"
      ]
    },
    {
      "cell_type": "code",
      "execution_count": 13,
      "metadata": {
        "colab": {
          "base_uri": "https://localhost:8080/"
        },
        "id": "4xG5LFwLgkpu",
        "outputId": "8c5de71f-a340-4ebd-d078-522cb2ebb53f"
      },
      "outputs": [
        {
          "name": "stdout",
          "output_type": "stream",
          "text": [
            "starting permutation...\n",
            "done.\n"
          ]
        }
      ],
      "source": [
        "x_train2, x_test2 = permute_mnist([x_train, x_test], 0)"
      ]
    },
    {
      "cell_type": "code",
      "execution_count": 14,
      "metadata": {
        "colab": {
          "base_uri": "https://localhost:8080/",
          "height": 183
        },
        "id": "LYBa_Gedh_do",
        "outputId": "0e3e282d-20b1-4e96-9b05-7992c9d2f18d"
      },
      "outputs": [
        {
          "data": {
            "image/png": "[encoded data removed]",
            "text/plain": [
              "<Figure size 640x480 with 2 Axes>"
            ]
          },
          "metadata": {},
          "output_type": "display_data"
        }
      ],
      "source": [
        "f, axarr = plt.subplots(1, 2)\n",
        "axarr[0].imshow(x_train[1, 0], cmap=\"gray\")\n",
        "axarr[1].imshow(x_train2[2, 0], cmap=\"gray\")\n",
        "np.vectorize(lambda ax:ax.axis('off'))(axarr);"
      ]
    },
    {
      "cell_type": "markdown",
      "metadata": {
        "id": "46wHcbNAchH-"
      },
      "source": [
        "Amazing. Now let's see how our pre-trained model is working on both the original and the permuted MNIST dataset:"
      ]
    },
    {
      "cell_type": "code",
      "execution_count": 15,
      "metadata": {
        "id": "Sxusb8s3itli"
      },
      "outputs": [
        {
          "name": "stdout",
          "output_type": "stream",
          "text": [
            "Testing on the first task:\n",
            "Test set: Average loss: 0.0008, Accuracy: 9404/10000 (94%)\n",
            "\n",
            "Testing on the second task:\n",
            "Test set: Average loss: 0.0106, Accuracy: 999/10000 (10%)\n",
            "\n"
          ]
        }
      ],
      "source": [
        "print(\"Testing on the first task:\")\n",
        "test(model, device, x_test, t_test)\n",
        "\n",
        "print(\"Testing on the second task:\")\n",
        "test(model, device, x_test2, t_test);"
      ]
    },
    {
      "attachments": {},
      "cell_type": "markdown",
      "metadata": {
        "id": "0pHMg4G_dHFY"
      },
      "source": [
        "Mmh... that's pretty bad, our model cannot generalize to this apparently very different new task! Well, we can just fine-tune our model using the new permuted training set!"
      ]
    },
    {
      "cell_type": "code",
      "execution_count": 16,
      "metadata": {
        "id": "J5PtR8Gqib00"
      },
      "outputs": [
        {
          "name": "stdout",
          "output_type": "stream",
          "text": [
            "Train Epoch: 1 \tLoss: 1.482259\n",
            "Test set: Average loss: 0.0032, Accuracy: 7521/10000 (75%)\n",
            "\n",
            "Train Epoch: 2 \tLoss: 0.976155\n",
            "Test set: Average loss: 0.0022, Accuracy: 8273/10000 (83%)\n",
            "\n"
          ]
        }
      ],
      "source": [
        "for epoch in range(1, 3):\n",
        "  train(model, device, x_train2, t_train, optimizer, epoch)\n",
        "  test(model, device, x_test2, t_test)"
      ]
    },
    {
      "cell_type": "code",
      "execution_count": 17,
      "metadata": {
        "id": "ML7Evzb9jPAZ"
      },
      "outputs": [
        {
          "name": "stdout",
          "output_type": "stream",
          "text": [
            "Testing on the first task:\n",
            "Test set: Average loss: 0.0180, Accuracy: 3235/10000 (32%)\n",
            "\n",
            "Testing on the second task:\n",
            "Test set: Average loss: 0.0022, Accuracy: 8273/10000 (83%)\n",
            "\n"
          ]
        }
      ],
      "source": [
        "print(\"Testing on the first task:\")\n",
        "test(model, device, x_test, t_test)\n",
        "\n",
        "print(\"Testing on the second task:\")\n",
        "test(model, device, x_test2, t_test);"
      ]
    },
    {
      "attachments": {},
      "cell_type": "markdown",
      "metadata": {
        "id": "0UZ6FBuHdm7N"
      },
      "source": [
        "This is very annoying! Now we are not able to solve the original MNIST task anymore! :-( This is the phenomenon known in literature as **Catastrophic Forgetting**! In the following section we will compare three different strategies for learning continually (and trying not to forget!)\n",
        "\n",
        "**Questions to explore:**\n",
        "\n",
        "*   Can simple Dropout and Regularization techniques reduce forgetting?\n",
        "*   In the permuted MNIST task, do convolutions still help increasing the accuracy?\n",
        "\n",
        "Some tips here: https://papers.nips.cc/paper/5059-compete-to-compute"
      ]
    },
    {
      "attachments": {},
      "cell_type": "markdown",
      "metadata": {
        "id": "9rUgLpUakTy6"
      },
      "source": [
        "## CL Strategies\n",
        "\n",
        "Let us now focus on some strategies for reducing catastrophic forgetting, one of the principal problems when learning continuously. In this section we will take a look at three different strategies:\n",
        "\n",
        "1.   Naive\n",
        "2.   Rehearsal\n",
        "3.   Elastic Weight Consolidation (EWC)\n",
        "\n",
        "\n"
      ]
    },
    {
      "cell_type": "markdown",
      "metadata": {
        "id": "pCQWLCtcYRDf"
      },
      "source": [
        "![image.png](data:image/png;base64,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)"
      ]
    },
    {
      "cell_type": "markdown",
      "metadata": {
        "id": "so9pxFv3Y_X6"
      },
      "source": [
        "We will run such strategies on a 3-tasks Permuted MNIST. Finally we will plot our results for comparison. \n",
        "\n",
        "Let's start by defining our 3 tasks with the function we have already introduced before:"
      ]
    },
    {
      "cell_type": "code",
      "execution_count": 18,
      "metadata": {
        "id": "Yu0T_V24joGY"
      },
      "outputs": [
        {
          "name": "stdout",
          "output_type": "stream",
          "text": [
            "starting permutation...\n",
            "done.\n",
            "starting permutation...\n",
            "done.\n"
          ]
        }
      ],
      "source": [
        "# task 1\n",
        "task_1 = [(x_train, t_train), (x_test, t_test)]\n",
        "\n",
        "# task 2\n",
        "x_train2, x_test2 = permute_mnist([x_train, x_test], 1)\n",
        "task_2 = [(x_train2, t_train), (x_test2, t_test)]\n",
        "\n",
        "# task 3\n",
        "x_train3, x_test3 = permute_mnist([x_train, x_test], 2)\n",
        "task_3 = [(x_train3, t_train), (x_test3, t_test)]\n",
        "\n",
        "# task list\n",
        "tasks = [task_1, task_2, task_3]"
      ]
    },
    {
      "cell_type": "markdown",
      "metadata": {
        "id": "lCK0EYT-pJa8"
      },
      "source": [
        "Let's start by defining a function to shuffle our data: we will need it for rehearsal.\n",
        "\n"
      ]
    },
    {
      "cell_type": "code",
      "execution_count": 19,
      "metadata": {
        "id": "FdWpT2jhfu3o"
      },
      "outputs": [],
      "source": [
        "def shuffle_in_unison(dataset, seed, in_place=False):\n",
        "    \"\"\" Shuffle two (or more) list in unison. \"\"\"\n",
        "\n",
        "    np.random.seed(seed)\n",
        "    rng_state = np.random.get_state()\n",
        "    new_dataset = []\n",
        "    for x in dataset:\n",
        "        if in_place:\n",
        "            np.random.shuffle(x)\n",
        "        else:\n",
        "            new_dataset.append(np.random.permutation(x))\n",
        "        np.random.set_state(rng_state)\n",
        "\n",
        "    if not in_place:\n",
        "        return new_dataset"
      ]
    },
    {
      "cell_type": "markdown",
      "metadata": {
        "id": "94hg1UrtqFmT"
      },
      "source": [
        "Now let's define the training function with option for rehearsal. \n",
        "We reset the model and optimizer and run our training over the tasks sequence:"
      ]
    },
    {
      "cell_type": "code",
      "execution_count": 20,
      "metadata": {
        "id": "y_No-qvDbuZi"
      },
      "outputs": [],
      "source": [
        "def train_reh(past_examples_percentage=1, epochs=2):\n",
        "  model = Net().to(device)\n",
        "  optimizer = optim.SGD(model.parameters(), lr=0.01, momentum=0.9)\n",
        "  rehe_accs = []\n",
        "  for id, task in enumerate(tasks):\n",
        "    avg_acc = 0\n",
        "    print(\"Training on task:\", id)\n",
        "    \n",
        "    (x_train, t_train), _ = task\n",
        "    \n",
        "    # for previous task\n",
        "    for i in range(id):\n",
        "      (past_x_train, past_t_train), _ = tasks[i]\n",
        "      example_num = int(past_examples_percentage * len(past_t_train))\n",
        "      x_train = np.concatenate((x_train, past_x_train[:example_num]))\n",
        "      t_train = np.concatenate((t_train, past_t_train[:example_num]))\n",
        "    \n",
        "    x_train, t_train = shuffle_in_unison([x_train, t_train], 0)\n",
        "    \n",
        "    for epoch in range(epochs):\n",
        "      train(model, device, x_train, t_train, optimizer, epoch)\n",
        "      \n",
        "    for id_test, task in enumerate(tasks):\n",
        "      print(\"Testing on task:\", id_test)\n",
        "      _, (x_test, t_test) = task\n",
        "      acc = test(model, device, x_test, t_test)\n",
        "      avg_acc = avg_acc + acc\n",
        "    \n",
        "    print(\"Average accuracy:\", avg_acc / 3)\n",
        "    rehe_accs.append(avg_acc/3)\n",
        "  return rehe_accs"
      ]
    },
    {
      "attachments": {},
      "cell_type": "markdown",
      "metadata": {
        "id": "ENJOCvyBeHOU"
      },
      "source": [
        "### Naive Strategy\n",
        "\n",
        "The *Naive* strategy is the simple idea of continuing the backpropagation process on the new batches/tasks. This is very simple, but at the same time very prone to forgetting as we have witnessed before. Let's see how it works on the three tasks:"
      ]
    },
    {
      "cell_type": "code",
      "execution_count": 21,
      "metadata": {
        "id": "_ifnAn2UbwGc"
      },
      "outputs": [
        {
          "name": "stdout",
          "output_type": "stream",
          "text": [
            "ACCURACY ON NAIVE FINE-TUNING STRATEGY\n",
            "Training on task: 0\n",
            "Train Epoch: 0 \tLoss: 0.725200\n",
            "Train Epoch: 1 \tLoss: 0.459523\n",
            "Testing on task: 0\n",
            "Test set: Average loss: 0.0007, Accuracy: 9471/10000 (95%)\n",
            "\n",
            "Testing on task: 1\n",
            "Test set: Average loss: 0.0108, Accuracy: 705/10000 (7%)\n",
            "\n",
            "Testing on task: 2\n",
            "Test set: Average loss: 0.0095, Accuracy: 1287/10000 (13%)\n",
            "\n",
            "Average accuracy: 38.21\n",
            "Training on task: 1\n",
            "Train Epoch: 0 \tLoss: 1.319679\n",
            "Train Epoch: 1 \tLoss: 0.824621\n",
            "Testing on task: 0\n",
            "Test set: Average loss: 0.0208, Accuracy: 1950/10000 (20%)\n",
            "\n",
            "Testing on task: 1\n",
            "Test set: Average loss: 0.0023, Accuracy: 8322/10000 (83%)\n",
            "\n",
            "Testing on task: 2\n",
            "Test set: Average loss: 0.0131, Accuracy: 1223/10000 (12%)\n",
            "\n",
            "Average accuracy: 38.31666666666667\n",
            "Training on task: 2\n",
            "Train Epoch: 0 \tLoss: 1.164096\n",
            "Train Epoch: 1 \tLoss: 0.888718\n",
            "Testing on task: 0\n",
            "Test set: Average loss: 0.0215, Accuracy: 1744/10000 (17%)\n",
            "\n",
            "Testing on task: 1\n",
            "Test set: Average loss: 0.0074, Accuracy: 3730/10000 (37%)\n",
            "\n",
            "Testing on task: 2\n",
            "Test set: Average loss: 0.0022, Accuracy: 8385/10000 (84%)\n",
            "\n",
            "Average accuracy: 46.19666666666666\n"
          ]
        }
      ],
      "source": [
        "print('ACCURACY ON NAIVE FINE-TUNING STRATEGY')\n",
        "accs_naive = train_reh(0) # naive: 0%"
      ]
    },
    {
      "attachments": {},
      "cell_type": "markdown",
      "metadata": {
        "id": "hOkIkk1peRuU"
      },
      "source": [
        "**Questions to explore:**\n",
        "\n",
        "*   Does the order of the tasks affects the final results? \n"
      ]
    },
    {
      "cell_type": "markdown",
      "metadata": {
        "id": "HR-gWWubec46"
      },
      "source": [
        "### Rehearsal Strategy\n",
        "\n",
        "Another simple CL idea is to carry on *all* or *part* of the previously encountered examples (of the previous tasks), shuffling them with the data of the current task. Using *all* the past data is near to the optimal performance we can desire at the end of the task sequence but at the expense of much bigger memory usage.\n",
        "\n",
        "Why? Well, just because we have all the domain distribution available at once, so the model can easily converge to  a region where the loss is low.\n",
        "\n",
        "We compute the accuracy on a complete rehearsal and on a rehearsal which uses only 5% of the data for each task!"
      ]
    },
    {
      "cell_type": "code",
      "execution_count": 22,
      "metadata": {
        "id": "LnyysjsoeLHX"
      },
      "outputs": [
        {
          "name": "stdout",
          "output_type": "stream",
          "text": [
            "ACCURACY ON REHEARSAL STRATEGY STORING ALL PREVIOUS EXAMPLES\n",
            "Training on task: 0\n",
            "Train Epoch: 0 \tLoss: 0.596608\n",
            "Train Epoch: 1 \tLoss: 0.421096\n",
            "Testing on task: 0\n",
            "Test set: Average loss: 0.0007, Accuracy: 9487/10000 (95%)\n",
            "\n",
            "Testing on task: 1\n",
            "Test set: Average loss: 0.0110, Accuracy: 752/10000 (8%)\n",
            "\n",
            "Testing on task: 2\n",
            "Test set: Average loss: 0.0098, Accuracy: 1041/10000 (10%)\n",
            "\n",
            "Average accuracy: 37.6\n",
            "Training on task: 1\n",
            "Train Epoch: 0 \tLoss: 0.891004\n",
            "Train Epoch: 1 \tLoss: 0.562182\n",
            "Testing on task: 0\n",
            "Test set: Average loss: 0.0005, Accuracy: 9608/10000 (96%)\n",
            "\n",
            "Testing on task: 1\n",
            "Test set: Average loss: 0.0021, Accuracy: 8478/10000 (85%)\n",
            "\n",
            "Testing on task: 2\n",
            "Test set: Average loss: 0.0113, Accuracy: 1130/10000 (11%)\n",
            "\n",
            "Average accuracy: 64.05333333333334\n",
            "Training on task: 2\n",
            "Train Epoch: 0 \tLoss: 0.502849\n",
            "Train Epoch: 1 \tLoss: 0.331082\n",
            "Testing on task: 0\n",
            "Test set: Average loss: 0.0005, Accuracy: 9642/10000 (96%)\n",
            "\n",
            "Testing on task: 1\n",
            "Test set: Average loss: 0.0016, Accuracy: 8800/10000 (88%)\n",
            "\n",
            "Testing on task: 2\n",
            "Test set: Average loss: 0.0019, Accuracy: 8626/10000 (86%)\n",
            "\n",
            "Average accuracy: 90.22666666666667\n",
            "ACCURACY ON REHEARSAL STRATEGY STORING 5% EXAMPLES\n",
            "Training on task: 0\n",
            "Train Epoch: 0 \tLoss: 0.550221\n",
            "Train Epoch: 1 \tLoss: 0.394421\n",
            "Testing on task: 0\n",
            "Test set: Average loss: 0.0007, Accuracy: 9485/10000 (95%)\n",
            "\n",
            "Testing on task: 1\n",
            "Test set: Average loss: 0.0112, Accuracy: 548/10000 (5%)\n",
            "\n",
            "Testing on task: 2\n",
            "Test set: Average loss: 0.0096, Accuracy: 1240/10000 (12%)\n",
            "\n",
            "Average accuracy: 37.57666666666667\n",
            "Training on task: 1\n",
            "Train Epoch: 0 \tLoss: 1.570062\n",
            "Train Epoch: 1 \tLoss: 1.593123\n",
            "Testing on task: 0\n",
            "Test set: Average loss: 0.0012, Accuracy: 9066/10000 (91%)\n",
            "\n",
            "Testing on task: 1\n",
            "Test set: Average loss: 0.0023, Accuracy: 8349/10000 (83%)\n",
            "\n",
            "Testing on task: 2\n",
            "Test set: Average loss: 0.0101, Accuracy: 1204/10000 (12%)\n",
            "\n",
            "Average accuracy: 62.063333333333325\n",
            "Training on task: 2\n",
            "Train Epoch: 0 \tLoss: 1.005489\n",
            "Train Epoch: 1 \tLoss: 0.745933\n",
            "Testing on task: 0\n",
            "Test set: Average loss: 0.0014, Accuracy: 9030/10000 (90%)\n",
            "\n",
            "Testing on task: 1\n",
            "Test set: Average loss: 0.0049, Accuracy: 6205/10000 (62%)\n",
            "\n",
            "Testing on task: 2\n",
            "Test set: Average loss: 0.0019, Accuracy: 8646/10000 (86%)\n",
            "\n",
            "Average accuracy: 79.60333333333334\n"
          ]
        }
      ],
      "source": [
        "print('ACCURACY ON REHEARSAL STRATEGY STORING ALL PREVIOUS EXAMPLES')\n",
        "accs_rehearsal_all = train_reh(1) # regural supervised fashion: 100% \n",
        "print('ACCURACY ON REHEARSAL STRATEGY STORING 5% EXAMPLES')\n",
        "accs_rehearsal_5 = train_reh(0.05) # 5% of previous samples for each task"
      ]
    },
    {
      "cell_type": "markdown",
      "metadata": {
        "id": "JDvNegGie3AX"
      },
      "source": [
        "**Questions to explore:**\n",
        "\n",
        "*   Can you find a way to reduce the number of examples of the previous tasks to maintain in memory? \n",
        "*   Can you find a good trade-off between memory overhead and final accuracy?\n",
        "*   Why is shuffling needed here?"
      ]
    },
    {
      "attachments": {},
      "cell_type": "markdown",
      "metadata": {
        "id": "AqofPHt01Zog"
      },
      "source": [
        "### Elastic Weights Consolidation (EWC) Strategy\n",
        "\n",
        "Elastic Weights Consolidation (EWC) is a common CL strategy firstly proposed in the paper [*Overcoming catastrophic forgetting in neural networks*](https://arxiv.org/abs/1612.00796) for deep neural networks.\n",
        "\n",
        "It is based on the computation of the importance of each weight (Fisher information) and a squared regularization loss, penalizing changes in the most important weights for the previous tasks.\n",
        "\n",
        "It has the great advantage of **not using any** of the previous tasks data!"
      ]
    },
    {
      "cell_type": "code",
      "execution_count": 23,
      "metadata": {
        "id": "e9iry5W56xtO"
      },
      "outputs": [],
      "source": [
        "fisher_dict = {}\n",
        "optpar_dict = {}\n",
        "ewc_lambda = 0.5"
      ]
    },
    {
      "cell_type": "code",
      "execution_count": 24,
      "metadata": {
        "id": "0ZlyqcICEps_"
      },
      "outputs": [],
      "source": [
        "model = Net().to(device)\n",
        "optimizer = optim.SGD(model.parameters(), lr=0.01, momentum=0.9)"
      ]
    },
    {
      "attachments": {},
      "cell_type": "markdown",
      "metadata": {
        "id": "Clm_QFF12mO9"
      },
      "source": [
        "Now we need to define an additional function to compute the Fisher information for each weight at the end of each task:"
      ]
    },
    {
      "cell_type": "code",
      "execution_count": 25,
      "metadata": {
        "id": "iEmBNkaO1Ykq"
      },
      "outputs": [],
      "source": [
        "def on_task_update(task_id, x_mem, t_mem):\n",
        "\n",
        "  model.train()\n",
        "  optimizer.zero_grad()\n",
        "  \n",
        "  # accumulating gradients\n",
        "  for start in range(0, len(t_mem)-1, 256):\n",
        "      end = start + 256\n",
        "      x, y = torch.from_numpy(x_mem[start:end]), torch.from_numpy(t_mem[start:end]).long()\n",
        "      x, y = x.to(device), y.to(device)\n",
        "      output = model(x)\n",
        "      loss = F.cross_entropy(output, y)\n",
        "      loss.backward()\n",
        "\n",
        "  fisher_dict[task_id] = {}\n",
        "  optpar_dict[task_id] = {}\n",
        "\n",
        "  # gradients accumulated can be used to calculate Fisher\n",
        "  for name, param in model.named_parameters():\n",
        "    \n",
        "    optpar_dict[task_id][name] = param.data.clone()\n",
        "    fisher_dict[task_id][name] = param.grad.data.clone().pow(2)"
      ]
    },
    {
      "attachments": {},
      "cell_type": "markdown",
      "metadata": {
        "id": "2hGp0Qsf2wa-"
      },
      "source": [
        "We need also to modify our *train* function to add the new regularization loss.\n",
        "Given the Fisher coefficients $F_t$ and the network parameters $W_t$ for task $t$, the regularization loss can be computed as follows:\n",
        "\n",
        "$$\\mathcal{L}_{reg}(t) = \\lambda_{ewc} \\cdot sum(F_t(W_t - W_{current})^2)$$\n",
        "\n",
        "where the $sum$ function sums over all the parameters, $W_{current}$ are the current weights of the network and $\\lambda_{ewc}$ is a constant used to weight the regularization loss."
      ]
    },
    {
      "cell_type": "code",
      "execution_count": 26,
      "metadata": {
        "id": "IorTFus1Gs5H"
      },
      "outputs": [],
      "source": [
        "def train_ewc(model, device, task_id, x_train, t_train, optimizer, epoch):\n",
        "    model.train()\n",
        "\n",
        "    for start in range(0, len(t_train)-1, 256):\n",
        "      end = start + 256\n",
        "      x, y = torch.from_numpy(x_train[start:end]), torch.from_numpy(t_train[start:end]).long()\n",
        "      x, y = x.to(device), y.to(device)\n",
        "      \n",
        "      optimizer.zero_grad()\n",
        "\n",
        "      output = model(x)\n",
        "      loss = F.cross_entropy(output, y)\n",
        "\n",
        "      # magic here! :-)\n",
        "      for task in range(task_id):\n",
        "        for name, param in model.named_parameters():\n",
        "          fisher = fisher_dict[task][name]\n",
        "          optpar = optpar_dict[task][name]\n",
        "          loss += (fisher * (optpar - param).pow(2)).sum() * ewc_lambda\n",
        "      \n",
        "      loss.backward()\n",
        "      optimizer.step()\n",
        "      #print(loss.item())\n",
        "    print('Train Epoch: {} \\tLoss: {:.6f}'.format(epoch, loss.item()))"
      ]
    },
    {
      "attachments": {},
      "cell_type": "markdown",
      "metadata": {
        "id": "u754qi423EEc"
      },
      "source": [
        "Finally we can run the training over the three tasks sequence of the *Permuted MNIST*:"
      ]
    },
    {
      "cell_type": "code",
      "execution_count": 27,
      "metadata": {
        "id": "IkUCo4C6-QpT"
      },
      "outputs": [
        {
          "name": "stdout",
          "output_type": "stream",
          "text": [
            "Training on task: 0\n",
            "Train Epoch: 1 \tLoss: 0.713530\n",
            "Train Epoch: 2 \tLoss: 0.532914\n",
            "Testing on task: 0\n",
            "Test set: Average loss: 0.0007, Accuracy: 9452/10000 (95%)\n",
            "\n",
            "Testing on task: 1\n",
            "Test set: Average loss: 0.0109, Accuracy: 622/10000 (6%)\n",
            "\n",
            "Testing on task: 2\n",
            "Test set: Average loss: 0.0100, Accuracy: 1233/10000 (12%)\n",
            "\n",
            "Average accuracy: 37.69\n",
            "Training on task: 1\n",
            "Train Epoch: 1 \tLoss: 2.193642\n",
            "Train Epoch: 2 \tLoss: 1.904543\n",
            "Testing on task: 0\n",
            "Test set: Average loss: 0.0070, Accuracy: 5545/10000 (55%)\n",
            "\n",
            "Testing on task: 1\n",
            "Test set: Average loss: 0.0042, Accuracy: 7238/10000 (72%)\n",
            "\n",
            "Testing on task: 2\n",
            "Test set: Average loss: 0.0102, Accuracy: 1308/10000 (13%)\n",
            "\n",
            "Average accuracy: 46.97\n",
            "Training on task: 2\n",
            "Train Epoch: 1 \tLoss: 2.246018\n",
            "Train Epoch: 2 \tLoss: 1.948398\n",
            "Testing on task: 0\n",
            "Test set: Average loss: 0.0086, Accuracy: 5179/10000 (52%)\n",
            "\n",
            "Testing on task: 1\n",
            "Test set: Average loss: 0.0076, Accuracy: 3531/10000 (35%)\n",
            "\n",
            "Testing on task: 2\n",
            "Test set: Average loss: 0.0038, Accuracy: 7262/10000 (73%)\n",
            "\n",
            "Average accuracy: 53.24\n"
          ]
        }
      ],
      "source": [
        "ewc_accs = []\n",
        "for id, task in enumerate(tasks):\n",
        "  avg_acc = 0\n",
        "  print(\"Training on task:\", id)\n",
        "  \n",
        "  (x_train, t_train), _ = task\n",
        "  \n",
        "  for epoch in range(1, 3):\n",
        "    train_ewc(model, device, id, x_train, t_train, optimizer, epoch)\n",
        "  on_task_update(id, x_train, t_train)\n",
        "    \n",
        "  for id_test, task in enumerate(tasks):\n",
        "    print(\"Testing on task:\", id_test)\n",
        "    _, (x_test, t_test) = task\n",
        "    acc = test(model, device, x_test, t_test)\n",
        "    avg_acc = avg_acc + acc\n",
        "   \n",
        "  print(\"Average accuracy:\", avg_acc / 3)\n",
        "  ewc_accs.append(avg_acc / 3)"
      ]
    },
    {
      "attachments": {},
      "cell_type": "markdown",
      "metadata": {
        "id": "Nx4bR5K1uIwU"
      },
      "source": [
        "**Questions to explore:**\n",
        "\n",
        "*   How much the `ewc_lambda` parameter affects the final results? \n",
        "*   Can you find a better parametrization to improve stability?\n",
        "*   Can you find the memory overhead introduced by EWC with respect to the Naive approach?\n",
        "\n",
        "Some tips here: https://arxiv.org/pdf/1805.06370.pdf"
      ]
    },
    {
      "attachments": {},
      "cell_type": "markdown",
      "metadata": {
        "id": "o3SM7U5fwTqV"
      },
      "source": [
        "### Plot Results\n",
        "\n",
        "To conclude, let's summarize our results in a nice plot! :-)"
      ]
    },
    {
      "cell_type": "code",
      "execution_count": 28,
      "metadata": {
        "id": "sIQEVVpDwPP5"
      },
      "outputs": [
        {
          "data": {
            "image/png": "[encoded data removed]",
            "text/plain": [
              "<Figure size 640x480 with 1 Axes>"
            ]
          },
          "metadata": {},
          "output_type": "display_data"
        }
      ],
      "source": [
        "plt.plot([3], [acc_upper_limit], '-o', label=\"Upper limit\")\n",
        "plt.plot([1, 2, 3], accs_naive, '-o', label=\"Naive\")\n",
        "plt.plot([1, 2, 3], accs_rehearsal_all, '-o', label=\"Rehearsal 100%\")\n",
        "plt.plot([1, 2, 3], accs_rehearsal_5, '-o', label=\"Rehearsal 5%\")\n",
        "plt.plot([1, 2, 3], ewc_accs, '-o', label=\"EWC\")\n",
        "plt.xlabel('Tasks encountered', fontsize=14)\n",
        "plt.ylabel('Average accuracy', fontsize=14)\n",
        "plt.title('CL Strategies Comparison on MNIST', fontsize=14)\n",
        "plt.xticks([1, 2, 3])\n",
        "plt.legend()\n",
        "plt.show()"
      ]
    },
    {
      "cell_type": "markdown",
      "metadata": {
        "id": "9x1D3O7iunxS"
      },
      "source": [
        "**Questions to explore:**\n",
        "\n",
        "*   What's the difference in terms of memory utilization among the three methods? \n",
        "*   Can you plot a similar graph highlighting the memory increase over time?\n",
        "\n",
        "Some tips here: https://stackoverflow.com/questions/449560/how-do-i-determine-the-size-of-an-object-in-python/30316760"
      ]
    },
    {
      "attachments": {},
      "cell_type": "markdown",
      "metadata": {
        "id": "OS9gHzZM7HQr"
      },
      "source": [
        "Copyright (c) 2018. Continual AI. All rights reserved.\n",
        "\n",
        "See the accompanying LICENSE file in the GitHub repository for terms.                                                                                             \n",
        "Website: https://www.continualai.org/                                          "
      ]
    }
  ],
  "metadata": {
    "accelerator": "GPU",
    "colab": {
      "provenance": [],
      "toc_visible": true
    },
    "kernelspec": {
      "display_name": "Python 3",
      "language": "python",
      "name": "python3"
    },
    "language_info": {
      "codemirror_mode": {
        "name": "ipython",
        "version": 3
      },
      "file_extension": ".py",
      "mimetype": "text/x-python",
      "name": "python",
      "nbconvert_exporter": "python",
      "pygments_lexer": "ipython3",
      "version": "3.9.15"
    },
    "widgets": {
      "application/vnd.jupyter.widget-state+json": {
        "06fddf73d2b945b6b3eae12b5da8b726": {
          "model_module": "@jupyter-widgets/controls",
          "model_module_version": "1.5.0",
          "model_name": "HTMLModel",
          "state": {
            "_dom_classes": [],
            "_model_module": "@jupyter-widgets/controls",
            "_model_module_version": "1.5.0",
            "_model_name": "HTMLModel",
            "_view_count": null,
            "_view_module": "@jupyter-widgets/controls",
            "_view_module_version": "1.5.0",
            "_view_name": "HTMLView",
            "description": "",
            "description_tooltip": null,
            "layout": "IPY_MODEL_dc08e579a713449397e679b4ca623f42",
            "placeholder": "​",
            "style": "IPY_MODEL_702144d8d22a4897a171a620f4211e62",
            "value": "100%"
          }
        },
        "0bb9bda3a3574bcb90b9a3a0f9ffe482": {
          "model_module": "@jupyter-widgets/controls",
          "model_module_version": "1.5.0",
          "model_name": "HTMLModel",
          "state": {
            "_dom_classes": [],
            "_model_module": "@jupyter-widgets/controls",
            "_model_module_version": "1.5.0",
            "_model_name": "HTMLModel",
            "_view_count": null,
            "_view_module": "@jupyter-widgets/controls",
            "_view_module_version": "1.5.0",
            "_view_name": "HTMLView",
            "description": "",
            "description_tooltip": null,
            "layout": "IPY_MODEL_36d04a035f3d4a7cba67aa203b25165d",
            "placeholder": "​",
            "style": "IPY_MODEL_af96f1bef54b4486a3ad1582e86b4153",
            "value": "100%"
          }
        },
        "140618896cc94d93a1bd62f2bdfcfca2": {
          "model_module": "@jupyter-widgets/base",
          "model_module_version": "1.2.0",
          "model_name": "LayoutModel",
          "state": {
            "_model_module": "@jupyter-widgets/base",
            "_model_module_version": "1.2.0",
            "_model_name": "LayoutModel",
            "_view_count": null,
            "_view_module": "@jupyter-widgets/base",
            "_view_module_version": "1.2.0",
            "_view_name": "LayoutView",
            "align_content": null,
            "align_items": null,
            "align_self": null,
            "border": null,
            "bottom": null,
            "display": null,
            "flex": null,
            "flex_flow": null,
            "grid_area": null,
            "grid_auto_columns": null,
            "grid_auto_flow": null,
            "grid_auto_rows": null,
            "grid_column": null,
            "grid_gap": null,
            "grid_row": null,
            "grid_template_areas": null,
            "grid_template_columns": null,
            "grid_template_rows": null,
            "height": null,
            "justify_content": null,
            "justify_items": null,
            "left": null,
            "margin": null,
            "max_height": null,
            "max_width": null,
            "min_height": null,
            "min_width": null,
            "object_fit": null,
            "object_position": null,
            "order": null,
            "overflow": null,
            "overflow_x": null,
            "overflow_y": null,
            "padding": null,
            "right": null,
            "top": null,
            "visibility": null,
            "width": null
          }
        },
        "1af3de7b9b3645388f959c613bd2ad29": {
          "model_module": "@jupyter-widgets/controls",
          "model_module_version": "1.5.0",
          "model_name": "HTMLModel",
          "state": {
            "_dom_classes": [],
            "_model_module": "@jupyter-widgets/controls",
            "_model_module_version": "1.5.0",
            "_model_name": "HTMLModel",
            "_view_count": null,
            "_view_module": "@jupyter-widgets/controls",
            "_view_module_version": "1.5.0",
            "_view_name": "HTMLView",
            "description": "",
            "description_tooltip": null,
            "layout": "IPY_MODEL_53dcdeba45214bcb8babef991b3706d1",
            "placeholder": "​",
            "style": "IPY_MODEL_8ef636321588473a9382e8803e3f8572",
            "value": " 9912422/9912422 [00:00&lt;00:00, 15389482.36it/s]"
          }
        },
        "1c52aa6d0bb4435e8c4192d6b2a3005b": {
          "model_module": "@jupyter-widgets/base",
          "model_module_version": "1.2.0",
          "model_name": "LayoutModel",
          "state": {
            "_model_module": "@jupyter-widgets/base",
            "_model_module_version": "1.2.0",
            "_model_name": "LayoutModel",
            "_view_count": null,
            "_view_module": "@jupyter-widgets/base",
            "_view_module_version": "1.2.0",
            "_view_name": "LayoutView",
            "align_content": null,
            "align_items": null,
            "align_self": null,
            "border": null,
            "bottom": null,
            "display": null,
            "flex": null,
            "flex_flow": null,
            "grid_area": null,
            "grid_auto_columns": null,
            "grid_auto_flow": null,
            "grid_auto_rows": null,
            "grid_column": null,
            "grid_gap": null,
            "grid_row": null,
            "grid_template_areas": null,
            "grid_template_columns": null,
            "grid_template_rows": null,
            "height": null,
            "justify_content": null,
            "justify_items": null,
            "left": null,
            "margin": null,
            "max_height": null,
            "max_width": null,
            "min_height": null,
            "min_width": null,
            "object_fit": null,
            "object_position": null,
            "order": null,
            "overflow": null,
            "overflow_x": null,
            "overflow_y": null,
            "padding": null,
            "right": null,
            "top": null,
            "visibility": null,
            "width": null
          }
        },
        "2cc80c2bcf094de790eb66653b64104e": {
          "model_module": "@jupyter-widgets/controls",
          "model_module_version": "1.5.0",
          "model_name": "DescriptionStyleModel",
          "state": {
            "_model_module": "@jupyter-widgets/controls",
            "_model_module_version": "1.5.0",
            "_model_name": "DescriptionStyleModel",
            "_view_count": null,
            "_view_module": "@jupyter-widgets/base",
            "_view_module_version": "1.2.0",
            "_view_name": "StyleView",
            "description_width": ""
          }
        },
        "31065fd83c074354a14de66a4dc1a57e": {
          "model_module": "@jupyter-widgets/controls",
          "model_module_version": "1.5.0",
          "model_name": "HTMLModel",
          "state": {
            "_dom_classes": [],
            "_model_module": "@jupyter-widgets/controls",
            "_model_module_version": "1.5.0",
            "_model_name": "HTMLModel",
            "_view_count": null,
            "_view_module": "@jupyter-widgets/controls",
            "_view_module_version": "1.5.0",
            "_view_name": "HTMLView",
            "description": "",
            "description_tooltip": null,
            "layout": "IPY_MODEL_4cd8aee9b4b943ab85a028d331a0af54",
            "placeholder": "​",
            "style": "IPY_MODEL_450305483b784771a34b5ef92dd6b559",
            "value": " 4542/4542 [00:00&lt;00:00, 246436.52it/s]"
          }
        },
        "3172efd365374f40a13b6b6f17f302d7": {
          "model_module": "@jupyter-widgets/base",
          "model_module_version": "1.2.0",
          "model_name": "LayoutModel",
          "state": {
            "_model_module": "@jupyter-widgets/base",
            "_model_module_version": "1.2.0",
            "_model_name": "LayoutModel",
            "_view_count": null,
            "_view_module": "@jupyter-widgets/base",
            "_view_module_version": "1.2.0",
            "_view_name": "LayoutView",
            "align_content": null,
            "align_items": null,
            "align_self": null,
            "border": null,
            "bottom": null,
            "display": null,
            "flex": null,
            "flex_flow": null,
            "grid_area": null,
            "grid_auto_columns": null,
            "grid_auto_flow": null,
            "grid_auto_rows": null,
            "grid_column": null,
            "grid_gap": null,
            "grid_row": null,
            "grid_template_areas": null,
            "grid_template_columns": null,
            "grid_template_rows": null,
            "height": null,
            "justify_content": null,
            "justify_items": null,
            "left": null,
            "margin": null,
            "max_height": null,
            "max_width": null,
            "min_height": null,
            "min_width": null,
            "object_fit": null,
            "object_position": null,
            "order": null,
            "overflow": null,
            "overflow_x": null,
            "overflow_y": null,
            "padding": null,
            "right": null,
            "top": null,
            "visibility": null,
            "width": null
          }
        },
        "36d04a035f3d4a7cba67aa203b25165d": {
          "model_module": "@jupyter-widgets/base",
          "model_module_version": "1.2.0",
          "model_name": "LayoutModel",
          "state": {
            "_model_module": "@jupyter-widgets/base",
            "_model_module_version": "1.2.0",
            "_model_name": "LayoutModel",
            "_view_count": null,
            "_view_module": "@jupyter-widgets/base",
            "_view_module_version": "1.2.0",
            "_view_name": "LayoutView",
            "align_content": null,
            "align_items": null,
            "align_self": null,
            "border": null,
            "bottom": null,
            "display": null,
            "flex": null,
            "flex_flow": null,
            "grid_area": null,
            "grid_auto_columns": null,
            "grid_auto_flow": null,
            "grid_auto_rows": null,
            "grid_column": null,
            "grid_gap": null,
            "grid_row": null,
            "grid_template_areas": null,
            "grid_template_columns": null,
            "grid_template_rows": null,
            "height": null,
            "justify_content": null,
            "justify_items": null,
            "left": null,
            "margin": null,
            "max_height": null,
            "max_width": null,
            "min_height": null,
            "min_width": null,
            "object_fit": null,
            "object_position": null,
            "order": null,
            "overflow": null,
            "overflow_x": null,
            "overflow_y": null,
            "padding": null,
            "right": null,
            "top": null,
            "visibility": null,
            "width": null
          }
        },
        "3a6e5aeedf9740219e7e73414fe0d8c5": {
          "model_module": "@jupyter-widgets/controls",
          "model_module_version": "1.5.0",
          "model_name": "DescriptionStyleModel",
          "state": {
            "_model_module": "@jupyter-widgets/controls",
            "_model_module_version": "1.5.0",
            "_model_name": "DescriptionStyleModel",
            "_view_count": null,
            "_view_module": "@jupyter-widgets/base",
            "_view_module_version": "1.2.0",
            "_view_name": "StyleView",
            "description_width": ""
          }
        },
        "3e96572116a040e59e29c7b27c260092": {
          "model_module": "@jupyter-widgets/base",
          "model_module_version": "1.2.0",
          "model_name": "LayoutModel",
          "state": {
            "_model_module": "@jupyter-widgets/base",
            "_model_module_version": "1.2.0",
            "_model_name": "LayoutModel",
            "_view_count": null,
            "_view_module": "@jupyter-widgets/base",
            "_view_module_version": "1.2.0",
            "_view_name": "LayoutView",
            "align_content": null,
            "align_items": null,
            "align_self": null,
            "border": null,
            "bottom": null,
            "display": null,
            "flex": null,
            "flex_flow": null,
            "grid_area": null,
            "grid_auto_columns": null,
            "grid_auto_flow": null,
            "grid_auto_rows": null,
            "grid_column": null,
            "grid_gap": null,
            "grid_row": null,
            "grid_template_areas": null,
            "grid_template_columns": null,
            "grid_template_rows": null,
            "height": null,
            "justify_content": null,
            "justify_items": null,
            "left": null,
            "margin": null,
            "max_height": null,
            "max_width": null,
            "min_height": null,
            "min_width": null,
            "object_fit": null,
            "object_position": null,
            "order": null,
            "overflow": null,
            "overflow_x": null,
            "overflow_y": null,
            "padding": null,
            "right": null,
            "top": null,
            "visibility": null,
            "width": null
          }
        },
        "450305483b784771a34b5ef92dd6b559": {
          "model_module": "@jupyter-widgets/controls",
          "model_module_version": "1.5.0",
          "model_name": "DescriptionStyleModel",
          "state": {
            "_model_module": "@jupyter-widgets/controls",
            "_model_module_version": "1.5.0",
            "_model_name": "DescriptionStyleModel",
            "_view_count": null,
            "_view_module": "@jupyter-widgets/base",
            "_view_module_version": "1.2.0",
            "_view_name": "StyleView",
            "description_width": ""
          }
        },
        "466428f7880f4894ba870f0ddfdd92cd": {
          "model_module": "@jupyter-widgets/controls",
          "model_module_version": "1.5.0",
          "model_name": "HBoxModel",
          "state": {
            "_dom_classes": [],
            "_model_module": "@jupyter-widgets/controls",
            "_model_module_version": "1.5.0",
            "_model_name": "HBoxModel",
            "_view_count": null,
            "_view_module": "@jupyter-widgets/controls",
            "_view_module_version": "1.5.0",
            "_view_name": "HBoxView",
            "box_style": "",
            "children": [
              "IPY_MODEL_0bb9bda3a3574bcb90b9a3a0f9ffe482",
              "IPY_MODEL_f4ed4bd8af8b4217927eddc740e09b51",
              "IPY_MODEL_31065fd83c074354a14de66a4dc1a57e"
            ],
            "layout": "IPY_MODEL_58b59e1c4ff1444f84c9ace481300016"
          }
        },
        "47c7b611858240518aa207bf59055610": {
          "model_module": "@jupyter-widgets/controls",
          "model_module_version": "1.5.0",
          "model_name": "DescriptionStyleModel",
          "state": {
            "_model_module": "@jupyter-widgets/controls",
            "_model_module_version": "1.5.0",
            "_model_name": "DescriptionStyleModel",
            "_view_count": null,
            "_view_module": "@jupyter-widgets/base",
            "_view_module_version": "1.2.0",
            "_view_name": "StyleView",
            "description_width": ""
          }
        },
        "48420d9b361f4cd6ba768d5605b02edd": {
          "model_module": "@jupyter-widgets/controls",
          "model_module_version": "1.5.0",
          "model_name": "ProgressStyleModel",
          "state": {
            "_model_module": "@jupyter-widgets/controls",
            "_model_module_version": "1.5.0",
            "_model_name": "ProgressStyleModel",
            "_view_count": null,
            "_view_module": "@jupyter-widgets/base",
            "_view_module_version": "1.2.0",
            "_view_name": "StyleView",
            "bar_color": null,
            "description_width": ""
          }
        },
        "495cbc8eb89e4e5e886cf0fa3f7b662e": {
          "model_module": "@jupyter-widgets/controls",
          "model_module_version": "1.5.0",
          "model_name": "FloatProgressModel",
          "state": {
            "_dom_classes": [],
            "_model_module": "@jupyter-widgets/controls",
            "_model_module_version": "1.5.0",
            "_model_name": "FloatProgressModel",
            "_view_count": null,
            "_view_module": "@jupyter-widgets/controls",
            "_view_module_version": "1.5.0",
            "_view_name": "ProgressView",
            "bar_style": "success",
            "description": "",
            "description_tooltip": null,
            "layout": "IPY_MODEL_3e96572116a040e59e29c7b27c260092",
            "max": 28881,
            "min": 0,
            "orientation": "horizontal",
            "style": "IPY_MODEL_a35d4272430f46b3bdb2f278d38f5ef2",
            "value": 28881
          }
        },
        "4cd8aee9b4b943ab85a028d331a0af54": {
          "model_module": "@jupyter-widgets/base",
          "model_module_version": "1.2.0",
          "model_name": "LayoutModel",
          "state": {
            "_model_module": "@jupyter-widgets/base",
            "_model_module_version": "1.2.0",
            "_model_name": "LayoutModel",
            "_view_count": null,
            "_view_module": "@jupyter-widgets/base",
            "_view_module_version": "1.2.0",
            "_view_name": "LayoutView",
            "align_content": null,
            "align_items": null,
            "align_self": null,
            "border": null,
            "bottom": null,
            "display": null,
            "flex": null,
            "flex_flow": null,
            "grid_area": null,
            "grid_auto_columns": null,
            "grid_auto_flow": null,
            "grid_auto_rows": null,
            "grid_column": null,
            "grid_gap": null,
            "grid_row": null,
            "grid_template_areas": null,
            "grid_template_columns": null,
            "grid_template_rows": null,
            "height": null,
            "justify_content": null,
            "justify_items": null,
            "left": null,
            "margin": null,
            "max_height": null,
            "max_width": null,
            "min_height": null,
            "min_width": null,
            "object_fit": null,
            "object_position": null,
            "order": null,
            "overflow": null,
            "overflow_x": null,
            "overflow_y": null,
            "padding": null,
            "right": null,
            "top": null,
            "visibility": null,
            "width": null
          }
        },
        "5041a8f66e26405db33b2819247b340d": {
          "model_module": "@jupyter-widgets/controls",
          "model_module_version": "1.5.0",
          "model_name": "FloatProgressModel",
          "state": {
            "_dom_classes": [],
            "_model_module": "@jupyter-widgets/controls",
            "_model_module_version": "1.5.0",
            "_model_name": "FloatProgressModel",
            "_view_count": null,
            "_view_module": "@jupyter-widgets/controls",
            "_view_module_version": "1.5.0",
            "_view_name": "ProgressView",
            "bar_style": "success",
            "description": "",
            "description_tooltip": null,
            "layout": "IPY_MODEL_bf6569d92a444b7497aee60e86f2d411",
            "max": 9912422,
            "min": 0,
            "orientation": "horizontal",
            "style": "IPY_MODEL_7c237a8c465544b2a692818dc85594d5",
            "value": 9912422
          }
        },
        "50cdc68dd9524c1f9d03b44c6b2b5f43": {
          "model_module": "@jupyter-widgets/controls",
          "model_module_version": "1.5.0",
          "model_name": "HTMLModel",
          "state": {
            "_dom_classes": [],
            "_model_module": "@jupyter-widgets/controls",
            "_model_module_version": "1.5.0",
            "_model_name": "HTMLModel",
            "_view_count": null,
            "_view_module": "@jupyter-widgets/controls",
            "_view_module_version": "1.5.0",
            "_view_name": "HTMLView",
            "description": "",
            "description_tooltip": null,
            "layout": "IPY_MODEL_bb87c53ced3a416a980906e394ba2eb3",
            "placeholder": "​",
            "style": "IPY_MODEL_47c7b611858240518aa207bf59055610",
            "value": " 28881/28881 [00:00&lt;00:00, 344868.34it/s]"
          }
        },
        "53dcdeba45214bcb8babef991b3706d1": {
          "model_module": "@jupyter-widgets/base",
          "model_module_version": "1.2.0",
          "model_name": "LayoutModel",
          "state": {
            "_model_module": "@jupyter-widgets/base",
            "_model_module_version": "1.2.0",
            "_model_name": "LayoutModel",
            "_view_count": null,
            "_view_module": "@jupyter-widgets/base",
            "_view_module_version": "1.2.0",
            "_view_name": "LayoutView",
            "align_content": null,
            "align_items": null,
            "align_self": null,
            "border": null,
            "bottom": null,
            "display": null,
            "flex": null,
            "flex_flow": null,
            "grid_area": null,
            "grid_auto_columns": null,
            "grid_auto_flow": null,
            "grid_auto_rows": null,
            "grid_column": null,
            "grid_gap": null,
            "grid_row": null,
            "grid_template_areas": null,
            "grid_template_columns": null,
            "grid_template_rows": null,
            "height": null,
            "justify_content": null,
            "justify_items": null,
            "left": null,
            "margin": null,
            "max_height": null,
            "max_width": null,
            "min_height": null,
            "min_width": null,
            "object_fit": null,
            "object_position": null,
            "order": null,
            "overflow": null,
            "overflow_x": null,
            "overflow_y": null,
            "padding": null,
            "right": null,
            "top": null,
            "visibility": null,
            "width": null
          }
        },
        "58b59e1c4ff1444f84c9ace481300016": {
          "model_module": "@jupyter-widgets/base",
          "model_module_version": "1.2.0",
          "model_name": "LayoutModel",
          "state": {
            "_model_module": "@jupyter-widgets/base",
            "_model_module_version": "1.2.0",
            "_model_name": "LayoutModel",
            "_view_count": null,
            "_view_module": "@jupyter-widgets/base",
            "_view_module_version": "1.2.0",
            "_view_name": "LayoutView",
            "align_content": null,
            "align_items": null,
            "align_self": null,
            "border": null,
            "bottom": null,
            "display": null,
            "flex": null,
            "flex_flow": null,
            "grid_area": null,
            "grid_auto_columns": null,
            "grid_auto_flow": null,
            "grid_auto_rows": null,
            "grid_column": null,
            "grid_gap": null,
            "grid_row": null,
            "grid_template_areas": null,
            "grid_template_columns": null,
            "grid_template_rows": null,
            "height": null,
            "justify_content": null,
            "justify_items": null,
            "left": null,
            "margin": null,
            "max_height": null,
            "max_width": null,
            "min_height": null,
            "min_width": null,
            "object_fit": null,
            "object_position": null,
            "order": null,
            "overflow": null,
            "overflow_x": null,
            "overflow_y": null,
            "padding": null,
            "right": null,
            "top": null,
            "visibility": null,
            "width": null
          }
        },
        "65b189e9e1524759b2398fc2ecd3102d": {
          "model_module": "@jupyter-widgets/base",
          "model_module_version": "1.2.0",
          "model_name": "LayoutModel",
          "state": {
            "_model_module": "@jupyter-widgets/base",
            "_model_module_version": "1.2.0",
            "_model_name": "LayoutModel",
            "_view_count": null,
            "_view_module": "@jupyter-widgets/base",
            "_view_module_version": "1.2.0",
            "_view_name": "LayoutView",
            "align_content": null,
            "align_items": null,
            "align_self": null,
            "border": null,
            "bottom": null,
            "display": null,
            "flex": null,
            "flex_flow": null,
            "grid_area": null,
            "grid_auto_columns": null,
            "grid_auto_flow": null,
            "grid_auto_rows": null,
            "grid_column": null,
            "grid_gap": null,
            "grid_row": null,
            "grid_template_areas": null,
            "grid_template_columns": null,
            "grid_template_rows": null,
            "height": null,
            "justify_content": null,
            "justify_items": null,
            "left": null,
            "margin": null,
            "max_height": null,
            "max_width": null,
            "min_height": null,
            "min_width": null,
            "object_fit": null,
            "object_position": null,
            "order": null,
            "overflow": null,
            "overflow_x": null,
            "overflow_y": null,
            "padding": null,
            "right": null,
            "top": null,
            "visibility": null,
            "width": null
          }
        },
        "6721a37803944dccabb085f20e87bca9": {
          "model_module": "@jupyter-widgets/controls",
          "model_module_version": "1.5.0",
          "model_name": "DescriptionStyleModel",
          "state": {
            "_model_module": "@jupyter-widgets/controls",
            "_model_module_version": "1.5.0",
            "_model_name": "DescriptionStyleModel",
            "_view_count": null,
            "_view_module": "@jupyter-widgets/base",
            "_view_module_version": "1.2.0",
            "_view_name": "StyleView",
            "description_width": ""
          }
        },
        "702144d8d22a4897a171a620f4211e62": {
          "model_module": "@jupyter-widgets/controls",
          "model_module_version": "1.5.0",
          "model_name": "DescriptionStyleModel",
          "state": {
            "_model_module": "@jupyter-widgets/controls",
            "_model_module_version": "1.5.0",
            "_model_name": "DescriptionStyleModel",
            "_view_count": null,
            "_view_module": "@jupyter-widgets/base",
            "_view_module_version": "1.2.0",
            "_view_name": "StyleView",
            "description_width": ""
          }
        },
        "75fc1b4c213d43159f58791e9f8a5a95": {
          "model_module": "@jupyter-widgets/base",
          "model_module_version": "1.2.0",
          "model_name": "LayoutModel",
          "state": {
            "_model_module": "@jupyter-widgets/base",
            "_model_module_version": "1.2.0",
            "_model_name": "LayoutModel",
            "_view_count": null,
            "_view_module": "@jupyter-widgets/base",
            "_view_module_version": "1.2.0",
            "_view_name": "LayoutView",
            "align_content": null,
            "align_items": null,
            "align_self": null,
            "border": null,
            "bottom": null,
            "display": null,
            "flex": null,
            "flex_flow": null,
            "grid_area": null,
            "grid_auto_columns": null,
            "grid_auto_flow": null,
            "grid_auto_rows": null,
            "grid_column": null,
            "grid_gap": null,
            "grid_row": null,
            "grid_template_areas": null,
            "grid_template_columns": null,
            "grid_template_rows": null,
            "height": null,
            "justify_content": null,
            "justify_items": null,
            "left": null,
            "margin": null,
            "max_height": null,
            "max_width": null,
            "min_height": null,
            "min_width": null,
            "object_fit": null,
            "object_position": null,
            "order": null,
            "overflow": null,
            "overflow_x": null,
            "overflow_y": null,
            "padding": null,
            "right": null,
            "top": null,
            "visibility": null,
            "width": null
          }
        },
        "7c237a8c465544b2a692818dc85594d5": {
          "model_module": "@jupyter-widgets/controls",
          "model_module_version": "1.5.0",
          "model_name": "ProgressStyleModel",
          "state": {
            "_model_module": "@jupyter-widgets/controls",
            "_model_module_version": "1.5.0",
            "_model_name": "ProgressStyleModel",
            "_view_count": null,
            "_view_module": "@jupyter-widgets/base",
            "_view_module_version": "1.2.0",
            "_view_name": "StyleView",
            "bar_color": null,
            "description_width": ""
          }
        },
        "7e22b7170228471d9f019ccfd96d7926": {
          "model_module": "@jupyter-widgets/controls",
          "model_module_version": "1.5.0",
          "model_name": "HBoxModel",
          "state": {
            "_dom_classes": [],
            "_model_module": "@jupyter-widgets/controls",
            "_model_module_version": "1.5.0",
            "_model_name": "HBoxModel",
            "_view_count": null,
            "_view_module": "@jupyter-widgets/controls",
            "_view_module_version": "1.5.0",
            "_view_name": "HBoxView",
            "box_style": "",
            "children": [
              "IPY_MODEL_a57da0a07049440792962c4283485500",
              "IPY_MODEL_d6fb7a6e88194728bd862bfa8d6947dc",
              "IPY_MODEL_9e94dc91891c4b599e68cb3f19f23cce"
            ],
            "layout": "IPY_MODEL_65b189e9e1524759b2398fc2ecd3102d"
          }
        },
        "8c70a627eca24ea99cb127f3810aebc4": {
          "model_module": "@jupyter-widgets/controls",
          "model_module_version": "1.5.0",
          "model_name": "HBoxModel",
          "state": {
            "_dom_classes": [],
            "_model_module": "@jupyter-widgets/controls",
            "_model_module_version": "1.5.0",
            "_model_name": "HBoxModel",
            "_view_count": null,
            "_view_module": "@jupyter-widgets/controls",
            "_view_module_version": "1.5.0",
            "_view_name": "HBoxView",
            "box_style": "",
            "children": [
              "IPY_MODEL_06fddf73d2b945b6b3eae12b5da8b726",
              "IPY_MODEL_495cbc8eb89e4e5e886cf0fa3f7b662e",
              "IPY_MODEL_50cdc68dd9524c1f9d03b44c6b2b5f43"
            ],
            "layout": "IPY_MODEL_3172efd365374f40a13b6b6f17f302d7"
          }
        },
        "8ea111aaecc6465e9596d040f65fa9e2": {
          "model_module": "@jupyter-widgets/base",
          "model_module_version": "1.2.0",
          "model_name": "LayoutModel",
          "state": {
            "_model_module": "@jupyter-widgets/base",
            "_model_module_version": "1.2.0",
            "_model_name": "LayoutModel",
            "_view_count": null,
            "_view_module": "@jupyter-widgets/base",
            "_view_module_version": "1.2.0",
            "_view_name": "LayoutView",
            "align_content": null,
            "align_items": null,
            "align_self": null,
            "border": null,
            "bottom": null,
            "display": null,
            "flex": null,
            "flex_flow": null,
            "grid_area": null,
            "grid_auto_columns": null,
            "grid_auto_flow": null,
            "grid_auto_rows": null,
            "grid_column": null,
            "grid_gap": null,
            "grid_row": null,
            "grid_template_areas": null,
            "grid_template_columns": null,
            "grid_template_rows": null,
            "height": null,
            "justify_content": null,
            "justify_items": null,
            "left": null,
            "margin": null,
            "max_height": null,
            "max_width": null,
            "min_height": null,
            "min_width": null,
            "object_fit": null,
            "object_position": null,
            "order": null,
            "overflow": null,
            "overflow_x": null,
            "overflow_y": null,
            "padding": null,
            "right": null,
            "top": null,
            "visibility": null,
            "width": null
          }
        },
        "8ef636321588473a9382e8803e3f8572": {
          "model_module": "@jupyter-widgets/controls",
          "model_module_version": "1.5.0",
          "model_name": "DescriptionStyleModel",
          "state": {
            "_model_module": "@jupyter-widgets/controls",
            "_model_module_version": "1.5.0",
            "_model_name": "DescriptionStyleModel",
            "_view_count": null,
            "_view_module": "@jupyter-widgets/base",
            "_view_module_version": "1.2.0",
            "_view_name": "StyleView",
            "description_width": ""
          }
        },
        "8fee69c32f72422a8f7e331a22adea14": {
          "model_module": "@jupyter-widgets/controls",
          "model_module_version": "1.5.0",
          "model_name": "HBoxModel",
          "state": {
            "_dom_classes": [],
            "_model_module": "@jupyter-widgets/controls",
            "_model_module_version": "1.5.0",
            "_model_name": "HBoxModel",
            "_view_count": null,
            "_view_module": "@jupyter-widgets/controls",
            "_view_module_version": "1.5.0",
            "_view_name": "HBoxView",
            "box_style": "",
            "children": [
              "IPY_MODEL_bcd23ea5a3c44ce59b77fc730a7043fa",
              "IPY_MODEL_5041a8f66e26405db33b2819247b340d",
              "IPY_MODEL_1af3de7b9b3645388f959c613bd2ad29"
            ],
            "layout": "IPY_MODEL_8ea111aaecc6465e9596d040f65fa9e2"
          }
        },
        "9156a6f7f7424bec978b66231b94fb51": {
          "model_module": "@jupyter-widgets/base",
          "model_module_version": "1.2.0",
          "model_name": "LayoutModel",
          "state": {
            "_model_module": "@jupyter-widgets/base",
            "_model_module_version": "1.2.0",
            "_model_name": "LayoutModel",
            "_view_count": null,
            "_view_module": "@jupyter-widgets/base",
            "_view_module_version": "1.2.0",
            "_view_name": "LayoutView",
            "align_content": null,
            "align_items": null,
            "align_self": null,
            "border": null,
            "bottom": null,
            "display": null,
            "flex": null,
            "flex_flow": null,
            "grid_area": null,
            "grid_auto_columns": null,
            "grid_auto_flow": null,
            "grid_auto_rows": null,
            "grid_column": null,
            "grid_gap": null,
            "grid_row": null,
            "grid_template_areas": null,
            "grid_template_columns": null,
            "grid_template_rows": null,
            "height": null,
            "justify_content": null,
            "justify_items": null,
            "left": null,
            "margin": null,
            "max_height": null,
            "max_width": null,
            "min_height": null,
            "min_width": null,
            "object_fit": null,
            "object_position": null,
            "order": null,
            "overflow": null,
            "overflow_x": null,
            "overflow_y": null,
            "padding": null,
            "right": null,
            "top": null,
            "visibility": null,
            "width": null
          }
        },
        "965783c40084425595be5fb9a6603f37": {
          "model_module": "@jupyter-widgets/base",
          "model_module_version": "1.2.0",
          "model_name": "LayoutModel",
          "state": {
            "_model_module": "@jupyter-widgets/base",
            "_model_module_version": "1.2.0",
            "_model_name": "LayoutModel",
            "_view_count": null,
            "_view_module": "@jupyter-widgets/base",
            "_view_module_version": "1.2.0",
            "_view_name": "LayoutView",
            "align_content": null,
            "align_items": null,
            "align_self": null,
            "border": null,
            "bottom": null,
            "display": null,
            "flex": null,
            "flex_flow": null,
            "grid_area": null,
            "grid_auto_columns": null,
            "grid_auto_flow": null,
            "grid_auto_rows": null,
            "grid_column": null,
            "grid_gap": null,
            "grid_row": null,
            "grid_template_areas": null,
            "grid_template_columns": null,
            "grid_template_rows": null,
            "height": null,
            "justify_content": null,
            "justify_items": null,
            "left": null,
            "margin": null,
            "max_height": null,
            "max_width": null,
            "min_height": null,
            "min_width": null,
            "object_fit": null,
            "object_position": null,
            "order": null,
            "overflow": null,
            "overflow_x": null,
            "overflow_y": null,
            "padding": null,
            "right": null,
            "top": null,
            "visibility": null,
            "width": null
          }
        },
        "9cd25b30bc9f4be683558b0860b52ae2": {
          "model_module": "@jupyter-widgets/controls",
          "model_module_version": "1.5.0",
          "model_name": "ProgressStyleModel",
          "state": {
            "_model_module": "@jupyter-widgets/controls",
            "_model_module_version": "1.5.0",
            "_model_name": "ProgressStyleModel",
            "_view_count": null,
            "_view_module": "@jupyter-widgets/base",
            "_view_module_version": "1.2.0",
            "_view_name": "StyleView",
            "bar_color": null,
            "description_width": ""
          }
        },
        "9e94dc91891c4b599e68cb3f19f23cce": {
          "model_module": "@jupyter-widgets/controls",
          "model_module_version": "1.5.0",
          "model_name": "HTMLModel",
          "state": {
            "_dom_classes": [],
            "_model_module": "@jupyter-widgets/controls",
            "_model_module_version": "1.5.0",
            "_model_name": "HTMLModel",
            "_view_count": null,
            "_view_module": "@jupyter-widgets/controls",
            "_view_module_version": "1.5.0",
            "_view_name": "HTMLView",
            "description": "",
            "description_tooltip": null,
            "layout": "IPY_MODEL_75fc1b4c213d43159f58791e9f8a5a95",
            "placeholder": "​",
            "style": "IPY_MODEL_3a6e5aeedf9740219e7e73414fe0d8c5",
            "value": " 1648877/1648877 [00:00&lt;00:00, 3025990.68it/s]"
          }
        },
        "a35d4272430f46b3bdb2f278d38f5ef2": {
          "model_module": "@jupyter-widgets/controls",
          "model_module_version": "1.5.0",
          "model_name": "ProgressStyleModel",
          "state": {
            "_model_module": "@jupyter-widgets/controls",
            "_model_module_version": "1.5.0",
            "_model_name": "ProgressStyleModel",
            "_view_count": null,
            "_view_module": "@jupyter-widgets/base",
            "_view_module_version": "1.2.0",
            "_view_name": "StyleView",
            "bar_color": null,
            "description_width": ""
          }
        },
        "a57da0a07049440792962c4283485500": {
          "model_module": "@jupyter-widgets/controls",
          "model_module_version": "1.5.0",
          "model_name": "HTMLModel",
          "state": {
            "_dom_classes": [],
            "_model_module": "@jupyter-widgets/controls",
            "_model_module_version": "1.5.0",
            "_model_name": "HTMLModel",
            "_view_count": null,
            "_view_module": "@jupyter-widgets/controls",
            "_view_module_version": "1.5.0",
            "_view_name": "HTMLView",
            "description": "",
            "description_tooltip": null,
            "layout": "IPY_MODEL_965783c40084425595be5fb9a6603f37",
            "placeholder": "​",
            "style": "IPY_MODEL_6721a37803944dccabb085f20e87bca9",
            "value": "100%"
          }
        },
        "af96f1bef54b4486a3ad1582e86b4153": {
          "model_module": "@jupyter-widgets/controls",
          "model_module_version": "1.5.0",
          "model_name": "DescriptionStyleModel",
          "state": {
            "_model_module": "@jupyter-widgets/controls",
            "_model_module_version": "1.5.0",
            "_model_name": "DescriptionStyleModel",
            "_view_count": null,
            "_view_module": "@jupyter-widgets/base",
            "_view_module_version": "1.2.0",
            "_view_name": "StyleView",
            "description_width": ""
          }
        },
        "bb87c53ced3a416a980906e394ba2eb3": {
          "model_module": "@jupyter-widgets/base",
          "model_module_version": "1.2.0",
          "model_name": "LayoutModel",
          "state": {
            "_model_module": "@jupyter-widgets/base",
            "_model_module_version": "1.2.0",
            "_model_name": "LayoutModel",
            "_view_count": null,
            "_view_module": "@jupyter-widgets/base",
            "_view_module_version": "1.2.0",
            "_view_name": "LayoutView",
            "align_content": null,
            "align_items": null,
            "align_self": null,
            "border": null,
            "bottom": null,
            "display": null,
            "flex": null,
            "flex_flow": null,
            "grid_area": null,
            "grid_auto_columns": null,
            "grid_auto_flow": null,
            "grid_auto_rows": null,
            "grid_column": null,
            "grid_gap": null,
            "grid_row": null,
            "grid_template_areas": null,
            "grid_template_columns": null,
            "grid_template_rows": null,
            "height": null,
            "justify_content": null,
            "justify_items": null,
            "left": null,
            "margin": null,
            "max_height": null,
            "max_width": null,
            "min_height": null,
            "min_width": null,
            "object_fit": null,
            "object_position": null,
            "order": null,
            "overflow": null,
            "overflow_x": null,
            "overflow_y": null,
            "padding": null,
            "right": null,
            "top": null,
            "visibility": null,
            "width": null
          }
        },
        "bcd23ea5a3c44ce59b77fc730a7043fa": {
          "model_module": "@jupyter-widgets/controls",
          "model_module_version": "1.5.0",
          "model_name": "HTMLModel",
          "state": {
            "_dom_classes": [],
            "_model_module": "@jupyter-widgets/controls",
            "_model_module_version": "1.5.0",
            "_model_name": "HTMLModel",
            "_view_count": null,
            "_view_module": "@jupyter-widgets/controls",
            "_view_module_version": "1.5.0",
            "_view_name": "HTMLView",
            "description": "",
            "description_tooltip": null,
            "layout": "IPY_MODEL_9156a6f7f7424bec978b66231b94fb51",
            "placeholder": "​",
            "style": "IPY_MODEL_2cc80c2bcf094de790eb66653b64104e",
            "value": "100%"
          }
        },
        "bf6569d92a444b7497aee60e86f2d411": {
          "model_module": "@jupyter-widgets/base",
          "model_module_version": "1.2.0",
          "model_name": "LayoutModel",
          "state": {
            "_model_module": "@jupyter-widgets/base",
            "_model_module_version": "1.2.0",
            "_model_name": "LayoutModel",
            "_view_count": null,
            "_view_module": "@jupyter-widgets/base",
            "_view_module_version": "1.2.0",
            "_view_name": "LayoutView",
            "align_content": null,
            "align_items": null,
            "align_self": null,
            "border": null,
            "bottom": null,
            "display": null,
            "flex": null,
            "flex_flow": null,
            "grid_area": null,
            "grid_auto_columns": null,
            "grid_auto_flow": null,
            "grid_auto_rows": null,
            "grid_column": null,
            "grid_gap": null,
            "grid_row": null,
            "grid_template_areas": null,
            "grid_template_columns": null,
            "grid_template_rows": null,
            "height": null,
            "justify_content": null,
            "justify_items": null,
            "left": null,
            "margin": null,
            "max_height": null,
            "max_width": null,
            "min_height": null,
            "min_width": null,
            "object_fit": null,
            "object_position": null,
            "order": null,
            "overflow": null,
            "overflow_x": null,
            "overflow_y": null,
            "padding": null,
            "right": null,
            "top": null,
            "visibility": null,
            "width": null
          }
        },
        "d6fb7a6e88194728bd862bfa8d6947dc": {
          "model_module": "@jupyter-widgets/controls",
          "model_module_version": "1.5.0",
          "model_name": "FloatProgressModel",
          "state": {
            "_dom_classes": [],
            "_model_module": "@jupyter-widgets/controls",
            "_model_module_version": "1.5.0",
            "_model_name": "FloatProgressModel",
            "_view_count": null,
            "_view_module": "@jupyter-widgets/controls",
            "_view_module_version": "1.5.0",
            "_view_name": "ProgressView",
            "bar_style": "success",
            "description": "",
            "description_tooltip": null,
            "layout": "IPY_MODEL_1c52aa6d0bb4435e8c4192d6b2a3005b",
            "max": 1648877,
            "min": 0,
            "orientation": "horizontal",
            "style": "IPY_MODEL_48420d9b361f4cd6ba768d5605b02edd",
            "value": 1648877
          }
        },
        "dc08e579a713449397e679b4ca623f42": {
          "model_module": "@jupyter-widgets/base",
          "model_module_version": "1.2.0",
          "model_name": "LayoutModel",
          "state": {
            "_model_module": "@jupyter-widgets/base",
            "_model_module_version": "1.2.0",
            "_model_name": "LayoutModel",
            "_view_count": null,
            "_view_module": "@jupyter-widgets/base",
            "_view_module_version": "1.2.0",
            "_view_name": "LayoutView",
            "align_content": null,
            "align_items": null,
            "align_self": null,
            "border": null,
            "bottom": null,
            "display": null,
            "flex": null,
            "flex_flow": null,
            "grid_area": null,
            "grid_auto_columns": null,
            "grid_auto_flow": null,
            "grid_auto_rows": null,
            "grid_column": null,
            "grid_gap": null,
            "grid_row": null,
            "grid_template_areas": null,
            "grid_template_columns": null,
            "grid_template_rows": null,
            "height": null,
            "justify_content": null,
            "justify_items": null,
            "left": null,
            "margin": null,
            "max_height": null,
            "max_width": null,
            "min_height": null,
            "min_width": null,
            "object_fit": null,
            "object_position": null,
            "order": null,
            "overflow": null,
            "overflow_x": null,
            "overflow_y": null,
            "padding": null,
            "right": null,
            "top": null,
            "visibility": null,
            "width": null
          }
        },
        "f4ed4bd8af8b4217927eddc740e09b51": {
          "model_module": "@jupyter-widgets/controls",
          "model_module_version": "1.5.0",
          "model_name": "FloatProgressModel",
          "state": {
            "_dom_classes": [],
            "_model_module": "@jupyter-widgets/controls",
            "_model_module_version": "1.5.0",
            "_model_name": "FloatProgressModel",
            "_view_count": null,
            "_view_module": "@jupyter-widgets/controls",
            "_view_module_version": "1.5.0",
            "_view_name": "ProgressView",
            "bar_style": "success",
            "description": "",
            "description_tooltip": null,
            "layout": "IPY_MODEL_140618896cc94d93a1bd62f2bdfcfca2",
            "max": 4542,
            "min": 0,
            "orientation": "horizontal",
            "style": "IPY_MODEL_9cd25b30bc9f4be683558b0860b52ae2",
            "value": 4542
          }
        }
      }
    }
  },
  "nbformat": 4,
  "nbformat_minor": 0
}
