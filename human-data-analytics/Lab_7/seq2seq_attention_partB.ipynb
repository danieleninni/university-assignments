{
 "cells": [
  {
   "cell_type": "markdown",
   "metadata": {},
   "source": [
    "# Neural machine translation through sequence-to-sequence model with attention - Part B\n",
    "\n",
    "Welcome to the seventh HDA laboratory! In this notebook, you will use the building blocks you implemented yesterday to build the sequence-to-sequence neural machine translator. You will implement a customized training pipeline and you will finally obtain a network able to translate words from Italian to English!\n",
    "\n",
    "In this notebook, sections 1, 2, 3 and 4 are already completed with the solutions from Laboratory 6. If you don't remember the structure go through them, otherwise you can directly start from section 5.\n",
    "\n",
    "This notebook is a revisitation of the one proposed by [TensorFlow](https://www.tensorflow.org/text/tutorials/nmt_with_attention). \n",
    "If you want to experiment more, once completed this notebook you can also go through the notebook about [Transformers](https://www.tensorflow.org/text/tutorials/transformer). Prof. Rossi will go through the transformer architecture during the January lessons.  \n",
    "\n",
    "**In this assignment, you will:**\n",
    "- Put together the building blocks from Laboratory 6 to create a sequence-to-sequence neural machine translator\n",
    "\n",
    "**NOTE**\n",
    "For this lab, we will provide you also with the *.py* files so that you can run the code with a Python IDE. We suggest using a Python IDE instead of Jupyter Notebooks for developing the code for your final project as the debugging would be easier (you can find some suggestions in the how-to document in Moodle)."
   ]
  },
  {
   "cell_type": "code",
   "execution_count": 1,
   "metadata": {},
   "outputs": [
    {
     "name": "stderr",
     "output_type": "stream",
     "text": [
      "2023-01-02 13:30:41.208212: I tensorflow/core/platform/cpu_feature_guard.cc:193] This TensorFlow binary is optimized with oneAPI Deep Neural Network Library (oneDNN) to use the following CPU instructions in performance-critical operations:  AVX2 FMA\n",
      "To enable them in other operations, rebuild TensorFlow with the appropriate compiler flags.\n",
      "2023-01-02 13:30:41.486358: W tensorflow/compiler/xla/stream_executor/platform/default/dso_loader.cc:64] Could not load dynamic library 'libcudart.so.11.0'; dlerror: libcudart.so.11.0: cannot open shared object file: No such file or directory\n",
      "2023-01-02 13:30:41.486452: I tensorflow/compiler/xla/stream_executor/cuda/cudart_stub.cc:29] Ignore above cudart dlerror if you do not have a GPU set up on your machine.\n",
      "2023-01-02 13:30:42.624094: W tensorflow/compiler/xla/stream_executor/platform/default/dso_loader.cc:64] Could not load dynamic library 'libnvinfer.so.7'; dlerror: libnvinfer.so.7: cannot open shared object file: No such file or directory\n",
      "2023-01-02 13:30:42.624302: W tensorflow/compiler/xla/stream_executor/platform/default/dso_loader.cc:64] Could not load dynamic library 'libnvinfer_plugin.so.7'; dlerror: libnvinfer_plugin.so.7: cannot open shared object file: No such file or directory\n",
      "2023-01-02 13:30:42.624317: W tensorflow/compiler/tf2tensorrt/utils/py_utils.cc:38] TF-TRT Warning: Cannot dlopen some TensorRT libraries. If you would like to use Nvidia GPU with TensorRT, please make sure the missing libraries mentioned above are installed properly.\n"
     ]
    }
   ],
   "source": [
    "import pathlib\n",
    "import tensorflow as tf\n",
    "import numpy as np\n",
    "from dataset_utils import *"
   ]
  },
  {
   "cell_type": "markdown",
   "metadata": {},
   "source": [
    "## Load the dataset\n",
    "Download the dataset from [here](http://www.manythings.org/anki/) and unzip it in the same folder of the notebook. In this notebook the ita-eng one is chosen but you can select the one you prefer and change the first line below.\n",
    "The `buff_size` variable is to select a small portion of the dataset for reducing the complexity of the training, you can increase it to obtain a better translator."
   ]
  },
  {
   "cell_type": "code",
   "execution_count": 2,
   "metadata": {},
   "outputs": [
    {
     "name": "stdout",
     "output_type": "stream",
     "text": [
      "Quello è un tavolo.\n",
      "That is a table.\n"
     ]
    }
   ],
   "source": [
    "path_to_file = pathlib.Path('./ita-eng/ita.txt')\n",
    "buff_size = 30000\n",
    "inp, targ = load_data(path_to_file, buff_size)\n",
    "print(inp[-2])\n",
    "print(targ[-2])"
   ]
  },
  {
   "cell_type": "markdown",
   "metadata": {},
   "source": [
    "Split the data into training and test sets."
   ]
  },
  {
   "cell_type": "code",
   "execution_count": 3,
   "metadata": {},
   "outputs": [],
   "source": [
    "train_len = int(buff_size * 0.8)\n",
    "\n",
    "inp_train = inp[:train_len]\n",
    "targ_train = targ[:train_len]\n",
    "\n",
    "inp_test = inp[train_len:]\n",
    "targ_test = targ[train_len:]"
   ]
  },
  {
   "cell_type": "markdown",
   "metadata": {},
   "source": [
    "Create the training and test datasets. Use the function [tf.data.Dataset.from_tensor_slices](https://www.tensorflow.org/api_docs/python/tf/data/Dataset#from_tensor_slices) to create the dataset with ``input`` and ``target`` pairs. Hence, cache the dataset, and apply the shuffling and the batching operations (see Lab 5 for reference)."
   ]
  },
  {
   "cell_type": "code",
   "execution_count": 4,
   "metadata": {},
   "outputs": [
    {
     "name": "stderr",
     "output_type": "stream",
     "text": [
      "2023-01-02 13:30:45.656900: W tensorflow/compiler/xla/stream_executor/platform/default/dso_loader.cc:64] Could not load dynamic library 'libcuda.so.1'; dlerror: libcuda.so.1: cannot open shared object file: No such file or directory\n",
      "2023-01-02 13:30:45.657002: W tensorflow/compiler/xla/stream_executor/cuda/cuda_driver.cc:265] failed call to cuInit: UNKNOWN ERROR (303)\n",
      "2023-01-02 13:30:45.657030: I tensorflow/compiler/xla/stream_executor/cuda/cuda_diagnostics.cc:156] kernel driver does not appear to be running on this host (Daniele-PC): /proc/driver/nvidia/version does not exist\n",
      "2023-01-02 13:30:45.657785: I tensorflow/core/platform/cpu_feature_guard.cc:193] This TensorFlow binary is optimized with oneAPI Deep Neural Network Library (oneDNN) to use the following CPU instructions in performance-critical operations:  AVX2 FMA\n",
      "To enable them in other operations, rebuild TensorFlow with the appropriate compiler flags.\n"
     ]
    }
   ],
   "source": [
    "batch_size = 64\n",
    "\n",
    "### START CODE HERE ###\n",
    "dataset_train = tf.data.Dataset.from_tensor_slices((inp_train, targ_train))\n",
    "cache_file_train = 'dataset_cache_train'\n",
    "dataset_train = dataset_train.cache(cache_file_train)\n",
    "dataset_train = dataset_train.shuffle(buff_size)\n",
    "dataset_train = dataset_train.batch(batch_size)\n",
    "### END CODE HERE ###\n",
    "\n",
    "### START CODE HERE ###\n",
    "dataset_test = tf.data.Dataset.from_tensor_slices((inp_test, targ_test))\n",
    "cache_file_test = 'dataset_cache_test'\n",
    "dataset_test = dataset_test.cache(cache_file_test)\n",
    "dataset_test = dataset_test.shuffle(buff_size)\n",
    "dataset_test = dataset_test.batch(batch_size)\n",
    "### END CODE HERE ###"
   ]
  },
  {
   "cell_type": "markdown",
   "metadata": {},
   "source": [
    "Create a [tf.keras.layers.TextVectorization layer](https://www.tensorflow.org/api_docs/python/tf/keras/layers/TextVectorization) that you will use in the following to map the text into integer sequences. We use the custom `tf_lower_and_split_punct` in `dataset_utils.py` for the standardization (e.g., remove accents, put all letters in lowercase, ...). This operation is needed because we want to use a vocabulary with a limited size."
   ]
  },
  {
   "cell_type": "code",
   "execution_count": 5,
   "metadata": {},
   "outputs": [],
   "source": [
    "max_vocab_size = 5000\n",
    "\n",
    "input_text_processor = tf.keras.layers.TextVectorization(standardize=tf_lower_and_split_punct, max_tokens=max_vocab_size)\n",
    "input_text_processor.adapt(inp_train)\n",
    "\n",
    "output_text_processor = tf.keras.layers.TextVectorization(standardize=tf_lower_and_split_punct, max_tokens=max_vocab_size)\n",
    "output_text_processor.adapt(targ_train)"
   ]
  },
  {
   "cell_type": "markdown",
   "metadata": {},
   "source": [
    "Run the cell below to have an example of how the preprocessing is working."
   ]
  },
  {
   "cell_type": "code",
   "execution_count": 6,
   "metadata": {},
   "outputs": [
    {
     "name": "stdout",
     "output_type": "stream",
     "text": [
      "Hi! You've almost done, this is the sixth HDA lab. Oggi è il sesto laboratorio del corso HDA!\n",
      "[START] hi !  you ' ve almost done ,  this is the sixth hda lab .  oggi e il sesto laboratorio del corso hda ! [END]\n"
     ]
    }
   ],
   "source": [
    "example_text = tf.constant('Hi! You\\'ve almost done, this is the sixth HDA lab. Oggi è il sesto laboratorio del corso HDA!')\n",
    "print(example_text.numpy().decode())\n",
    "print(tf_lower_and_split_punct(example_text).numpy().decode())"
   ]
  },
  {
   "cell_type": "markdown",
   "metadata": {},
   "source": [
    "## 1 - Encoder\n",
    "Let's start to create the seq2seq model. \n",
    "<center><img src=\"images/seq2seq.jpg\" style=\"width:50%\"></center>\n",
    "<caption><center> The seq2seq model with attention.<br> </center></caption>\n",
    "\n",
    "The first block we need to code is the encoder. This block processes the input sequence and encodes it into a code of fixed size.\n",
    "\n",
    "To create the encoder we define a [custom tf.keras.Layer](https://www.tensorflow.org/guide/keras/custom_layers_and_models) by subclassing the tf.keras.Layer. We will instantiate all the sub-layers that we need for this new layer and combine them to create the new layer. \n",
    "Here in the ``init`` method we instantiate all the sub-layers needed to define the encoder. Each layer will be an attribute of the class, i.e., it will be referred to as ``self.attribute_name`` within the class.  \n",
    "Next, the `call` method creates the layer by combining the sub-layers instantiated above: first the input is forwarded through the embedding sub-layer and the output of the embedding is forwarded through the RNN with GRU sub-layer. \n",
    "    \n",
    "Specifically, through the ``call`` method, the encoder:\n",
    "1. takes a list of token indices\n",
    "2. converts each token into an embedding vector using a [layers.Embedding](https://www.tensorflow.org/api_docs/python/tf/keras/layers/Embedding)\n",
    "3. processes the embeddings sequentially through a [tf.keras.layers.GRU](https://www.tensorflow.org/api_docs/python/tf/keras/layers/GRU) and obtain the output state (`return_state`=True) and the entire sequence of hidden states resulting from the processing of the entire sequence (`return_sequences`=True), use `glorot_uniform` for the initializer\n",
    "4. returns the processed sequence that will be passed to the attention layer and the internal state will serve to initialize the decoder "
   ]
  },
  {
   "cell_type": "code",
   "execution_count": 7,
   "metadata": {},
   "outputs": [],
   "source": [
    "class Encoder(tf.keras.layers.Layer):\n",
    "    def __init__(self, input_vocab_size, embedding_dim, enc_units):\n",
    "        \"\"\"\n",
    "        This class creates a new custom tf.keras.Layer. This is done by instantiating some attributes and combining them.\n",
    "        For more info see: https://www.tensorflow.org/guide/keras/custom_layers_and_models\n",
    "        Here we instantiate all the layers that we need for this model. \n",
    "        Next, the `call` method creates the layer by combining the ones instantiated here.\n",
    "        :param input_vocab_size: the size of the vocabulary\n",
    "        :param embedding_dim: fixed size for the embeddings\n",
    "        :param enc_units: number of neurons for the encoding\n",
    "        \"\"\"\n",
    "        super(Encoder, self).__init__()\n",
    "        \n",
    "        self.enc_units = enc_units\n",
    "        self.input_vocab_size = input_vocab_size\n",
    "\n",
    "        # Instantiate an embedding layer to convert tokens into vectors\n",
    "        # see https://www.tensorflow.org/api_docs/python/tf/keras/layers/Embedding\n",
    "        ### START CODE HERE ###\n",
    "        self.embedding = tf.keras.layers.Embedding(self.input_vocab_size, embedding_dim)\n",
    "        ### END CODE HERE ###\n",
    "\n",
    "        # Instantiate a GRU RNN layer to process those vectors sequentially\n",
    "        ### START CODE HERE ###\n",
    "        self.gru = tf.keras.layers.GRU(\n",
    "                                    self.enc_units,\n",
    "                                    return_sequences=True,\n",
    "                                    return_state=True,\n",
    "                                    recurrent_initializer='glorot_uniform')\n",
    "        ### END CODE HERE ###\n",
    "\n",
    "    def call(self, tokens, state=None):\n",
    "        \"\"\"\n",
    "        This function creates the custom tf.keras.Layer structure by combining the blocks defined in the __init__\n",
    "        :param tokens: the input tokens\n",
    "        :param state: the info state for the GRU RNN (if present)\n",
    "        :return: the output and the state of the GRU RNN\n",
    "        \"\"\"\n",
    "        ### START CODE HERE ###\n",
    "        vectors = self.embedding(tokens)\n",
    "        output, state = self.gru(vectors, initial_state=state)\n",
    "        ### END CODE HERE ###\n",
    "        return output, state"
   ]
  },
  {
   "cell_type": "markdown",
   "metadata": {},
   "source": [
    "Check the correct functioning of the encoder by running the cell below."
   ]
  },
  {
   "cell_type": "code",
   "execution_count": 8,
   "metadata": {},
   "outputs": [
    {
     "name": "stderr",
     "output_type": "stream",
     "text": [
      "2023-01-02 13:30:51.549818: W tensorflow/core/kernels/data/cache_dataset_ops.cc:296] The calling iterator did not fully read the dataset being cached. In order to avoid unexpected truncation of the dataset, the partially cached contents of the dataset  will be discarded. This can happen if you have an input pipeline similar to `dataset.cache().take(k).repeat()`. You should use `dataset.take(k).cache().repeat()` instead.\n"
     ]
    },
    {
     "name": "stdout",
     "output_type": "stream",
     "text": [
      "tf.Tensor(\n",
      "[b'Lo mangi\\xc3\\xb2 il mio cane.' b'Abbiamo bisogno di colla.'\n",
      " b'Sono appagato.' b'Aspetta un secondo.' b'Amo il caff\\xc3\\xa8.'], shape=(5,), dtype=string)\n",
      "\n",
      "tf.Tensor(\n",
      "[b'My dog ate it.' b'We need glue.' b\"I'm contented.\" b'Wait a second.'\n",
      " b'I love coffee.'], shape=(5,), dtype=string)\n",
      "\n",
      "Input batch, shape (batch): (64,)\n",
      "Input batch tokens, shape (batch, s): (64, 9)\n",
      "Encoder output, shape (batch, s, units): (64, 9, 1024)\n",
      "Encoder state, shape (batch, units): (64, 1024)\n"
     ]
    }
   ],
   "source": [
    "embedding_dim = 256\n",
    "units = 1024\n",
    "\n",
    "for example_input_batch, example_target_batch in dataset_train.take(1):\n",
    "    print(example_input_batch[:5])\n",
    "    print()\n",
    "    print(example_target_batch[:5])\n",
    "    break\n",
    "\n",
    "# Convert the input text to tokens using the input_text_processor layer that you created above as an instance of tf.keras.layers.TextVectorization\n",
    "### START CODE HERE ###\n",
    "example_tokens = input_text_processor(example_input_batch)\n",
    "### END CODE HERE ###\n",
    "\n",
    "# Instantiate an object of the Encoder class\n",
    "### START CODE HERE ###\n",
    "encoder = Encoder(input_text_processor.vocabulary_size(), embedding_dim, units)\n",
    "### END CODE HERE ###\n",
    "\n",
    "# Encode the input sequence using the Encoder object you have just instantiated\n",
    "### START CODE HERE ###\n",
    "example_enc_output, example_enc_state = encoder(example_tokens)\n",
    "### END CODE HERE ###\n",
    "\n",
    "print(f'\\nInput batch, shape (batch): {example_input_batch.shape}')\n",
    "print(f'Input batch tokens, shape (batch, s): {example_tokens.shape}')\n",
    "print(f'Encoder output, shape (batch, s, units): {example_enc_output.shape}')\n",
    "print(f'Encoder state, shape (batch, units): {example_enc_state.shape}')"
   ]
  },
  {
   "cell_type": "markdown",
   "metadata": {},
   "source": [
    "## 2 - Attention layer\n",
    "The decoder uses attention to selectively focus on parts of the input sequence. The attention takes a sequence of vectors as input for each example and returns an attention vector for each example.\n",
    "We use the attention layer [here](https://www.tensorflow.org/api_docs/python/tf/keras/layers/AdditiveAttention) that follows the [Bahdanau-style attention](https://arxiv.org/pdf/1409.0473.pdf). \n",
    "The query is the decoder state ($\\boldsymbol{h}_t$) attending to the sequence while the value is the encoder output ($\\bar{\\boldsymbol{h}}_s$) being attended to.\n",
    "The attention weights and the context vector are computed as follows.\n",
    "\n",
    "$$\\large{\\rm{score}(\\boldsymbol{h}_t, \\boldsymbol{\\bar{h}}_s) = \\rm{tanh}(\\boldsymbol{W_1}\\boldsymbol{h}_t + \\boldsymbol{W_2}\\boldsymbol{\\bar{h}}_s)}$$\n",
    "\n",
    "<center><img src=\"images/attention_equation_1.jpeg\" style=\"width:50%\"></center>\n",
    "<center><img src=\"images/attention_equation_2.jpeg\" style=\"width:50%\"></center>\n",
    "\n"
   ]
  },
  {
   "cell_type": "code",
   "execution_count": 9,
   "metadata": {},
   "outputs": [],
   "source": [
    "class BahdanauAttention(tf.keras.layers.Layer):\n",
    "    def __init__(self, units):\n",
    "        \"\"\"\n",
    "        This class creates a new custom tf.keras.Layer. This is done by instantiating some attributes and combining them.\n",
    "        For more info see: https://www.tensorflow.org/guide/keras/custom_layers_and_models\n",
    "        Here we instantiate all the layers that we need for this model. \n",
    "        Next, the `call` method creates the layer by combining the ones instantiated here.\n",
    "        :param units: number of units for the Dense layer\n",
    "        \"\"\"\n",
    "        super(BahdanauAttention, self).__init__()\n",
    "        \n",
    "        # Instantiate two Dense layers for the query (decoder state) and for the value (encoder output) with 'units' output neurons, use use_bias=False\n",
    "        ### START CODE HERE (2 lines) ### \n",
    "        self.W1 = tf.keras.layers.Dense(units, use_bias=False)\n",
    "        self.W2 = tf.keras.layers.Dense(units, use_bias=False)\n",
    "        ### END CODE HERE ###\n",
    "\n",
    "        # Instantiate a AdditiveAttention layer\n",
    "        ### START CODE HERE ###\n",
    "        self.attention = tf.keras.layers.AdditiveAttention()\n",
    "        ### END CODE HERE ###\n",
    "\n",
    "    def call(self, query, value, mask):\n",
    "\n",
    "        # Pass the query (the decoder state attending to the sequence) through the first dense layer\n",
    "        ### START CODE HERE ###\n",
    "        w1_query = self.W1(query)\n",
    "        ### END CODE HERE ###\n",
    "\n",
    "        # Pass the value (the sequence of encoder outputs being attended to) through the second dense layer\n",
    "        ### START CODE HERE ###\n",
    "        w2_key = self.W2(value)\n",
    "        ### END CODE HERE ###\n",
    "\n",
    "        query_mask = tf.ones(tf.shape(query)[:-1], dtype=bool)\n",
    "        value_mask = mask\n",
    "\n",
    "        ### START CODE HERE ###\n",
    "        context_vector, attention_weights = self.attention(\n",
    "                                                        inputs=[w1_query, value, w2_key],\n",
    "                                                        mask=[query_mask, value_mask],\n",
    "                                                        return_attention_scores=True)\n",
    "        ### END CODE HERE ###\n",
    "\n",
    "        return context_vector, attention_weights"
   ]
  },
  {
   "cell_type": "markdown",
   "metadata": {},
   "source": [
    "Check the correct functioning of the attention layer by running the cell below."
   ]
  },
  {
   "cell_type": "code",
   "execution_count": 10,
   "metadata": {},
   "outputs": [
    {
     "name": "stdout",
     "output_type": "stream",
     "text": [
      "Attention result shape (batch_size, query_seq_length, units): (64, 2, 1024)\n",
      "Attention weights shape (batch_size, query_seq_length, value_seq_length): (64, 2, 9)\n"
     ]
    }
   ],
   "source": [
    "### START CODE HERE ###\n",
    "attention_layer = BahdanauAttention(units)\n",
    "### END CODE HERE ###\n",
    "\n",
    "# Later, the decoder will generate this attention query\n",
    "example_attention_query = tf.random.normal(shape=[len(example_tokens), 2, 10])\n",
    "\n",
    "# Attend to the encoded tokens, the mask is used to exclude the padding\n",
    "# query=example_attention_query\n",
    "# value=example_enc_output\n",
    "# mask=(example_tokens != 0)\n",
    "### START CODE HERE ###\n",
    "context_vector, attention_weights = attention_layer(\n",
    "                                                query=example_attention_query,\n",
    "                                                value=example_enc_output,\n",
    "                                                mask=(example_tokens != 0))\n",
    "### END CODE HERE ###\n",
    "\n",
    "print(f'Attention result shape (batch_size, query_seq_length, units): {context_vector.shape}')\n",
    "print(f'Attention weights shape (batch_size, query_seq_length, value_seq_length): {attention_weights.shape}')"
   ]
  },
  {
   "cell_type": "code",
   "execution_count": 11,
   "metadata": {},
   "outputs": [
    {
     "data": {
      "text/plain": [
       "<Figure size 640x480 with 0 Axes>"
      ]
     },
     "metadata": {},
     "output_type": "display_data"
    },
    {
     "data": {
      "image/png": "[encoded data removed]",
      "text/plain": [
       "<Figure size 600x500 with 1 Axes>"
      ]
     },
     "metadata": {},
     "output_type": "display_data"
    }
   ],
   "source": [
    "attention_slice = attention_weights[0, 0].numpy()\n",
    "attention_slice = attention_slice[attention_slice != 0]\n",
    "\n",
    "plt.suptitle('Attention weights for one sequence')\n",
    "\n",
    "plt.figure(figsize=(6, 5))\n",
    "plt.bar(range(len(attention_slice)), attention_slice)\n",
    "plt.xlabel('Attention weights')\n",
    "\n",
    "# zoom in\n",
    "top = max(plt.ylim())\n",
    "zoom = 0.85*top\n",
    "plt.ylim([0.90*top, top])\n",
    "\n",
    "plt.show()"
   ]
  },
  {
   "cell_type": "markdown",
   "metadata": {},
   "source": [
    "## 3 - Decoder\n",
    "The decoder generates the prediction for the next output token starting from the encoder output\n",
    "\n",
    "1. it uses an RNN to keep track of what it has predicted previously\n",
    "2. the RNN output is used as a query for the attention layer to attend the encoder's output and produce the context vector\n",
    "3. the context vector is combined with the RNN output to generate the attention vector using the equation\n",
    "\n",
    "$$\\large{\\boldsymbol{a}_t = \\rm{tanh}(\\boldsymbol{W}_c[\\boldsymbol{c}_t; \\boldsymbol{h}_t])}~~~~~\\rm{[attention~vector]}$$\n",
    "\n",
    "4. finally, it generates logit predictions for the next token based on the attention vector"
   ]
  },
  {
   "cell_type": "code",
   "execution_count": 12,
   "metadata": {},
   "outputs": [],
   "source": [
    "class Decoder(tf.keras.layers.Layer):\n",
    "    def __init__(self, output_vocab_size, embedding_dim, dec_units):\n",
    "        \"\"\"\n",
    "        This class creates a new custom tf.keras.Layer. This is done by instantiating some variables and combining them.\n",
    "        For more info see: https://www.tensorflow.org/guide/keras/custom_layers_and_models\n",
    "        Here we instantiate all the layers that we need for this model. \n",
    "        Next, the `call` method creates the layer by combining the ones instantiated here.\n",
    "        :param output_vocab_size:\n",
    "        :param embedding_dim:\n",
    "        :param dec_units:\n",
    "        \"\"\"\n",
    "        super(Decoder, self).__init__()\n",
    "        \n",
    "        self.dec_units = dec_units\n",
    "        self.output_vocab_size = output_vocab_size\n",
    "        self.embedding_dim = embedding_dim\n",
    "\n",
    "        # Instantiate an embedding layer to convert token IDs to vectors\n",
    "        ### START CODE HERE ###\n",
    "        self.embedding = tf.keras.layers.Embedding(self.output_vocab_size, embedding_dim)\n",
    "        ### END CODE HERE ###\n",
    "        \n",
    "        # Instantiate an RNN to keep track of what will be generated from time to time by the decoder\n",
    "        ### START CODE HERE ###\n",
    "        self.gru = tf.keras.layers.GRU(\n",
    "                                    self.dec_units,\n",
    "                                    return_sequences=True,\n",
    "                                    return_state=True,\n",
    "                                    recurrent_initializer='glorot_uniform')\n",
    "        ### END CODE HERE ###\n",
    "\n",
    "        # Instantiate a BahdanauAttention layer that will obtain as input the RNN output, i.e., the RNN output will be the query to the attention layer over the encoder's output to produce the context vector\n",
    "        ### START CODE HERE ###\n",
    "        self.attention = BahdanauAttention(self.dec_units)\n",
    "        ### END CODE HERE ###\n",
    "\n",
    "        # Instantiate a Dense layer to combine the RNN output and the context vector to generate the attention vector\n",
    "        ### START CODE HERE ###\n",
    "        self.Wc = tf.keras.layers.Dense(self.dec_units, activation=tf.math.tanh, use_bias=False)\n",
    "        ### END CODE HERE ###\n",
    "\n",
    "        # Instantiate a fully connected layer to produce the logits for each output token based on the attention vector\n",
    "        ### START CODE HERE ###\n",
    "        self.fc = tf.keras.layers.Dense(self.output_vocab_size)\n",
    "        ### END CODE HERE ###\n",
    "\n",
    "    def call(self, new_tokens, enc_output, mask, state=None):\n",
    "        # Step 1. Lookup the embeddings\n",
    "        ### START CODE HERE ###\n",
    "        vectors = self.embedding(new_tokens)\n",
    "        ### END CODE HERE ###\n",
    "\n",
    "        # Step 2. Process one step with the RNN\n",
    "        ### START CODE HERE ###\n",
    "        rnn_output, state = self.gru(vectors, initial_state=state)\n",
    "        ### END CODE HERE ###\n",
    "\n",
    "        # Step 3. Use the RNN output as the query for the attention over the encoder output\n",
    "        ### START CODE HERE ###\n",
    "        context_vector, attention_weights = self.attention(query=rnn_output, value=enc_output, mask=mask)\n",
    "        ### END CODE HERE ###\n",
    "\n",
    "        # Step 4. Concatenate the context_vector and rnn_output -- shape: (batch t, value_units + query_units)\n",
    "        ### START CODE HERE ###\n",
    "        context_and_rnn_output = tf.concat([context_vector, rnn_output], axis=-1)\n",
    "        ### END CODE HERE ###\n",
    "\n",
    "        # Step 4. Obtain the attention vector: attention_vector = tanh(Wc@context_and_rnn_output)\n",
    "        ### START CODE HERE ###\n",
    "        attention_vector = self.Wc(context_and_rnn_output)\n",
    "        ### END CODE HERE ###\n",
    "\n",
    "        # Step 5. Generate logit predictions through the final dense layer\n",
    "        ### START CODE HERE ###\n",
    "        logits = self.fc(attention_vector)\n",
    "        ### END CODE HERE ###\n",
    "\n",
    "        return logits, attention_weights, state"
   ]
  },
  {
   "cell_type": "markdown",
   "metadata": {},
   "source": [
    "Check the correct functioning of the decoder layer by running the cell below."
   ]
  },
  {
   "cell_type": "code",
   "execution_count": 13,
   "metadata": {},
   "outputs": [
    {
     "name": "stdout",
     "output_type": "stream",
     "text": [
      "logits shape (batch_size, t, output_vocab_size): (64, 1, 2619)\n",
      "state shape (batch_size, dec_units): (64, 1024)\n"
     ]
    },
    {
     "data": {
      "text/plain": [
       "array([['big'],\n",
       "       ['patience'],\n",
       "       ['gambler'],\n",
       "       ['paper'],\n",
       "       ['lying']], dtype='<U12')"
      ]
     },
     "execution_count": 13,
     "metadata": {},
     "output_type": "execute_result"
    }
   ],
   "source": [
    "### START CODE HERE ###\n",
    "decoder = Decoder(output_text_processor.vocabulary_size(), embedding_dim, units)\n",
    "### END CODE HERE ###\n",
    "    \n",
    "# Convert the target sequence using the output_text_processor object you instantiated above\n",
    "### START CODE HERE ###\n",
    "example_output_tokens = output_text_processor(example_target_batch)\n",
    "### END CODE HERE ###\n",
    "\n",
    "# Collect the \"[START]\" tokens\n",
    "start_index = output_text_processor.get_vocabulary().index('[START]')\n",
    "first_token = tf.constant([[start_index]] * example_output_tokens.shape[0])\n",
    "\n",
    "# Run the decoder\n",
    "### START CODE HERE ###\n",
    "dec_logits, dec_attention, dec_state = decoder(first_token, enc_output=example_enc_output, mask=(example_tokens != 0), state=example_enc_state)\n",
    "### END CODE HERE ###\n",
    "\n",
    "print(f'logits shape (batch_size, t, output_vocab_size): {dec_logits.shape}')\n",
    "print(f'state shape (batch_size, dec_units): {dec_state.shape}')\n",
    "\n",
    "sampled_token = tf.random.categorical(dec_logits[:, 0, :], num_samples=1)\n",
    "vocab = np.array(output_text_processor.get_vocabulary())\n",
    "first_word = vocab[sampled_token.numpy()]\n",
    "first_word[:5]"
   ]
  },
  {
   "cell_type": "markdown",
   "metadata": {},
   "source": [
    "## 4 - Loss function\n",
    "Here we create a custom loss function that will be used during training for computing the gradients to be backpropagated and allow updating the weights. The construction is similar to the one seen for the custom layers above,\n",
    "[see here for more info](https://www.tensorflow.org/guide/keras/train_and_evaluate#custom_losses)."
   ]
  },
  {
   "cell_type": "code",
   "execution_count": 14,
   "metadata": {},
   "outputs": [],
   "source": [
    "class MaskedLoss(tf.keras.losses.Loss):\n",
    "    def __init__(self):\n",
    "        \"\"\"\n",
    "        Here we create a custom loss function. The construction is similar to the one seen for the custom layers above.\n",
    "        See https://www.tensorflow.org/guide/keras/train_and_evaluate#custom_losses\n",
    "        \"\"\"\n",
    "        super(MaskedLoss, self).__init__()\n",
    "        \n",
    "        self.name = 'masked_loss'\n",
    "        \n",
    "        ### START CODE HERE ###\n",
    "        # Use the correct boolean for the from_logits argument\n",
    "        # Use reduction='none' as you will compute the reduced sum in the __call__ method\n",
    "        self.loss = tf.keras.losses.SparseCategoricalCrossentropy(from_logits=True, reduction='none')\n",
    "        ### END CODE HERE ###\n",
    "\n",
    "    def __call__(self, y_true, y_pred):\n",
    "        # Calculate the loss for each item in the batch\n",
    "        ### START CODE HERE ###\n",
    "        loss = self.loss(y_true, y_pred)\n",
    "        ### END CODE HERE ###\n",
    "\n",
    "        # Mask off the losses on padding\n",
    "        mask = tf.cast(y_true != 0, tf.float32)\n",
    "        loss *= mask\n",
    "\n",
    "        # Return the total (use tf.reduce_sum)\n",
    "        ### START CODE HERE ###\n",
    "        return tf.reduce_sum(loss)\n",
    "        ### END CODE HERE ###"
   ]
  },
  {
   "cell_type": "markdown",
   "metadata": {},
   "source": [
    "## 5 - Implement the training model\n",
    "Now we create a new custom model by [subclassing the tf.keras.Model class](https://www.tensorflow.org/guide/keras/custom_layers_and_models#the_model_class). The process is similar to the one followed to subclass the tf.keras.Layers and tf.keras.losses.Loss classes above. \n",
    "\n",
    "Specifically, the `train_step` method overwrites the built-in `train_step` method of the tf.keras.Model class. \n",
    "The `train_step` method is the function called by `fit()` for every batch of data. By overwriting it, we can customize the operations performed during the `fit()` call for our custom TranslatorModelTrain model.\n",
    "We can then call `fit()` as usual -- and it will be running our own learning algorithm.\n",
    "For additional info see [this reference](https://www.tensorflow.org/guide/keras/customizing_what_happens_in_fit). Do you remember what you saw in Laboratory 2 about the two approaches to train a neural network, i.e., custom training and training with built-in Tensorflow functions? Here you are going to combine the two approaches by still using the built-in-functions while changing their behaviour. (Hint: to complete the following portion of the code it will be useful to take a look at what you implemented in Lab 2 on Section 2.3).\n",
    "\n",
    "Note that we define the steps to train the model following the **teacher-forcing paradigm**, i.e., the decoder is fed with the correct token at each step regardless of the model predictions at the previous steps. Training the network with the decoder prediction at the previous step would strengthen the model but it takes more time. The teacher-forcing approach is the one usually adopted to train seq2seq networks. \n",
    "\n",
    "Here below we use `tf.function` (documentation [here](https://www.tensorflow.org/api_docs/python/tf/function)) to increase the efficiency of the process, especially during training. You can find a complete explanation [here](https://www.tensorflow.org/guide/function). Note that you can also not use this decorator and your code remains correct, this is just to give you an hint about more advanced features.\n",
    "\n",
    "To instantiate Encoder and Decoder entities, use ``input_text_processor.vocabulary_size()`` as the ``input_vocab_size``. See [here](https://www.tensorflow.org/api_docs/python/tf/keras/layers/TextVectorization#vocabulary_size) for more information."
   ]
  },
  {
   "cell_type": "code",
   "execution_count": 15,
   "metadata": {},
   "outputs": [],
   "source": [
    "class TranslatorModelTrain(tf.keras.Model):\n",
    "    def __init__(self, embedding_dim, units, input_text_processor, output_text_processor):\n",
    "        \"\"\"\n",
    "        Here we instantiate the encoder and decoder that you created as subclasses of the tf.keras.Layer class\n",
    "        :param embedding_dim: size of the embeddings\n",
    "        :param units: number of units in the encoding vector\n",
    "        :param input_text_processor: processing function for the input\n",
    "        :param output_text_processor: processing function for the output\n",
    "        \"\"\"\n",
    "        super(TranslatorModelTrain, self).__init__()\n",
    "        \n",
    "        ### START CODE HERE ###\n",
    "        # Instantiate an Encoder and a Decoder\n",
    "        encoder = Encoder(input_text_processor.vocabulary_size(), embedding_dim, units)\n",
    "        decoder = Decoder(output_text_processor.vocabulary_size(), embedding_dim, units)\n",
    "        ### END CODE HERE ###\n",
    "\n",
    "        ### START CODE HERE ###\n",
    "        # Define the attributes of objects belonging to the TranslatorModelTrain class\n",
    "        # Use the input arguments and the entities you just created\n",
    "        self.encoder = encoder\n",
    "        self.decoder = decoder\n",
    "        self.input_text_processor = input_text_processor\n",
    "        self.output_text_processor = output_text_processor\n",
    "        ### END CODE HERE ###\n",
    "\n",
    "    def preprocess(self, input_text, target_text):\n",
    "        \"\"\"\n",
    "        Helper function to preprocess the input\n",
    "        :param input_text: the input text to be translated\n",
    "        :param target_text: the correct output translation\n",
    "        :return: tokens and masks\n",
    "        \"\"\"\n",
    "        # Convert the text to token IDs\n",
    "        ### START CODE HERE ###\n",
    "        input_tokens = self.input_text_processor(input_text)\n",
    "        target_tokens = self.output_text_processor(target_text)\n",
    "        ### END CODE HERE ###\n",
    "\n",
    "        # Convert IDs to masks\n",
    "        input_mask = input_tokens != 0\n",
    "        target_mask = target_tokens != 0\n",
    "        \n",
    "        return input_tokens, input_mask, target_tokens, target_mask\n",
    "\n",
    "    def loop_step(self, input_token, target_token, input_mask, enc_output, dec_state):\n",
    "        \"\"\"\n",
    "        Helper function used inside the train_step method\n",
    "        \"\"\"\n",
    "        # Run the decoder for one step (pass the proper arguments to self.decoder)\n",
    "        ### START CODE HERE ###\n",
    "        logits, _, dec_state = self.decoder(new_tokens=input_token, enc_output=enc_output, mask=input_mask, state=dec_state)\n",
    "        ### END CODE HERE ###\n",
    "\n",
    "        # Compute the loss using the self.loss\n",
    "        # Note that self.loss will be set when running the compile function \n",
    "        # see here: https://www.tensorflow.org/api_docs/python/tf/keras/Model#compile\n",
    "        y = target_token\n",
    "        y_pred = logits\n",
    "        ### START CODE HERE ###\n",
    "        step_loss = self.loss(y, y_pred)\n",
    "        ### END CODE HERE ###\n",
    "\n",
    "        return step_loss, dec_state\n",
    "    \n",
    "    @tf.function(input_signature=[[tf.TensorSpec(dtype=tf.string, shape=[None]), tf.TensorSpec(dtype=tf.string, shape=[None])]])\n",
    "    def train_step(self, inputs):\n",
    "        \"\"\"\n",
    "        :param inputs: the input of the Model (a batch)\n",
    "        :return: the loss on the current batch\n",
    "        \"\"\"\n",
    "        # Train with teacher forcing\n",
    "        input_text, target_text = inputs\n",
    "        \n",
    "        # Use the preprocess function you implemented above to obtain input_tokens, input_mask, target_tokens, target_mask\n",
    "        ### START CODE HERE ###\n",
    "        (input_tokens, input_mask, target_tokens, target_mask) = self.preprocess(input_text, target_text)\n",
    "        ### END CODE HERE ###\n",
    "        \n",
    "        max_target_length = tf.shape(target_tokens)[1]\n",
    "\n",
    "        with tf.GradientTape() as tape:\n",
    "            # Encode the input\n",
    "            ### START CODE HERE ###\n",
    "            enc_output, enc_state = self.encoder(input_tokens)\n",
    "            ### END CODE HERE ###\n",
    "\n",
    "            # Initialize the decoder's state to the encoder's final state\n",
    "            # This only works if the encoder and decoder have the same number of units\n",
    "            # Initialize the loss to a constant equal to zero (use tf.constant(0.0))\n",
    "            ### START CODE HERE ###\n",
    "            dec_state = enc_state\n",
    "            loss = tf.constant(0.0)\n",
    "            ### END CODE HERE ###\n",
    "\n",
    "            ### START CODE HERE ###\n",
    "            # Create a loop that iterate over the length of the target (max_target_length)\n",
    "            # Uset tf.range to create the array of indices used in the iteration\n",
    "            for t in tf.range(max_target_length - 1):\n",
    "            ### END CODE HERE ###\n",
    "                # Pass in two tokens from the target sequence:\n",
    "                # 1. The current input to the decoder [:, t:t+1] --> teacher-forcing training, i.e., you should take the input from target_tokens\n",
    "                # 2. The target for the decoder's next prediction [:, t+1:t+2]\n",
    "                input_token = target_tokens[:, t:t+1]\n",
    "                target_token = target_tokens[:, t+1:t+2]\n",
    "                \n",
    "                # Use the loop_step function implemented above to obtain step_loss and dec_state\n",
    "                # step_loss is added to the loss (cumulative over sequence)\n",
    "                # dec_state will be used in the next iteration (continuously updated with the new state)\n",
    "                ### START CODE HERE ###\n",
    "                step_loss, dec_state = self.loop_step(input_token, target_token, input_mask, enc_output, dec_state)\n",
    "                loss = loss + step_loss\n",
    "                ### END CODE HERE ###\n",
    "\n",
    "            # Average the loss over all non padding tokens.\n",
    "            average_loss = loss / tf.reduce_sum(tf.cast(target_mask, tf.float32))\n",
    "\n",
    "        # Apply the optimization step: use self.trainable_variables to obtain the trainable weights, \n",
    "        # use tape.gradient to obtain the gradients of the loss with respect to the trainable weights, \n",
    "        # apply the optimizer using self.optimizer.apply_gradients\n",
    "        # Note that as for the self.loss, self.optimizer will be set when running the compile function \n",
    "        # see here: https://www.tensorflow.org/api_docs/python/tf/keras/Model#compile\n",
    "        ### START CODE HERE ###\n",
    "        variables = self.trainable_variables\n",
    "        gradients = tape.gradient(average_loss, variables)\n",
    "        self.optimizer.apply_gradients(zip(gradients, variables))\n",
    "        ### END CODE HERE ###\n",
    "\n",
    "        # Return a dict mapping metric names to current value\n",
    "        # In our case we set the value of the batch_loss\n",
    "        return {'batch_loss': average_loss}"
   ]
  },
  {
   "cell_type": "markdown",
   "metadata": {},
   "source": [
    "Check whether the training step works correctly."
   ]
  },
  {
   "cell_type": "code",
   "execution_count": 16,
   "metadata": {},
   "outputs": [
    {
     "name": "stdout",
     "output_type": "stream",
     "text": [
      "{'batch_loss': <tf.Tensor: shape=(), dtype=float32, numpy=6.639014>}\n",
      "{'batch_loss': <tf.Tensor: shape=(), dtype=float32, numpy=6.5754433>}\n",
      "{'batch_loss': <tf.Tensor: shape=(), dtype=float32, numpy=6.450724>}\n",
      "{'batch_loss': <tf.Tensor: shape=(), dtype=float32, numpy=6.1146984>}\n",
      "{'batch_loss': <tf.Tensor: shape=(), dtype=float32, numpy=5.1391277>}\n",
      "{'batch_loss': <tf.Tensor: shape=(), dtype=float32, numpy=3.903957>}\n",
      "{'batch_loss': <tf.Tensor: shape=(), dtype=float32, numpy=3.5500178>}\n",
      "{'batch_loss': <tf.Tensor: shape=(), dtype=float32, numpy=3.1615605>}\n",
      "{'batch_loss': <tf.Tensor: shape=(), dtype=float32, numpy=3.05117>}\n",
      "{'batch_loss': <tf.Tensor: shape=(), dtype=float32, numpy=2.9142582>}\n",
      "\n"
     ]
    }
   ],
   "source": [
    "# Create an object of the TranslatorModelTrain class\n",
    "# Note that we already defined the embedding_dim and units variables in section 1 of the notebook,\n",
    "# and the input_text_processor and output_text_processor in sections 1 and 3 respectively\n",
    "### START CODE HERE ###\n",
    "translator = TranslatorModelTrain(embedding_dim, units, input_text_processor=input_text_processor, output_text_processor=output_text_processor)\n",
    "### END CODE HERE ###\n",
    "\n",
    "# Configure the optimizer and the loss using the compile method\n",
    "### START CODE HERE ###\n",
    "translator.compile(optimizer=tf.optimizers.Adam(), loss=MaskedLoss())\n",
    "### END CODE HERE ###\n",
    "\n",
    "# Call the train_step function for some steps\n",
    "for n in range(10):\n",
    "    print(translator.train_step([example_input_batch, example_target_batch]))\n",
    "print()"
   ]
  },
  {
   "cell_type": "markdown",
   "metadata": {},
   "source": [
    "## 6 - Build and fit the translator model\n",
    "Let's first create a callback to be used during training to save the batch losses. To do that we sub-class the `tf.keras.callbacks.Callback` class."
   ]
  },
  {
   "cell_type": "code",
   "execution_count": 17,
   "metadata": {},
   "outputs": [],
   "source": [
    "class BatchLogs(tf.keras.callbacks.Callback):\n",
    "    def __init__(self, key):\n",
    "        super(BatchLogs, self).__init__()\n",
    "        self.key = key\n",
    "        self.logs = []\n",
    "\n",
    "    def on_train_batch_end(self, n, logs):\n",
    "        self.logs.append(logs[self.key])"
   ]
  },
  {
   "cell_type": "markdown",
   "metadata": {},
   "source": [
    "Now, instantiate the model for the translator and train it (use the `compile` and `fit` methods). "
   ]
  },
  {
   "cell_type": "code",
   "execution_count": 18,
   "metadata": {},
   "outputs": [
    {
     "name": "stdout",
     "output_type": "stream",
     "text": [
      "Epoch 1/8\n"
     ]
    },
    {
     "name": "stderr",
     "output_type": "stream",
     "text": [
      "2023-01-02 13:31:45.072379: I tensorflow/core/kernels/data/shuffle_dataset_op.cc:392] Filling up shuffle buffer (this may take a while): 8140 of 30000\n",
      "2023-01-02 13:31:55.071958: I tensorflow/core/kernels/data/shuffle_dataset_op.cc:392] Filling up shuffle buffer (this may take a while): 16322 of 30000\n",
      "2023-01-02 13:32:04.804352: I tensorflow/core/kernels/data/shuffle_dataset_op.cc:417] Shuffle buffer filled.\n"
     ]
    },
    {
     "name": "stdout",
     "output_type": "stream",
     "text": [
      "375/375 [==============================] - 461s 1s/step - batch_loss: 1.9751\n",
      "Epoch 2/8\n"
     ]
    },
    {
     "name": "stderr",
     "output_type": "stream",
     "text": [
      "2023-01-02 13:39:08.529973: I tensorflow/core/kernels/data/shuffle_dataset_op.cc:392] Filling up shuffle buffer (this may take a while): 11080 of 30000\n",
      "2023-01-02 13:39:18.529281: I tensorflow/core/kernels/data/shuffle_dataset_op.cc:392] Filling up shuffle buffer (this may take a while): 22400 of 30000\n",
      "2023-01-02 13:39:19.984474: I tensorflow/core/kernels/data/shuffle_dataset_op.cc:417] Shuffle buffer filled.\n"
     ]
    },
    {
     "name": "stdout",
     "output_type": "stream",
     "text": [
      "375/375 [==============================] - 369s 927ms/step - batch_loss: 0.8519\n",
      "Epoch 3/8\n"
     ]
    },
    {
     "name": "stderr",
     "output_type": "stream",
     "text": [
      "2023-01-02 13:45:30.432807: I tensorflow/core/kernels/data/shuffle_dataset_op.cc:392] Filling up shuffle buffer (this may take a while): 17039 of 30000\n",
      "2023-01-02 13:45:34.538850: I tensorflow/core/kernels/data/shuffle_dataset_op.cc:417] Shuffle buffer filled.\n"
     ]
    },
    {
     "name": "stdout",
     "output_type": "stream",
     "text": [
      "375/375 [==============================] - 410s 1s/step - batch_loss: 0.4292\n",
      "Epoch 4/8\n"
     ]
    },
    {
     "name": "stderr",
     "output_type": "stream",
     "text": [
      "2023-01-02 13:52:20.161011: I tensorflow/core/kernels/data/shuffle_dataset_op.cc:392] Filling up shuffle buffer (this may take a while): 14598 of 30000\n",
      "2023-01-02 13:52:26.742659: I tensorflow/core/kernels/data/shuffle_dataset_op.cc:417] Shuffle buffer filled.\n"
     ]
    },
    {
     "name": "stdout",
     "output_type": "stream",
     "text": [
      "375/375 [==============================] - 405s 1s/step - batch_loss: 0.2775\n",
      "Epoch 5/8\n"
     ]
    },
    {
     "name": "stderr",
     "output_type": "stream",
     "text": [
      "2023-01-02 13:59:05.142363: I tensorflow/core/kernels/data/shuffle_dataset_op.cc:392] Filling up shuffle buffer (this may take a while): 14791 of 30000\n",
      "2023-01-02 13:59:10.714254: I tensorflow/core/kernels/data/shuffle_dataset_op.cc:417] Shuffle buffer filled.\n"
     ]
    },
    {
     "name": "stdout",
     "output_type": "stream",
     "text": [
      "375/375 [==============================] - 369s 944ms/step - batch_loss: 0.2125\n",
      "Epoch 6/8\n"
     ]
    },
    {
     "name": "stderr",
     "output_type": "stream",
     "text": [
      "2023-01-02 14:05:14.649717: I tensorflow/core/kernels/data/shuffle_dataset_op.cc:392] Filling up shuffle buffer (this may take a while): 15956 of 30000\n",
      "2023-01-02 14:05:19.556299: I tensorflow/core/kernels/data/shuffle_dataset_op.cc:417] Shuffle buffer filled.\n"
     ]
    },
    {
     "name": "stdout",
     "output_type": "stream",
     "text": [
      "375/375 [==============================] - 341s 868ms/step - batch_loss: 0.1803\n",
      "Epoch 7/8\n"
     ]
    },
    {
     "name": "stderr",
     "output_type": "stream",
     "text": [
      "2023-01-02 14:10:55.235043: I tensorflow/core/kernels/data/shuffle_dataset_op.cc:392] Filling up shuffle buffer (this may take a while): 16860 of 30000\n",
      "2023-01-02 14:10:59.532338: I tensorflow/core/kernels/data/shuffle_dataset_op.cc:417] Shuffle buffer filled.\n"
     ]
    },
    {
     "name": "stdout",
     "output_type": "stream",
     "text": [
      "375/375 [==============================] - 356s 912ms/step - batch_loss: 0.1634\n",
      "Epoch 8/8\n"
     ]
    },
    {
     "name": "stderr",
     "output_type": "stream",
     "text": [
      "2023-01-02 14:17:17.152501: I tensorflow/core/kernels/data/shuffle_dataset_op.cc:392] Filling up shuffle buffer (this may take a while): 17110 of 30000\n",
      "2023-01-02 14:17:21.278818: I tensorflow/core/kernels/data/shuffle_dataset_op.cc:417] Shuffle buffer filled.\n"
     ]
    },
    {
     "name": "stdout",
     "output_type": "stream",
     "text": [
      "375/375 [==============================] - 366s 938ms/step - batch_loss: 0.1482\n"
     ]
    }
   ],
   "source": [
    "# Build the encoder and decoder as done before\n",
    "### START CODE HERE ###\n",
    "train_translator = TranslatorModelTrain(embedding_dim, units, input_text_processor=input_text_processor, output_text_processor=output_text_processor)\n",
    "### END CODE HERE ###\n",
    "\n",
    "# Configure the optimizer and the loss using the compile method as done before\n",
    "### START CODE HERE ###\n",
    "train_translator.compile(optimizer=tf.optimizers.Adam(), loss=MaskedLoss())\n",
    "### END CODE HERE ###\n",
    "# Create an istance of the BatchLogs class to be used as a callback in the fit method below\n",
    "batch_loss = BatchLogs('batch_loss')\n",
    "\n",
    "# Fit the model and save the weights\n",
    "### START CODE HERE ###\n",
    "train_translator.fit(dataset_train, epochs=8, callbacks=[batch_loss])\n",
    "train_translator.save_weights('my_attention_model_weights')\n",
    "### END CODE HERE ###"
   ]
  },
  {
   "cell_type": "code",
   "execution_count": 19,
   "metadata": {},
   "outputs": [],
   "source": [
    "# To load presaved weights uncomment the line below\n",
    "#train_translator.load_weights('attention_model_weights')"
   ]
  },
  {
   "cell_type": "markdown",
   "metadata": {},
   "source": [
    "Plot the loss."
   ]
  },
  {
   "cell_type": "code",
   "execution_count": 20,
   "metadata": {},
   "outputs": [
    {
     "data": {
      "image/png": "[encoded data removed]",
      "text/plain": [
       "<Figure size 640x480 with 1 Axes>"
      ]
     },
     "metadata": {},
     "output_type": "display_data"
    }
   ],
   "source": [
    "plt.plot(batch_loss.logs)\n",
    "plt.ylim([0, 3])\n",
    "plt.xlabel('Batch #')\n",
    "plt.ylabel('CE/token')\n",
    "plt.show()"
   ]
  },
  {
   "cell_type": "markdown",
   "metadata": {},
   "source": [
    "## 7 - Build the translator that uses the trained model to translate an input sentence\n",
    "Now that the model is trained, here we implement the function that executes the full text to text translation.\n",
    "\n",
    "Overall this is similar to the training loop, except that the input to the decoder at each time step is the last decoder's prediction (no teacher-forcing during the testing phase)."
   ]
  },
  {
   "cell_type": "code",
   "execution_count": 21,
   "metadata": {},
   "outputs": [],
   "source": [
    "class TranslatorModelInference(tf.Module):\n",
    "    def __init__(self, encoder, decoder, input_text_processor, output_text_processor):\n",
    "        \"\"\"\n",
    "        Here we create a new class by subclassing the tf.Module one. tf.Module is the general class from which all the\n",
    "        other classes, e.g., tf.keras.Layer, tf.keras.Model, inherits.\n",
    "        See https://www.tensorflow.org/api_docs/python/tf/Module\n",
    "        :param encoder: the trained encoder\n",
    "        :param decoder: the trained decoder\n",
    "        :param input_text_processor: processing function for the input\n",
    "        :param output_text_processor: processing function for the output\n",
    "        \"\"\"\n",
    "        super(TranslatorModelInference, self).__init__()\n",
    "        \n",
    "        # Define the attributes of objects belonging to the TranslatorModelInference class\n",
    "        # Use the input arguments\n",
    "        ### START CODE HERE ###\n",
    "        self.encoder = encoder\n",
    "        self.decoder = decoder\n",
    "        self.input_text_processor = input_text_processor\n",
    "        self.output_text_processor = output_text_processor\n",
    "        ### END CODE HERE ###\n",
    "\n",
    "        # Instantiate a StringLookup layers to map integer indices into text using the given vocabulary\n",
    "        # see https://www.tensorflow.org/api_docs/python/tf/keras/layers/StringLookup\n",
    "        # use vocabulary=output_text_processor.get_vocabulary(), mask_token='', and invert=True\n",
    "        ### START CODE HERE ###\n",
    "        self.output_token_string_from_index = tf.keras.layers.StringLookup(vocabulary=output_text_processor.get_vocabulary(), mask_token='', invert=True)\n",
    "        ### END CODE HERE ###\n",
    "\n",
    "        # Instantiate a StringLookup layers to map text into integer indices using the given vocabulary\n",
    "        # see https://www.tensorflow.org/api_docs/python/tf/keras/layers/StringLookup\n",
    "        # use vocabulary=output_text_processor.get_vocabulary() and mask_token=''\n",
    "        ### START CODE HERE ###\n",
    "        index_from_string = tf.keras.layers.StringLookup(vocabulary=output_text_processor.get_vocabulary(), mask_token='')\n",
    "        ### END CODE HERE ###\n",
    "        \n",
    "        # The output of the translator network should never generate padding, unknown, or start keys --> mask them\n",
    "        token_mask_ids = index_from_string(['', '[UNK]', '[START]']).numpy()\n",
    "        token_mask = np.zeros([index_from_string.vocabulary_size()], dtype=bool)\n",
    "        token_mask[np.array(token_mask_ids)] = True\n",
    "        self.token_mask = token_mask\n",
    "\n",
    "        self.start_token = index_from_string(tf.constant('[START]'))\n",
    "        self.end_token = index_from_string(tf.constant('[END]'))\n",
    "\n",
    "    def tokens_to_text(self, result_tokens):\n",
    "        # Use self.output_token_string_from_index to convert the result_tokens indices into strings\n",
    "        ### START CODE HERE ###\n",
    "        result_text_tokens = self.output_token_string_from_index(result_tokens)\n",
    "        ### END CODE HERE ###\n",
    "        result_text = tf.strings.reduce_join(result_text_tokens, axis=1, separator=' ')\n",
    "        result_text = tf.strings.strip(result_text)\n",
    "        return result_text\n",
    "\n",
    "    def sample(self, logits):\n",
    "        # Set the logits for all masked tokens to -inf, so they are never chosen\n",
    "        logits = tf.where(self.token_mask, -np.inf, logits)\n",
    "        logits = tf.squeeze(logits, axis=1)\n",
    "        # Use tf.random.categorical to obtain the new_tokens based on the logits\n",
    "        # see https://www.tensorflow.org/api_docs/python/tf/random/categorical\n",
    "        ### START CODE HERE ###\n",
    "        new_tokens = tf.random.categorical(logits, num_samples=1)\n",
    "        ### END CODE HERE ###\n",
    "        return new_tokens\n",
    "\n",
    "    def translate(self, input_text, max_length=50):\n",
    "        batch_size = tf.shape(input_text)[0]\n",
    "        input_tokens = self.input_text_processor(input_text)\n",
    "        enc_output, enc_state = self.encoder(input_tokens)\n",
    "\n",
    "        dec_state = enc_state\n",
    "        new_tokens = tf.fill([batch_size, 1], self.start_token)\n",
    "\n",
    "        result_tokens = []\n",
    "        attention = []\n",
    "        done = tf.zeros([batch_size, 1], dtype=tf.bool)\n",
    "\n",
    "        for _ in range(max_length):\n",
    "            # Obtain the logits, attention_weights, and dec_state forwarding the new_tokens through self.decoder\n",
    "            # use enc_output=enc_output, mask=(input_tokens != 0), state=dec_state\n",
    "            ### START CODE HERE ###\n",
    "            logits, attention_weights, dec_state = self.decoder(new_tokens=new_tokens, enc_output=enc_output, mask=(input_tokens != 0), state=dec_state)\n",
    "            ### END CODE HERE ###\n",
    "            \n",
    "            attention.append(attention_weights)\n",
    "\n",
    "            # Obtain the next token by using the self.sample function \n",
    "            ### START CODE HERE ###\n",
    "            new_tokens = self.sample(logits)\n",
    "            ### END CODE HERE ###\n",
    "\n",
    "            # If a sequence produces an `end_token`, set it `done`\n",
    "            done = done | (new_tokens == self.end_token)\n",
    "            # Once a sequence is done it only produces 0-padding\n",
    "            new_tokens = tf.where(done, tf.constant(0, dtype=tf.int64), new_tokens)\n",
    "\n",
    "            # Collect the generated tokens\n",
    "            result_tokens.append(new_tokens)\n",
    "\n",
    "            if tf.executing_eagerly() and tf.reduce_all(done):\n",
    "                break\n",
    "\n",
    "        # Convert the list of generates token indices to a list of strings\n",
    "        result_tokens = tf.concat(result_tokens, axis=-1)\n",
    "        result_text = self.tokens_to_text(result_tokens)\n",
    "\n",
    "        attention_stack = tf.concat(attention, axis=1)\n",
    "        return result_text, attention_stack"
   ]
  },
  {
   "cell_type": "markdown",
   "metadata": {},
   "source": [
    "Instantiate here below a translator by using the trained encoder and decoder."
   ]
  },
  {
   "cell_type": "code",
   "execution_count": 22,
   "metadata": {},
   "outputs": [],
   "source": [
    "# Build the TranslatorModelInference\n",
    "### START CODE HERE ###\n",
    "translator = TranslatorModelInference(\n",
    "                                    encoder=train_translator.encoder,\n",
    "                                    decoder=train_translator.decoder,\n",
    "                                    input_text_processor=input_text_processor,\n",
    "                                    output_text_processor=output_text_processor)\n",
    "### END CODE HERE ###"
   ]
  },
  {
   "cell_type": "markdown",
   "metadata": {},
   "source": [
    "Use the translator to translate sentences! Let's first (first cell here below) try to use the `token_to_text` and the `sample` methods separately and then (next cell) use the complete `translate` method to obtain the English version of an Italian sentence."
   ]
  },
  {
   "cell_type": "code",
   "execution_count": 23,
   "metadata": {},
   "outputs": [
    {
     "data": {
      "text/plain": [
       "<tf.Tensor: shape=(5, 1), dtype=int64, numpy=\n",
       "array([[1454],\n",
       "       [  63],\n",
       "       [1827],\n",
       "       [2273],\n",
       "       [1610]])>"
      ]
     },
     "execution_count": 23,
     "metadata": {},
     "output_type": "execute_result"
    }
   ],
   "source": [
    "example_output_tokens = tf.random.uniform(shape=[5, 2], minval=0, dtype=tf.int64, maxval=output_text_processor.vocabulary_size())\n",
    "translator.tokens_to_text(example_output_tokens).numpy()\n",
    "\n",
    "example_logits = tf.random.normal([5, 1, output_text_processor.vocabulary_size()])\n",
    "example_output_tokens = translator.sample(example_logits)\n",
    "example_output_tokens"
   ]
  },
  {
   "cell_type": "code",
   "execution_count": 24,
   "metadata": {},
   "outputs": [
    {
     "name": "stdout",
     "output_type": "stream",
     "text": [
      "tom seems cool .\n",
      "this is my one .\n",
      "we hired tom .\n",
      "\n",
      "[1.         1.         0.99999994 1.0000001  1.0000001  1.        ]\n"
     ]
    },
    {
     "data": {
      "image/png": "[encoded data removed]",
      "text/plain": [
       "<Figure size 640x480 with 1 Axes>"
      ]
     },
     "metadata": {},
     "output_type": "display_data"
    },
    {
     "data": {
      "image/png": "[encoded data removed]",
      "text/plain": [
       "<Figure size 640x480 with 1 Axes>"
      ]
     },
     "metadata": {},
     "output_type": "display_data"
    },
    {
     "data": {
      "image/png": "[encoded data removed]",
      "text/plain": [
       "<Figure size 1000x1000 with 1 Axes>"
      ]
     },
     "metadata": {},
     "output_type": "display_data"
    }
   ],
   "source": [
    "input_text = tf.constant([\n",
    "                        'Tom sembra rilassato.',\n",
    "                        'Questa è la mia vita.',\n",
    "                        'Lui vorrebbe cucinare.'])\n",
    "\n",
    "# Translate the input_text using the translate method of translator\n",
    "### START CODE HERE ###\n",
    "result, attention = translator.translate(input_text=input_text)\n",
    "### END CODE HERE ###\n",
    "\n",
    "print(result[0].numpy().decode())\n",
    "print(result[1].numpy().decode())\n",
    "print(result[2].numpy().decode())\n",
    "print()\n",
    "\n",
    "a = attention[1]\n",
    "\n",
    "print(np.sum(a, axis=-1))\n",
    "plt.figure()\n",
    "_ = plt.bar(range(len(a[0, :])), a[0, :])\n",
    "plt.figure()\n",
    "plt.imshow(np.array(a), vmin=0.0)\n",
    "\n",
    "i = 1\n",
    "plot_attention(attention[i], input_text[i], result[i])"
   ]
  },
  {
   "cell_type": "markdown",
   "metadata": {},
   "source": [
    "You just created a neural machine translation model with attention, congratulations! If it is good enough you can also use it instead of Google Translate :) If you want to increase the performance you can try to implement a [Transformer model](https://www.tensorflow.org/text/tutorials/transformer).\n",
    "\n",
    "**This was also the last HDA lab... we hope you enjoyed the laboratory sessions and you understood better the different learning strategies by implementing them in practice to solve human-related problems. Thank you for attending the labs and the best of luck for your future! :)**\n",
    "\n",
    "**Francesca and Silvia**"
   ]
  }
 ],
 "metadata": {
  "kernelspec": {
   "display_name": "Python 3 (ipykernel)",
   "language": "python",
   "name": "python3"
  },
  "language_info": {
   "codemirror_mode": {
    "name": "ipython",
    "version": 3
   },
   "file_extension": ".py",
   "mimetype": "text/x-python",
   "name": "python",
   "nbconvert_exporter": "python",
   "pygments_lexer": "ipython3",
   "version": "3.10.8"
  },
  "vscode": {
   "interpreter": {
    "hash": "2dbd5f52e176f26a59a7f95f14a81615dde9e9336e1642592a7a0db563ccdd35"
   }
  }
 },
 "nbformat": 4,
 "nbformat_minor": 4
}
