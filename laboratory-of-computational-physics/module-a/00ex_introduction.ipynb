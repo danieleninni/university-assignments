{
 "cells": [
  {
   "cell_type": "markdown",
   "metadata": {},
   "source": [
    "1. The MickeyMouse problem\n",
    "\n",
    "a) Write a program that prints the numbers from 1 to 100. But for multiples of three print Mickey instead of the number and for the multiples of five print Mouse. For numbers which are multiples of both three and five print MickeyMouse\n",
    "\n",
    "b) Put the result in a tuple and substitute Mickey with Donald and Mouse with Duck"
   ]
  },
  {
   "cell_type": "code",
   "execution_count": 1,
   "metadata": {},
   "outputs": [
    {
     "name": "stdout",
     "output_type": "stream",
     "text": [
      "1\n",
      "2\n",
      "Mickey\n",
      "4\n",
      "Mouse\n",
      "Mickey\n",
      "7\n",
      "8\n",
      "Mickey\n",
      "Mouse\n",
      "11\n",
      "Mickey\n",
      "13\n",
      "14\n",
      "MickeyMouse\n",
      "16\n",
      "17\n",
      "Mickey\n",
      "19\n",
      "Mouse\n",
      "Mickey\n",
      "22\n",
      "23\n",
      "Mickey\n",
      "Mouse\n",
      "26\n",
      "Mickey\n",
      "28\n",
      "29\n",
      "MickeyMouse\n",
      "31\n",
      "32\n",
      "Mickey\n",
      "34\n",
      "Mouse\n",
      "Mickey\n",
      "37\n",
      "38\n",
      "Mickey\n",
      "Mouse\n",
      "41\n",
      "Mickey\n",
      "43\n",
      "44\n",
      "MickeyMouse\n",
      "46\n",
      "47\n",
      "Mickey\n",
      "49\n",
      "Mouse\n",
      "Mickey\n",
      "52\n",
      "53\n",
      "Mickey\n",
      "Mouse\n",
      "56\n",
      "Mickey\n",
      "58\n",
      "59\n",
      "MickeyMouse\n",
      "61\n",
      "62\n",
      "Mickey\n",
      "64\n",
      "Mouse\n",
      "Mickey\n",
      "67\n",
      "68\n",
      "Mickey\n",
      "Mouse\n",
      "71\n",
      "Mickey\n",
      "73\n",
      "74\n",
      "MickeyMouse\n",
      "76\n",
      "77\n",
      "Mickey\n",
      "79\n",
      "Mouse\n",
      "Mickey\n",
      "82\n",
      "83\n",
      "Mickey\n",
      "Mouse\n",
      "86\n",
      "Mickey\n",
      "88\n",
      "89\n",
      "MickeyMouse\n",
      "91\n",
      "92\n",
      "Mickey\n",
      "94\n",
      "Mouse\n",
      "Mickey\n",
      "97\n",
      "98\n",
      "Mickey\n",
      "Mouse\n",
      "\n",
      "Original list:\n",
      " [1, 2, 'Mickey', 4, 'Mouse', 'Mickey', 7, 8, 'Mickey', 'Mouse', 11, 'Mickey', 13, 14, 'MickeyMouse', 16, 17, 'Mickey', 19, 'Mouse', 'Mickey', 22, 23, 'Mickey', 'Mouse', 26, 'Mickey', 28, 29, 'MickeyMouse', 31, 32, 'Mickey', 34, 'Mouse', 'Mickey', 37, 38, 'Mickey', 'Mouse', 41, 'Mickey', 43, 44, 'MickeyMouse', 46, 47, 'Mickey', 49, 'Mouse', 'Mickey', 52, 53, 'Mickey', 'Mouse', 56, 'Mickey', 58, 59, 'MickeyMouse', 61, 62, 'Mickey', 64, 'Mouse', 'Mickey', 67, 68, 'Mickey', 'Mouse', 71, 'Mickey', 73, 74, 'MickeyMouse', 76, 77, 'Mickey', 79, 'Mouse', 'Mickey', 82, 83, 'Mickey', 'Mouse', 86, 'Mickey', 88, 89, 'MickeyMouse', 91, 92, 'Mickey', 94, 'Mouse', 'Mickey', 97, 98, 'Mickey', 'Mouse']\n",
      "\n",
      "Edited list:\n",
      " [1, 2, 'Donald', 4, 'Duck', 'Donald', 7, 8, 'Donald', 'Duck', 11, 'Donald', 13, 14, 'MickeyMouse', 16, 17, 'Donald', 19, 'Duck', 'Donald', 22, 23, 'Donald', 'Duck', 26, 'Donald', 28, 29, 'MickeyMouse', 31, 32, 'Donald', 34, 'Duck', 'Donald', 37, 38, 'Donald', 'Duck', 41, 'Donald', 43, 44, 'MickeyMouse', 46, 47, 'Donald', 49, 'Duck', 'Donald', 52, 53, 'Donald', 'Duck', 56, 'Donald', 58, 59, 'MickeyMouse', 61, 62, 'Donald', 64, 'Duck', 'Donald', 67, 68, 'Donald', 'Duck', 71, 'Donald', 73, 74, 'MickeyMouse', 76, 77, 'Donald', 79, 'Duck', 'Donald', 82, 83, 'Donald', 'Duck', 86, 'Donald', 88, 89, 'MickeyMouse', 91, 92, 'Donald', 94, 'Duck', 'Donald', 97, 98, 'Donald', 'Duck']\n",
      "\n",
      "Final tuple:\n",
      " (1, 2, 'Donald', 4, 'Duck', 'Donald', 7, 8, 'Donald', 'Duck', 11, 'Donald', 13, 14, 'MickeyMouse', 16, 17, 'Donald', 19, 'Duck', 'Donald', 22, 23, 'Donald', 'Duck', 26, 'Donald', 28, 29, 'MickeyMouse', 31, 32, 'Donald', 34, 'Duck', 'Donald', 37, 38, 'Donald', 'Duck', 41, 'Donald', 43, 44, 'MickeyMouse', 46, 47, 'Donald', 49, 'Duck', 'Donald', 52, 53, 'Donald', 'Duck', 56, 'Donald', 58, 59, 'MickeyMouse', 61, 62, 'Donald', 64, 'Duck', 'Donald', 67, 68, 'Donald', 'Duck', 71, 'Donald', 73, 74, 'MickeyMouse', 76, 77, 'Donald', 79, 'Duck', 'Donald', 82, 83, 'Donald', 'Duck', 86, 'Donald', 88, 89, 'MickeyMouse', 91, 92, 'Donald', 94, 'Duck', 'Donald', 97, 98, 'Donald', 'Duck')\n"
     ]
    }
   ],
   "source": [
    "my_list = []   # will contain the results\n",
    "\n",
    "# question 'a'\n",
    "for i in range(1, 101):\n",
    "    if i%3 == 0:\n",
    "        if i%5 == 0:\n",
    "            print(\"MickeyMouse\")\n",
    "            my_list.append(\"MickeyMouse\")\n",
    "        else:\n",
    "            print(\"Mickey\")\n",
    "            my_list.append(\"Mickey\")\n",
    "    elif i%5 == 0:\n",
    "        print(\"Mouse\")\n",
    "        my_list.append(\"Mouse\")\n",
    "    else:\n",
    "        print(i)\n",
    "        my_list.append(i)\n",
    "        \n",
    "# question 'b'\n",
    "print(\"\\nOriginal list:\\n\", my_list)\n",
    "\n",
    "for i in range(len(my_list)):\n",
    "    if my_list[i] == \"Mickey\":\n",
    "        my_list[i] = \"Donald\"\n",
    "    elif my_list[i] == \"Mouse\":\n",
    "        my_list[i] = \"Duck\"\n",
    "print(\"\\nEdited list:\\n\", my_list)\n",
    "\n",
    "my_tuple = tuple(my_list)\n",
    "print(\"\\nFinal tuple:\\n\", my_tuple)"
   ]
  },
  {
   "cell_type": "markdown",
   "metadata": {},
   "source": [
    "2\\. The swap function\n",
    "\n",
    "Write a function that swap the values of two input variables x and y (whatever the type). Try to do that also without a temporary variable"
   ]
  },
  {
   "cell_type": "code",
   "execution_count": 2,
   "metadata": {},
   "outputs": [
    {
     "name": "stdout",
     "output_type": "stream",
     "text": [
      "Swap function implemented using a temporary variable\n",
      "Initial value of 'x': 3.14\n",
      "Initial value of 'y': Hello!\n",
      "Final value of 'x': Hello!\n",
      "Final value of 'y': 3.14\n",
      "\n",
      "Swap function implemented without using a temporary variable\n",
      "Initial value of 'x': Hello!\n",
      "Initial value of 'y': 3.14\n",
      "Final value of 'x': 3.14\n",
      "Final value of 'y': Hello!\n"
     ]
    }
   ],
   "source": [
    "# with a temporary variable\n",
    "def swap1(x, y):\n",
    "    temp = x\n",
    "    globals()['x'] = y   # using 'globals()' to edit variables declared outside the function scope\n",
    "    globals()['y'] = temp\n",
    "    \n",
    "x = 3.14\n",
    "y = \"Hello!\"\n",
    "print(\"Swap function implemented using a temporary variable\")\n",
    "print(\"Initial value of 'x':\", x)\n",
    "print(\"Initial value of 'y':\", y)\n",
    "swap1(x, y)\n",
    "print(\"Final value of 'x':\", x)\n",
    "print(\"Final value of 'y':\", y)\n",
    "\n",
    "# without a temporary variable\n",
    "def swap2(x, y):\n",
    "    globals()['x'] = y\n",
    "    globals()['y'] = x\n",
    "\n",
    "print(\"\\nSwap function implemented without using a temporary variable\")\n",
    "print(\"Initial value of 'x':\", x)\n",
    "print(\"Initial value of 'y':\", y)\n",
    "swap2(x, y)\n",
    "print(\"Final value of 'x':\", x)\n",
    "print(\"Final value of 'y':\", y)"
   ]
  },
  {
   "cell_type": "markdown",
   "metadata": {},
   "source": [
    "3\\. Computing the distance\n",
    "\n",
    "Write a function that calculates and returns the euclidean distance between two points *u* and *v*, where *u* and *v* are both 2-tuples *(x,y)*. For example, if *u=(3,0)* and *v=(0,4)*, the function should return 5"
   ]
  },
  {
   "cell_type": "code",
   "execution_count": 3,
   "metadata": {},
   "outputs": [
    {
     "name": "stdout",
     "output_type": "stream",
     "text": [
      "u = (3, 0)\n",
      "v = (0, 4)\n",
      "Euclidean distance between 'u' and 'v': 5.0\n"
     ]
    }
   ],
   "source": [
    "def distance(u, v):\n",
    "    res = ((v[0]-u[0])**2 + (v[1]-u[1])**2)**(1/2)\n",
    "    return res\n",
    "    \n",
    "u = (3, 0)\n",
    "v = (0, 4)\n",
    "print(\"u =\", u)\n",
    "print(\"v =\", v)\n",
    "print(\"Euclidean distance between 'u' and 'v':\", distance(u, v))"
   ]
  },
  {
   "cell_type": "markdown",
   "metadata": {},
   "source": [
    "4\\. Counting letters\n",
    "\n",
    "Write a program to calculate the number of times each character occurs in a given string *s*. Ignore differneces in capitalization"
   ]
  },
  {
   "cell_type": "code",
   "execution_count": 4,
   "metadata": {},
   "outputs": [
    {
     "name": "stdout",
     "output_type": "stream",
     "text": [
      "The character 'w' occurs 2 times.\n",
      "The character 'r' occurs 17 times.\n",
      "The character 'i' occurs 14 times.\n",
      "The character 't' occurs 19 times.\n",
      "The character 'e' occurs 22 times.\n",
      "The character ' ' occurs 41 times.\n",
      "The character 'a' occurs 7 times.\n",
      "The character 'p' occurs 8 times.\n",
      "The character 'o' occurs 13 times.\n",
      "The character 'g' occurs 1 times.\n",
      "The character 'm' occurs 12 times.\n",
      "The character 'h' occurs 9 times.\n",
      "The character 'n' occurs 10 times.\n",
      "The character 's' occurs 9 times.\n",
      "The character 'u' occurs 9 times.\n",
      "The character 'b' occurs 5 times.\n",
      "The character 'f' occurs 10 times.\n",
      "The character '1' occurs 2 times.\n",
      "The character '0' occurs 2 times.\n",
      "The character '.' occurs 2 times.\n",
      "The character 'l' occurs 6 times.\n",
      "The character 'c' occurs 3 times.\n",
      "The character 'k' occurs 2 times.\n",
      "The character 'y' occurs 2 times.\n",
      "The character 'd' occurs 3 times.\n",
      "The character 'v' occurs 2 times.\n"
     ]
    }
   ],
   "source": [
    "s = \"Write a program that prints the numbers from 1 to 100. \\\n",
    "But for multiples of three print Mickey instead of the number and for the multiples of five print Mouse. \\\n",
    "For numbers which are multiples of both three and five print MickeyMouse\"\n",
    "\n",
    "def occurrences(s):   # counts the occurrence of each character in a given string 's'\n",
    "    characters = [[x, 1] for x in s.lower()]   # list of lists of the type [character 'x', occurrence of the character 'x' in the string 's'] -> using 's.lower()' to ignore differences in capitalization\n",
    "    for i in characters:\n",
    "        i_index = characters.index(i)\n",
    "        for j in characters[i_index+1:]:\n",
    "            if i[0] == j[0]:\n",
    "                i[1] += 1\n",
    "                characters.remove(j)\n",
    "    for i in characters:\n",
    "        print(\"The character '\" + i[0] + \"' occurs \" + str(i[1]) + \" times.\")\n",
    "\n",
    "occurrences(s)"
   ]
  },
  {
   "cell_type": "markdown",
   "metadata": {},
   "source": [
    "5\\. Isolating the unique\n",
    "\n",
    "Write a function that determines and count the unique numbers in the list *l*"
   ]
  },
  {
   "cell_type": "code",
   "execution_count": 5,
   "metadata": {},
   "outputs": [
    {
     "name": "stdout",
     "output_type": "stream",
     "text": [
      "List:\n",
      " [36, 45, 58, 3, 74, 96, 64, 45, 31, 10, 24, 19, 33, 86, 99, 18, 63, 70, 85, 85, 63, 47, 56, 42, 70, 84, 88, 55, 20, 54, 8, 56, 51, 79, 81, 57, 37, 91, 1, 84, 84, 36, 66, 9, 89, 50, 42, 91, 50, 95, 90, 98, 39, 16, 82, 31, 92, 41, 45, 30, 66, 70, 34, 85, 94, 5, 3, 36, 72, 91, 84, 34, 87, 75, 53, 51, 20, 89, 51, 20]\n",
      "\n",
      "Length of the list: 80\n",
      "\n",
      "Unique numbers in the list:\n",
      " [36, 45, 58, 3, 74, 96, 64, 31, 10, 24, 19, 33, 86, 99, 18, 63, 70, 85, 47, 56, 42, 84, 88, 55, 20, 54, 8, 51, 79, 81, 57, 37, 91, 1, 66, 9, 89, 50, 95, 90, 98, 39, 16, 82, 92, 41, 30, 34, 94, 5, 72, 87, 75, 53]\n",
      "\n",
      "# unique numbers in the list: 54\n"
     ]
    }
   ],
   "source": [
    "l = [36, 45, 58, 3, 74, 96, 64, 45, 31, 10, 24, 19, 33, 86, 99, 18, 63, 70, 85,\n",
    " 85, 63, 47, 56, 42, 70, 84, 88, 55, 20, 54, 8, 56, 51, 79, 81, 57, 37, 91,\n",
    " 1, 84, 84, 36, 66, 9, 89, 50, 42, 91, 50, 95, 90, 98, 39, 16, 82, 31, 92, 41,\n",
    " 45, 30, 66, 70, 34, 85, 94, 5, 3, 36, 72, 91, 84, 34, 87, 75, 53, 51, 20, 89, 51, 20]\n",
    "\n",
    "def unique_numbers(l):\n",
    "    uniques = []   # will contain the unique numbers in the list 'l'\n",
    "    for i in l:\n",
    "        if i not in uniques:\n",
    "            uniques.append(i)\n",
    "    print(\"\\nUnique numbers in the list:\\n\", uniques)\n",
    "    print(\"\\n# unique numbers in the list:\", len(uniques))\n",
    "\n",
    "print(\"List:\\n\", l)\n",
    "print(\"\\nLength of the list:\", len(l))\n",
    "unique_numbers(l)"
   ]
  },
  {
   "cell_type": "markdown",
   "metadata": {},
   "source": [
    "6\\. Combination of functions\n",
    "\n",
    "Write two functions - one that returns the square of a number, and one that returns the cube. Now write a third function that returns the number raised to the 6th power using the two previous functions."
   ]
  },
  {
   "cell_type": "code",
   "execution_count": 6,
   "metadata": {},
   "outputs": [
    {
     "name": "stdout",
     "output_type": "stream",
     "text": [
      "5.000000 to the 6th power = 15625.000000\n"
     ]
    }
   ],
   "source": [
    "def square(x):\n",
    "    return x**2\n",
    "\n",
    "def cube(x):\n",
    "    return x**3\n",
    "\n",
    "def sixth_pow(x):\n",
    "    return cube(square(x))\n",
    "\n",
    "x = 5\n",
    "print(\"%f to the 6th power = %f\" % (x, sixth_pow(x)))"
   ]
  },
  {
   "cell_type": "markdown",
   "metadata": {},
   "source": [
    "7\\. Cubes\n",
    "\n",
    "Create a list of the cubes of x for x in *[0, 10]* using:\n",
    "\n",
    "a) a for loop\n",
    "\n",
    "b) a list comprehension"
   ]
  },
  {
   "cell_type": "code",
   "execution_count": 7,
   "metadata": {},
   "outputs": [
    {
     "name": "stdout",
     "output_type": "stream",
     "text": [
      "List of the cubes of 'x' for 'x' in [0,10] using a for loop:\n",
      " [0, 1, 8, 27, 64, 125, 216, 343, 512, 729, 1000]\n",
      "\n",
      "List of the cubes of 'x' for 'x' in [0,10] using a list comprehension:\n",
      " [0, 1, 8, 27, 64, 125, 216, 343, 512, 729, 1000]\n"
     ]
    }
   ],
   "source": [
    "# question 'a'\n",
    "list1 = []\n",
    "for x in range(0, 11):\n",
    "    list1.append(x**3)\n",
    "print(\"List of the cubes of 'x' for 'x' in [0,10] using a for loop:\\n\", list1)\n",
    "\n",
    "# question 'b'\n",
    "list2 = [x**3 for x in range(0, 11)]\n",
    "print(\"\\nList of the cubes of 'x' for 'x' in [0,10] using a list comprehension:\\n\", list2)"
   ]
  },
  {
   "cell_type": "markdown",
   "metadata": {},
   "source": [
    "8\\. Nested list comprehension\n",
    "\n",
    "A Pythagorean triple is an integer solution to the Pythagorean theorem $a^2+b^2=c^2$. The first Pythagorean triple is (3,4,5). Find and put in a tuple all unique Pythagorean triples for the positive integers a, b and c less than 100."
   ]
  },
  {
   "cell_type": "code",
   "execution_count": 8,
   "metadata": {},
   "outputs": [
    {
     "name": "stdout",
     "output_type": "stream",
     "text": [
      "Tuple of Pythagorean triples for the positive integers 'a', 'b' and 'c' less than 100:\n",
      " ((3, 4, 5), (4, 3, 5), (5, 12, 13), (6, 8, 10), (7, 24, 25), (8, 6, 10), (8, 15, 17), (9, 12, 15), (9, 40, 41), (10, 24, 26), (11, 60, 61), (12, 5, 13), (12, 9, 15), (12, 16, 20), (12, 35, 37), (13, 84, 85), (14, 48, 50), (15, 8, 17), (15, 20, 25), (15, 36, 39), (16, 12, 20), (16, 30, 34), (16, 63, 65), (18, 24, 30), (18, 80, 82), (20, 15, 25), (20, 21, 29), (20, 48, 52), (21, 20, 29), (21, 28, 35), (21, 72, 75), (24, 7, 25), (24, 10, 26), (24, 18, 30), (24, 32, 40), (24, 45, 51), (24, 70, 74), (25, 60, 65), (27, 36, 45), (28, 21, 35), (28, 45, 53), (30, 16, 34), (30, 40, 50), (30, 72, 78), (32, 24, 40), (32, 60, 68), (33, 44, 55), (33, 56, 65), (35, 12, 37), (35, 84, 91), (36, 15, 39), (36, 27, 45), (36, 48, 60), (36, 77, 85), (39, 52, 65), (39, 80, 89), (40, 9, 41), (40, 30, 50), (40, 42, 58), (40, 75, 85), (42, 40, 58), (42, 56, 70), (44, 33, 55), (45, 24, 51), (45, 28, 53), (45, 60, 75), (48, 14, 50), (48, 20, 52), (48, 36, 60), (48, 55, 73), (48, 64, 80), (51, 68, 85), (52, 39, 65), (54, 72, 90), (55, 48, 73), (56, 33, 65), (56, 42, 70), (57, 76, 95), (60, 11, 61), (60, 25, 65), (60, 32, 68), (60, 45, 75), (60, 63, 87), (63, 16, 65), (63, 60, 87), (64, 48, 80), (65, 72, 97), (68, 51, 85), (70, 24, 74), (72, 21, 75), (72, 30, 78), (72, 54, 90), (72, 65, 97), (75, 40, 85), (76, 57, 95), (77, 36, 85), (80, 18, 82), (80, 39, 89), (84, 13, 85), (84, 35, 91))\n"
     ]
    }
   ],
   "source": [
    "pyth_list = [(a, b, c) for a in range(1, 100) for b in range(1, 100) for c in range(1, 100) if a**2 + b**2 == c**2]\n",
    "pyth_tuple = tuple(pyth_list)\n",
    "print(\"Tuple of Pythagorean triples for the positive integers 'a', 'b' and 'c' less than 100:\\n\", pyth_tuple)"
   ]
  },
  {
   "cell_type": "markdown",
   "metadata": {},
   "source": [
    "9\\. Normalization\n",
    "\n",
    "Write a function that takes a tuple of numbers and returns it with the entries normalized to one"
   ]
  },
  {
   "cell_type": "code",
   "execution_count": 9,
   "metadata": {},
   "outputs": [
    {
     "name": "stdout",
     "output_type": "stream",
     "text": [
      "Original tuple:\n",
      " (-0.11173826200870884, -0.5679524589965723, -4.270982557544524, -3.7734008773583483, -4.118204981456364, -3.8684135341500543, 6.780525049037802, 0.7424857273007177, -9.982522135715048, -2.275197810284122, -7.612181083964624, -3.008530128116515, -6.551832564594553, -4.342900125997369, 8.748064643279314, -3.6018853072051034, -4.416446765348745, -4.2075083375752005, -7.445757414685064, 8.156206659949525, 8.188378603467374, 4.226053307996613, -3.3107534385821857, -4.89529545183361, 6.080902401289137, 9.535538045396457, -8.0407712488861, -4.258062506939391, -2.7212281923672776, 6.494091764967159)\n",
      "\n",
      "Sum of the entries: -34.42931898092537\n",
      "\n",
      "Tuple with the entries normalized to one:\n",
      " (0.003245439216227727, 0.01649618626819865, 0.12405074175038856, 0.10959847563203032, 0.11961331514393134, 0.11235811943574148, -0.1969404347728855, -0.021565507226909475, 0.2899424801648151, 0.06608314882860836, 0.2210958946989903, 0.08738279516313725, 0.19029805870468766, 0.12613958842472123, -0.254087646872305, 0.10461680375381895, 0.1282757514836572, 0.12220713223826053, 0.21626211714527907, -0.2368971243511453, -0.23783155885261403, -0.1227457711358724, 0.09616087499193401, 0.14218391756588955, -0.1766198862271454, -0.27695982167638467, 0.23354430139442697, 0.12367547871912465, 0.07903810684942389, -0.18862097645803083)\n",
      "\n",
      "Sum of the normalized entries: 1.0\n"
     ]
    }
   ],
   "source": [
    "def normalize(t):\n",
    "    g = []   # will contain the entries normalized to one\n",
    "    for i in t:\n",
    "        g.append(i / sum(t))\n",
    "    return tuple(g)\n",
    "\n",
    "import random\n",
    "l = tuple([random.uniform(-10, 10) for _ in range(30)])\n",
    "print(\"Original tuple:\\n\", l)\n",
    "print(\"\\nSum of the entries:\", sum(l))\n",
    "l = normalize(l)\n",
    "print(\"\\nTuple with the entries normalized to one:\\n\", l)\n",
    "print(\"\\nSum of the normalized entries:\", sum(l))"
   ]
  }
 ],
 "metadata": {
  "kernelspec": {
   "display_name": "Python 3",
   "language": "python",
   "name": "python3"
  },
  "language_info": {
   "codemirror_mode": {
    "name": "ipython",
    "version": 3
   },
   "file_extension": ".py",
   "mimetype": "text/x-python",
   "name": "python",
   "nbconvert_exporter": "python",
   "pygments_lexer": "ipython3",
   "version": "3.8.8"
  }
 },
 "nbformat": 4,
 "nbformat_minor": 4
}
