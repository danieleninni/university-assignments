{
 "cells": [
  {
   "cell_type": "markdown",
   "metadata": {},
   "source": [
    "1\\. Write the following as a list comprehension"
   ]
  },
  {
   "cell_type": "code",
   "execution_count": 1,
   "metadata": {},
   "outputs": [
    {
     "name": "stdout",
     "output_type": "stream",
     "text": [
      "[(0, 0), (0, 1), (0, 2), (0, 3), (1, 0), (1, 1), (1, 2), (1, 3), (2, 0), (2, 1), (2, 2), (2, 3)]\n",
      "[0, 4, 16]\n",
      "\n",
      "List comprehension 1:\n",
      " [(0, 0), (0, 1), (0, 2), (0, 3), (1, 0), (1, 1), (1, 2), (1, 3), (2, 0), (2, 1), (2, 2), (2, 3)]\n",
      "\n",
      "List comprehension 2:\n",
      " [0, 4, 16]\n"
     ]
    }
   ],
   "source": [
    "# 1\n",
    "ans = []\n",
    "for i in range(3):\n",
    "    for j in range(4):\n",
    "        ans.append((i, j))\n",
    "print (ans)\n",
    "\n",
    "# 2\n",
    "ans = map(lambda x: x*x, filter(lambda x: x%2 == 0, range(5)))\n",
    "print (list(ans))\n",
    "\n",
    "# list comprehension 1\n",
    "ans = [(i,j) for i in range(3) for j in range(4)]\n",
    "print(\"\\nList comprehension 1:\\n\", ans)\n",
    "\n",
    "# list comprehension 2\n",
    "ans = [x**2 for x in range(5) if x%2 == 0]\n",
    "print(\"\\nList comprehension 2:\\n\", ans)"
   ]
  },
  {
   "cell_type": "markdown",
   "metadata": {},
   "source": [
    "2\\. Convert the following function into a pure function with no global variables or side effects"
   ]
  },
  {
   "cell_type": "code",
   "execution_count": 2,
   "metadata": {},
   "outputs": [
    {
     "name": "stdout",
     "output_type": "stream",
     "text": [
      "[1, 2, 3, 0, 1, 2, 3, 4]\n",
      "[1, 2, 3, 0, 1, 2, 3, 4]\n",
      "\n",
      "Pure function with no global variables or side effects:\n",
      "ans = g(alist) = [1, 2, 3, 0, 1, 2, 3, 4]\n",
      "alist = [1, 2, 3]\n"
     ]
    }
   ],
   "source": [
    "x = 5\n",
    "def f(alist):\n",
    "    for i in range(x):\n",
    "         alist.append(i)\n",
    "    return alist\n",
    "\n",
    "alist = [1,2,3]\n",
    "ans = f(alist)\n",
    "print (ans)\n",
    "print (alist) # alist has been changed!\n",
    "\n",
    "# pure function with no global variables or side effects\n",
    "def g(alist):\n",
    "    temp = list(alist)\n",
    "    for i in range(x):\n",
    "         temp.append(i)\n",
    "    return temp\n",
    "\n",
    "alist = [1,2,3]\n",
    "ans = g(alist)\n",
    "print(\"\\nPure function with no global variables or side effects:\")\n",
    "print (\"ans = g(alist) =\", ans)\n",
    "print (\"alist =\", alist)   # alist has not been changed"
   ]
  },
  {
   "cell_type": "markdown",
   "metadata": {},
   "source": [
    "3\\. Write a `decorator` hello that makes every wrapped function print “Hello!”, i.e. something like:\n",
    "\n",
    "```python\n",
    "@hello\n",
    "def square(x):\n",
    "    return x*x\n",
    "```\n",
    "\n"
   ]
  },
  {
   "cell_type": "code",
   "execution_count": 3,
   "metadata": {},
   "outputs": [
    {
     "name": "stdout",
     "output_type": "stream",
     "text": [
      "Hello!\n",
      "Square of 8: 64\n"
     ]
    }
   ],
   "source": [
    "def hello(func):\n",
    "    def wrapper(*args):\n",
    "        print(\"Hello!\")\n",
    "        res = func(*args)\n",
    "        return res\n",
    "    return wrapper\n",
    "\n",
    "@hello\n",
    "def square(x):\n",
    "    return x*x\n",
    "\n",
    "x = 8\n",
    "print(\"Square of \" + str(x) + \": \" + str(square(x)))"
   ]
  },
  {
   "cell_type": "markdown",
   "metadata": {},
   "source": [
    "4\\. Write the factorial function so that it a) does and b) does not use recursion."
   ]
  },
  {
   "cell_type": "code",
   "execution_count": 4,
   "metadata": {},
   "outputs": [
    {
     "name": "stdout",
     "output_type": "stream",
     "text": [
      "Factorial of 10 computed using the recursive definition: 3628800\n",
      "Execution time of 'rec_factorial(10)':\n",
      "1.21 µs ± 11.4 ns per loop (mean ± std. dev. of 7 runs, 1000000 loops each)\n",
      "\n",
      "Factorial of 10 computed using the iterative definition: 3628800\n",
      "Execution time of 'iter_factorial(10)':\n",
      "767 ns ± 8.95 ns per loop (mean ± std. dev. of 7 runs, 1000000 loops each)\n"
     ]
    }
   ],
   "source": [
    "# question 'a': recursive definition of factorial\n",
    "def rec_factorial(n):\n",
    "    if n <= 1:\n",
    "        return 1\n",
    "    else:\n",
    "        return n * rec_factorial(n-1)\n",
    "    \n",
    "n = 10\n",
    "print(\"Factorial of \" + str(n) + \" computed using the recursive definition: \" + str(rec_factorial(n)))\n",
    "import timeit\n",
    "print(\"Execution time of 'rec_factorial(%s)':\" % n)\n",
    "%timeit rec_factorial(n)\n",
    "\n",
    "# question 'b': iterative definition of factorial\n",
    "def iter_factorial(n):\n",
    "    res = 1\n",
    "    for i in range(n, 1, -1):\n",
    "        res *= i\n",
    "    return res\n",
    "\n",
    "print(\"\\nFactorial of \" + str(n) + \" computed using the iterative definition: \" + str(iter_factorial(n)))\n",
    "print(\"Execution time of 'iter_factorial(%s)':\" % n)\n",
    "%timeit iter_factorial(n)"
   ]
  },
  {
   "cell_type": "markdown",
   "metadata": {},
   "source": [
    "5\\. Use HOFs (zip in particular) to compute the weight of a circle, a disk and a sphere, assuming different radii and different densities:\n",
    "\n",
    "```python\n",
    "densities = {\"Al\":[0.5,1,2],\"Fe\":[3,4,5],\"Pb\": [15,20,30]}\n",
    "radii = [1,2,3]\n",
    "```\n",
    "\n",
    "where the entries of the dictionary's values are the linear, superficial and volumetric densities of the materials respectively.\n",
    "\n",
    "In particular define a list of three lambda functions using a comprehension that computes the circumference, the area and the volume for a given radius."
   ]
  },
  {
   "cell_type": "code",
   "execution_count": 5,
   "metadata": {},
   "outputs": [
    {
     "name": "stdout",
     "output_type": "stream",
     "text": [
      "Material: Al\n",
      "Density: 0.5\n",
      "Radius: 1\n",
      "Circumference of the circle: 6.283185307179586\n",
      "Weight: 3.141592653589793\n",
      "\n",
      "Material: Al\n",
      "Density: 1\n",
      "Radius: 2\n",
      "Area of the disk: 12.566370614359172\n",
      "Weight: 12.566370614359172\n",
      "\n",
      "Material: Al\n",
      "Density: 2\n",
      "Radius: 3\n",
      "Volume of the sphere: 113.09733552923254\n",
      "Weight: 226.19467105846508\n",
      "\n",
      "Material: Fe\n",
      "Density: 3\n",
      "Radius: 1\n",
      "Circumference of the circle: 6.283185307179586\n",
      "Weight: 18.84955592153876\n",
      "\n",
      "Material: Fe\n",
      "Density: 4\n",
      "Radius: 2\n",
      "Area of the disk: 12.566370614359172\n",
      "Weight: 50.26548245743669\n",
      "\n",
      "Material: Fe\n",
      "Density: 5\n",
      "Radius: 3\n",
      "Volume of the sphere: 113.09733552923254\n",
      "Weight: 565.4866776461627\n",
      "\n",
      "Material: Pb\n",
      "Density: 15\n",
      "Radius: 1\n",
      "Circumference of the circle: 6.283185307179586\n",
      "Weight: 94.24777960769379\n",
      "\n",
      "Material: Pb\n",
      "Density: 20\n",
      "Radius: 2\n",
      "Area of the disk: 12.566370614359172\n",
      "Weight: 251.32741228718345\n",
      "\n",
      "Material: Pb\n",
      "Density: 30\n",
      "Radius: 3\n",
      "Volume of the sphere: 113.09733552923254\n",
      "Weight: 3392.920065876976\n",
      "\n"
     ]
    }
   ],
   "source": [
    "densities = {\"Al\":[0.5,1,2],\"Fe\":[3,4,5],\"Pb\": [15,20,30]}\n",
    "radii = [1,2,3]\n",
    "\n",
    "import math as m\n",
    "coeffs = [2*m.pi, m.pi, (4/3)*m.pi]   # coefficients of 'r' in the formulas for circumference, area and volume respectively\n",
    "quantities = [\"Circumference of the circle:\", \"Area of the disk:\", \"Volume of the sphere:\"]\n",
    "funcs = [lambda r, i=i: coeffs[i-1]*(r**i) for i in range(1, 4)]   # 'i=i' -> default argument\n",
    "\n",
    "for material in densities:\n",
    "    for density, radius, func in zip(densities[material], radii, funcs):\n",
    "        print(\"Material:\", material)\n",
    "        print(\"Density:\", density)\n",
    "        print(\"Radius:\", radius)\n",
    "        index = funcs.index(func)\n",
    "        print(quantities[index], func(radius))\n",
    "        result = func(radius)*density\n",
    "        print(\"Weight: \"+ str(result) + \"\\n\")"
   ]
  },
  {
   "cell_type": "markdown",
   "metadata": {},
   "source": [
    "6\\. Edit the class defintion to add an instance attribute of is_hungry = True to the Dog class. Then add a method called eat() which changes the value of is_hungry to False when called. Figure out the best way to feed each dog and then output “My dogs are hungry.” if all are hungry or “My dogs are not hungry.” if all are not hungry. The final output should look like this:\n",
    "\n",
    "`I have 3 dogs. \n",
    "Tom is 6. \n",
    "Fletcher is 7. \n",
    "Larry is 9. \n",
    "And they're all mammals, of course. \n",
    "My dogs are not hungry.\n",
    "`\n",
    "\n",
    "```python\n",
    "# Parent class\n",
    "class Dog:\n",
    "\n",
    "    # Class attribute\n",
    "    species = 'mammal'\n",
    "\n",
    "    # Initializer / Instance attributes\n",
    "    def __init__(self, name, age):\n",
    "        self.name = name\n",
    "        self.age = age\n",
    "\n",
    "    # instance method\n",
    "    def description(self):\n",
    "        return \"{} is {} years old\".format(self.name, self.age)\n",
    "\n",
    "    # instance method\n",
    "    def speak(self, sound):\n",
    "        return \"{} says {}\".format(self.name, sound)\n",
    "\n",
    "# Child class (inherits from Dog class)\n",
    "class RussellTerrier(Dog):\n",
    "    def run(self, speed):\n",
    "        return \"{} runs {}\".format(self.name, speed)\n",
    "\n",
    "# Child class (inherits from Dog class)\n",
    "class Bulldog(Dog):\n",
    "    def run(self, speed):\n",
    "        return \"{} runs {}\".format(self.name, speed)\n",
    "```"
   ]
  },
  {
   "cell_type": "code",
   "execution_count": 6,
   "metadata": {},
   "outputs": [
    {
     "name": "stdout",
     "output_type": "stream",
     "text": [
      "I have 3 dogs.\n",
      "Tom is 6.\n",
      "Fletcher is 7.\n",
      "Larry is 9.\n",
      "And they're all mammals, of course.\n",
      "My dogs are not hungry.\n"
     ]
    }
   ],
   "source": [
    "# Parent class\n",
    "class Dog:\n",
    "\n",
    "    # Class attribute\n",
    "    species = 'mammal'\n",
    "\n",
    "    # Initializer / Instance attributes\n",
    "    def __init__(self, name, age):\n",
    "        self.name = name\n",
    "        self.age = age\n",
    "        self.is_hungry = True   # new instance attribute\n",
    "        \n",
    "    # instance method\n",
    "    def description(self):\n",
    "        return \"{} is {} years old\".format(self.name, self.age)\n",
    "\n",
    "    # instance method\n",
    "    def speak(self, sound):\n",
    "        return \"{} says {}\".format(self.name, sound)\n",
    "    \n",
    "    def eat(self):   # new instance method\n",
    "        self.is_hungry = False\n",
    "\n",
    "# Child class (inherits from Dog class)\n",
    "class RussellTerrier(Dog):\n",
    "    def run(self, speed):\n",
    "        return \"{} runs {}\".format(self.name, speed)\n",
    "\n",
    "# Child class (inherits from Dog class)\n",
    "class Bulldog(Dog):\n",
    "    def run(self, speed):\n",
    "        return \"{} runs {}\".format(self.name, speed)\n",
    "\n",
    "#######################################################################################\n",
    "    \n",
    "dogs = [Dog(\"Tom\", 6), Dog(\"Fletcher\", 7), Dog(\"Larry\", 9)]\n",
    "\n",
    "for i in dogs:\n",
    "    i.eat()\n",
    "    \n",
    "all_mammals = True   # will be used as a boolean to check if all dogs are mammals\n",
    "hungry = 0   # will count how many dogs are hungry\n",
    "\n",
    "print(\"I have %d dogs.\" % len(dogs))\n",
    "\n",
    "for i in dogs:\n",
    "    print(i.name + \" is \" + str(i.age) + \".\")\n",
    "    if i.species != \"mammal\":\n",
    "        all_mammals = False\n",
    "    if i.is_hungry == True:\n",
    "        hungry += 1\n",
    "        \n",
    "if all_mammals == False:\n",
    "    print(\"They are not all mammals.\")\n",
    "else:\n",
    "    print(\"And they're all mammals, of course.\")\n",
    "    \n",
    "if hungry == len(dogs):\n",
    "    print(\"My dogs are hungry.\")\n",
    "elif hungry == 0:\n",
    "    print(\"My dogs are not hungry.\")"
   ]
  }
 ],
 "metadata": {
  "kernelspec": {
   "display_name": "Python 3",
   "language": "python",
   "name": "python3"
  },
  "language_info": {
   "codemirror_mode": {
    "name": "ipython",
    "version": 3
   },
   "file_extension": ".py",
   "mimetype": "text/x-python",
   "name": "python",
   "nbconvert_exporter": "python",
   "pygments_lexer": "ipython3",
   "version": "3.8.8"
  }
 },
 "nbformat": 4,
 "nbformat_minor": 4
}
