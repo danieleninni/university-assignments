{
 "cells": [
  {
   "cell_type": "code",
   "execution_count": 27,
   "metadata": {},
   "outputs": [
    {
     "name": "stdout",
     "output_type": "stream",
     "text": [
      "mkdir: cannot create directory ‘DATA’: File exists\n"
     ]
    }
   ],
   "source": [
    "import numpy as np\n",
    "\n",
    "!mkdir DATA"
   ]
  },
  {
   "cell_type": "code",
   "execution_count": 32,
   "metadata": {},
   "outputs": [
    {
     "name": "stdout",
     "output_type": "stream",
     "text": [
      "random numbers from seed 12345: [0.92961609 0.31637555 0.18391881 0.20456028]\n",
      "[0 0 0 0 1 1 1 0 0 0 1 1 0 0 0 0] 1\n",
      "[1 1 1 1 0 0 0 1 1 0 0 1 1 1 1 0] 2\n",
      "[1 1 1 1 1 1 1 0 1 1 0 1 1 0 0 0] 0\n",
      "[0 0 0 0 1 1 1 0 0 1 1 1 0 0 0 0] 1\n",
      "[1 1 0 0 0 0 0 0 0 1 0 0 1 0 1 1] 2\n",
      "[0 0 0 0 0 1 1 1 0 1 1 1 1 0 0 1] 3\n",
      "[1 1 1 1 1 0 0 1 0 0 0 0 1 1 1 0] 2\n",
      "[0 0 0 1 0 1 1 0 1 1 1 1 1 0 0 1] 1\n",
      "[1 1 0 0 0 1 0 0 1 1 1 0 1 1 0 0] 0\n",
      "[0 1 1 0 0 0 0 0 0 0 0 0 1 0 1 1] 2\n",
      "[1 1 1 1 1 1 0 0 0 0 1 0 0 0 1 0] 0\n",
      "[0 0 1 0 1 0 1 0 1 1 1 1 0 1 0 0] 0\n",
      "...\n"
     ]
    }
   ],
   "source": [
    "# random seed for reproducibility\n",
    "np.random.seed(12345)\n",
    "print(\"random numbers from seed 12345:\",np.random.random(4))\n",
    "    \n",
    "# number of data\n",
    "N=10000\n",
    "# 4 intervals of length Z=L/4, each containing a set of 1's or 0's\n",
    "Z=4\n",
    "# size of each data point\n",
    "L=Z*4\n",
    "# choose among states (1,0,1,0), (0,1,1,0), (1,0,0,1), (0,1,0,1) \n",
    "# from a 2x2 product of (1,0)x(1,0), with prob=1/4\n",
    "# then\n",
    "# Noise: switch each of L bits with probability q\n",
    "q=0.3\n",
    "\n",
    "x,y = np.zeros((N,L)),np.zeros(N)\n",
    "vec1 = np.ones(Z)  \n",
    "\n",
    "def ones(n,i,j):\n",
    "    x[n][Z*i:Z*(i+1)] = vec1\n",
    "    x[n][2*Z+Z*j:2*Z+Z*(j+1)] = vec1\n",
    "    \n",
    "for n in range(N):\n",
    "    a = np.random.randint(0,2)\n",
    "    b = np.random.randint(0,2)\n",
    "    y[n] = a+b*2\n",
    "    ones(n,a,b)\n",
    "    \n",
    "    for j in range(L):\n",
    "        if np.random.random()<q:\n",
    "             x[n][j] = 1-x[n][j]\n",
    "                \n",
    "x,y = x.astype(int),y.astype(int)\n",
    "\n",
    "for n in range(min(12,N)):\n",
    "    print(x[n],y[n])\n",
    "print(\"...\")\n",
    "    \n",
    "np.savetxt('DATA/x_RBM_q'+str(q)+'.dat',x,delimiter=\" \",fmt=\"%d\")\n",
    "np.savetxt('DATA/y_RBM_q'+str(q)+'.dat',y,fmt=\"%d\")"
   ]
  }
 ],
 "metadata": {
  "kernelspec": {
   "display_name": "Python 3 (ipykernel)",
   "language": "python",
   "name": "python3"
  },
  "language_info": {
   "codemirror_mode": {
    "name": "ipython",
    "version": 3
   },
   "file_extension": ".py",
   "mimetype": "text/x-python",
   "name": "python",
   "nbconvert_exporter": "python",
   "pygments_lexer": "ipython3",
   "version": "3.10.2"
  }
 },
 "nbformat": 4,
 "nbformat_minor": 4
}
